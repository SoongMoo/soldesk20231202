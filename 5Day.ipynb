{
 "cells": [
  {
   "cell_type": "code",
   "execution_count": 2,
   "id": "20b38d54-f444-4b7c-b415-18fff45e0a33",
   "metadata": {},
   "outputs": [],
   "source": [
    "# 유니버설 함수(UFuncs)\n",
    "import numpy as np\n",
    "l1 = [1,2,3]\n",
    "l2 = [3,2,1]\n",
    "x = np.array([1,2,3])\n",
    "y = np.array([3,2,1])"
   ]
  },
  {
   "cell_type": "code",
   "execution_count": 4,
   "id": "a7baf0b2-d9b1-449f-8f56-0d3243cea58b",
   "metadata": {},
   "outputs": [
    {
     "name": "stdout",
     "output_type": "stream",
     "text": [
      "[1, 2, 3, 3, 2, 1]\n",
      "[4 4 4]\n"
     ]
    }
   ],
   "source": [
    "result = l1 + l2\n",
    "print(result)\n",
    "result = x + y # 더하기 연산\n",
    "print(result)"
   ]
  },
  {
   "cell_type": "code",
   "execution_count": 5,
   "id": "15b379ad-264a-4b43-a640-59d186fbe5e0",
   "metadata": {},
   "outputs": [],
   "source": [
    "def add(l1 , l2):\n",
    "    l4 = []\n",
    "    for idx in range(0, len(x)):\n",
    "        l4.append(l1[idx] + l2[idx])\n",
    "    return l4"
   ]
  },
  {
   "cell_type": "code",
   "execution_count": 6,
   "id": "61e5dc37-8f65-4611-9f2a-4863f4adb346",
   "metadata": {},
   "outputs": [
    {
     "name": "stdout",
     "output_type": "stream",
     "text": [
      "[4, 4, 4]\n"
     ]
    }
   ],
   "source": [
    "result = add(l1, l2)\n",
    "print(result)"
   ]
  },
  {
   "cell_type": "code",
   "execution_count": 15,
   "id": "54ff8479-dc21-4fbf-9ecf-47a8279474fa",
   "metadata": {},
   "outputs": [
    {
     "name": "stdout",
     "output_type": "stream",
     "text": [
      "[4 4 4]\n",
      "[4 4 4]\n",
      "[-2  0  2]\n",
      "[-2  0  2]\n",
      "[3 4 3]\n",
      "[3 4 3]\n",
      "[0.33333333 1.         3.        ]\n",
      "[1 4 3]\n",
      "[0 1 3]\n",
      "[1 0 0]\n"
     ]
    }
   ],
   "source": [
    "result = x + y # 배열인 경우 덧셈\n",
    "print(result)\n",
    "result = np.add(x, y)\n",
    "print(result)\n",
    "result = x - y\n",
    "print(result)\n",
    "result = np.subtract(x , y)\n",
    "print(result)\n",
    "result = x * y\n",
    "print(result)\n",
    "result = np.multiply(x , y)\n",
    "print(result)\n",
    "result = x / y\n",
    "print(result)\n",
    "result = np.divide(x, y)\n",
    "result = x ** y\n",
    "print(result)\n",
    "result = x // y\n",
    "print(result)\n",
    "result = x % y\n",
    "print(result)\n",
    "### 연산자를 사용했을 때 자동으로 실행되는 함수를 유니버셜 함수라고 한다."
   ]
  },
  {
   "cell_type": "code",
   "execution_count": 20,
   "id": "80985f04-6bde-446b-9999-747d0e006964",
   "metadata": {},
   "outputs": [
    {
     "name": "stdout",
     "output_type": "stream",
     "text": [
      "[1 2 3]\n",
      "[6 7 8]\n",
      "[[1]\n",
      " [2]\n",
      " [3]]\n",
      "[[2 3 4]\n",
      " [3 4 5]\n",
      " [4 5 6]]\n"
     ]
    }
   ],
   "source": [
    "# 브로드케스팅 \n",
    "print(x)\n",
    "z = x + 5  # [1 2 3] + 5 # 배열에서는 차원이 같아야 연산을 할 수 있다.\n",
    "                         # 배열과 정수가 연산을 하기 위해서는 정수가 차원이 같은 배열이 되어야 연산을 할 수 있다.\n",
    "           # [1 2 3] + [5 5 5] #  연산을 위해서 같은 차원의 배열이 되는 것 : 브로드케스팅 \n",
    "print(z)\n",
    "y = np.array([[1],[2],[3]]) # 3행 1열짜리 배열\n",
    "print(y)\n",
    "z = x + y  # 배열에서 연산을 하기 위해서는 연산을 하기 위한 배열들은 서로 차원이 같아야 한다.\n",
    "'''\n",
    "[1 2 3] + [[1]    =  [1 2 3] + [[1 1 1]  # 서로 연산을 하기 위해서 차원이 같게 만들어 지는 것  : 브로드케스팅\n",
    "           [2]       [1 2 3]    [2 2 2]  \n",
    "           [3]]      [1 2 3]    [3 3 3]]\n",
    "'''\n",
    "print(z)"
   ]
  },
  {
   "cell_type": "code",
   "execution_count": 24,
   "id": "ff9cbc7e-50ba-4a73-abbf-2eaf48ea981d",
   "metadata": {},
   "outputs": [
    {
     "name": "stdout",
     "output_type": "stream",
     "text": [
      "[0. 0. 0.]\n",
      "[[0. 0. 0.]\n",
      " [0. 0. 0.]\n",
      " [0. 0. 0.]]\n",
      "[1. 1. 1.]\n",
      "[[1. 1. 1.]\n",
      " [1. 1. 1.]\n",
      " [1. 1. 1.]]\n"
     ]
    }
   ],
   "source": [
    "#넘파이함수\n",
    "# 제로행열\n",
    "m = np.zeros(3)\n",
    "print(m)\n",
    "m = np.zeros((3,3))\n",
    "print(m)\n",
    "# 원(1) 행열\n",
    "m = np.ones(3)\n",
    "print(m)\n",
    "m = np.ones((3,3))\n",
    "print(m)"
   ]
  },
  {
   "cell_type": "code",
   "execution_count": 36,
   "id": "8e0cf9f0-e9af-4b09-aaeb-0eed09d217a7",
   "metadata": {},
   "outputs": [
    {
     "name": "stdout",
     "output_type": "stream",
     "text": [
      "6\n",
      "1\n",
      "3\n",
      "[0.6122399  0.99299708 0.36254709]\n",
      "1.9677840679983503\n",
      "0.3625470882134232\n",
      "0.9929970772519271\n",
      "6\n",
      "1.9677840679983503\n"
     ]
    }
   ],
   "source": [
    "# 집계 함수\n",
    "l = [1,2,3]\n",
    "print(sum(l)) # 내장함수\n",
    "print(min(l))\n",
    "print(max(l))\n",
    "m = np.random.random(3)\n",
    "print(m)\n",
    "print(sum(m))\n",
    "print(min(m))\n",
    "print(max(m))\n",
    "z  = np.sum(l)\n",
    "print(z)\n",
    "z  = np.sum(m)\n",
    "print(z)"
   ]
  },
  {
   "cell_type": "code",
   "execution_count": 37,
   "id": "6ded4204-9100-4e73-bb51-bf3594efde32",
   "metadata": {},
   "outputs": [
    {
     "name": "stdout",
     "output_type": "stream",
     "text": [
      "1.23 µs ± 10.9 ns per loop (mean ± std. dev. of 7 runs, 1,000,000 loops each)\n",
      "3.54 µs ± 214 ns per loop (mean ± std. dev. of 7 runs, 100,000 loops each)\n"
     ]
    }
   ],
   "source": [
    "%timeit sum(m)\n",
    "%timeit np.sum(m)"
   ]
  },
  {
   "cell_type": "code",
   "execution_count": 42,
   "id": "7971367f-4d2f-4e3e-8108-612d73af0647",
   "metadata": {},
   "outputs": [
    {
     "name": "stdout",
     "output_type": "stream",
     "text": [
      "[[0.88902128 0.87767092 0.0715528  0.13335954]\n",
      " [0.00396116 0.16524968 0.4510359  0.52493604]\n",
      " [0.32539651 0.06772622 0.9821731  0.35028672]]\n",
      "4.842369870644118\n",
      "4.842369870644118\n",
      "0.9821730958243082\n",
      "0.9821730958243082\n",
      "0.0039611599069125925\n",
      "0.0039611599069125925\n"
     ]
    }
   ],
   "source": [
    "m = np.random.random((3,4))\n",
    "print(m)\n",
    "print(np.sum(m))\n",
    "print(m.sum())\n",
    "print(np.max(m))\n",
    "print(m.max())\n",
    "print(np.min(m))\n",
    "print(m.min())"
   ]
  },
  {
   "cell_type": "code",
   "execution_count": null,
   "id": "1a6a6ecd-6962-4f93-961f-ccf603bc5c52",
   "metadata": {},
   "outputs": [],
   "source": [
    "import pandas as pd\n",
    "df = pd.read_csv(\"https://raw.githubusercontent.com/SoongMoo/soldesk20231202/main/%EC%B0%B8%EA%B3%A0%EC%9E%90%EB%A3%8C/NumPy/data/president_heights.csv\")\n",
    "heights  = np.array(df['height(cm)'])\n",
    "print(heights)\n",
    "#print(np.sum(heights))\n",
    "print(heights.sum())\n",
    "print('최소값 : ' , min(heights))                # 0사분위\n",
    "print('25% : ' , np.percentile(heights, 25))     # 1사분위\n",
    "print('중위값(중앙값) : ' , np.median(heights))     # 2사분위\n",
    "print('평균 : ' , heights.mean())     \n",
    "print('75% : ' , np.percentile(heights, 75))     # 3사분위\n",
    "print('최대값 : ' , max(heights))                 # 4사분위\n",
    "print('표준편차 : ', heights.std() )"
   ]
  },
  {
   "cell_type": "code",
   "execution_count": 52,
   "id": "0fcbd902-af4d-434a-951e-98106f5df402",
   "metadata": {},
   "outputs": [
    {
     "data": {
      "text/plain": [
       "(array([ 1.,  2.,  3.,  5.,  3.,  6., 12.,  3.,  5.,  2.]),\n",
       " array([163., 166., 169., 172., 175., 178., 181., 184., 187., 190., 193.]),\n",
       " <BarContainer object of 10 artists>)"
      ]
     },
     "execution_count": 52,
     "metadata": {},
     "output_type": "execute_result"
    },
    {
     "data": {
      "image/png": "[encoded data removed]",
      "text/plain": [
       "<Figure size 640x480 with 1 Axes>"
      ]
     },
     "metadata": {},
     "output_type": "display_data"
    }
   ],
   "source": [
    "import matplotlib.pyplot as plt\n",
    "plt.hist(heights)"
   ]
  },
  {
   "cell_type": "code",
   "execution_count": 64,
   "id": "6ef8ce76-30b6-42d2-a377-26993051c1e9",
   "metadata": {},
   "outputs": [
    {
     "name": "stdout",
     "output_type": "stream",
     "text": [
      "[1 2 3]\n",
      "2\n",
      "[1 3]\n",
      "[ True  True False]\n",
      "[1 2]\n",
      "[1 2]\n",
      "3\n",
      "3\n",
      "2\n"
     ]
    }
   ],
   "source": [
    "# 팬시 index, 마스크\n",
    "# [1,     2,     3]\n",
    "#  0      1      2  : index\n",
    "#  True  False True : 팬시 index : 부울타입으로 원하는 데이터를 가져오는 것(비교(관계)연산자)\n",
    "print(x)\n",
    "print(x[1])\n",
    "print(x[[True,  False, True]]) # False는 가리고 True만 가지고 옴: False를 가렸다고 해서 마스크라고 함\n",
    "print(x < 3) # [ True  True False] :팬시 index\n",
    "print(x[[ True,  True, False]])\n",
    "print(x[x < 3])\n",
    "print(x[x < 3].sum())   # 요소의 합계\n",
    "print(np.sum(x[x < 3])) # 요소의 합계\n",
    "print(np.sum(x < 3)) # [ True  True False]  # 요소 갯수를 구할 때\n",
    "#                         1      1     0    = 2"
   ]
  },
  {
   "cell_type": "code",
   "execution_count": 72,
   "id": "96206f40-8211-425e-8041-5c60bf05b267",
   "metadata": {},
   "outputs": [
    {
     "name": "stdout",
     "output_type": "stream",
     "text": [
      "[ True  True False]\n",
      "[False False False]\n",
      "[ True  True  True]\n",
      "[False False  True]\n",
      "[ True  True False]\n",
      "[False False  True]\n",
      "[1 2]\n"
     ]
    }
   ],
   "source": [
    "#팬시 index : 관계(비교)연산자\n",
    "print(x < 3)\n",
    "print(x > 3)\n",
    "print(x <= 3)\n",
    "print(x >= 3)\n",
    "print(x != 3)\n",
    "print(x == 3)\n",
    "print(x[x != 3]) # 마스크"
   ]
  },
  {
   "cell_type": "code",
   "execution_count": 79,
   "id": "a3e315f1-be33-4a3e-90e8-945d435c848d",
   "metadata": {},
   "outputs": [
    {
     "name": "stdout",
     "output_type": "stream",
     "text": [
      "[[False False False]\n",
      " [False  True  True]\n",
      " [ True  True  True]]\n",
      "[6 7 6 7 8]\n",
      "[6 7 6 7 8]\n",
      "5\n",
      "34\n",
      "34\n"
     ]
    }
   ],
   "source": [
    "x1 = np.array([[2,3,4],\n",
    "              [4,6,7],\n",
    "              [6,7,8]])\n",
    "x1\n",
    "print(x1 > 5)\n",
    "print(x1[[[False, False, False],[False,  True,  True],[ True,  True,  True]]])\n",
    "print(x1[x1 > 5])\n",
    "print(np.sum(x1 > 5))\n",
    "print(x1[x1 > 5].sum())\n",
    "print(np.sum(x1[x1 > 5]))"
   ]
  },
  {
   "cell_type": "code",
   "execution_count": null,
   "id": "40d66b09-eda8-48b3-831b-96de691905cb",
   "metadata": {},
   "outputs": [],
   "source": [
    "rainfall = pd.read_csv(\"https://raw.githubusercontent.com/SoongMoo/soldesk20231202/main/%EC%B0%B8%EA%B3%A0%EC%9E%90%EB%A3%8C/NumPy/data/Seattle2014.csv\")\n",
    "rainfall['PRCP']\n",
    "inches =  np.array(rainfall['PRCP'] / 254)\n",
    "inches\n",
    "# 0.5인치이상 온 날은 몇일입니까?\n",
    "print((inches > 0.5).sum())\n",
    "# 0.5인치이상 온 날의  총 강수량은?\n",
    "print(inches[inches > 0.5].sum() )\n",
    "# 강수량이 0.5에서 0.8 사이인 날은 몇일이나 되나요?\n",
    "print( ((inches >= 0.5) & (inches <= 0.8)).sum() ) \n",
    "#강수량이 0.5미만 0.8초과한 날은?\n",
    "print((~((inches >= 0.5) & (inches <= 0.8))).sum())\n",
    "print(((inches < 0.5) | (inches > 0.8)).sum())\n",
    "#강수량이 0.5미만 0.8초과한 날의 강수량은?\n",
    "print(inches[~((inches >= 0.5) & (inches <= 0.8))].sum())\n",
    "print(inches[(inches < 0.5) | (inches > 0.8)].sum())\n",
    "#비가 안온 날\n",
    "print((inches==0).sum())\n",
    "#비가 온 날\n",
    "print((inches>0).sum())"
   ]
  },
  {
   "cell_type": "code",
   "execution_count": 101,
   "id": "49d2643d-68d8-492f-9038-4c44bb37fddd",
   "metadata": {},
   "outputs": [
    {
     "data": {
      "text/plain": [
       "(array([245.,  14.,  13.,  17.,   8.,   6.,   5.,   6.,   4.,   3.,   7.,\n",
       "          6.,   3.,   3.,   3.,   4.,   4.,   2.,   4.,   0.,   0.,   1.,\n",
       "          1.,   1.,   0.,   0.,   0.,   2.,   1.,   1.,   0.,   0.,   0.,\n",
       "          0.,   0.,   0.,   0.,   0.,   0.,   1.]),\n",
       " array([0.        , 0.04596457, 0.09192913, 0.1378937 , 0.18385827,\n",
       "        0.22982283, 0.2757874 , 0.32175197, 0.36771654, 0.4136811 ,\n",
       "        0.45964567, 0.50561024, 0.5515748 , 0.59753937, 0.64350394,\n",
       "        0.6894685 , 0.73543307, 0.78139764, 0.8273622 , 0.87332677,\n",
       "        0.91929134, 0.96525591, 1.01122047, 1.05718504, 1.10314961,\n",
       "        1.14911417, 1.19507874, 1.24104331, 1.28700787, 1.33297244,\n",
       "        1.37893701, 1.42490157, 1.47086614, 1.51683071, 1.56279528,\n",
       "        1.60875984, 1.65472441, 1.70068898, 1.74665354, 1.79261811,\n",
       "        1.83858268]),\n",
       " <BarContainer object of 40 artists>)"
      ]
     },
     "execution_count": 101,
     "metadata": {},
     "output_type": "execute_result"
    },
    {
     "data": {
      "image/png": "[encoded data removed]",
      "text/plain": [
       "<Figure size 640x480 with 1 Axes>"
      ]
     },
     "metadata": {},
     "output_type": "display_data"
    }
   ],
   "source": [
    "plt.hist(inches, 40)"
   ]
  },
  {
   "cell_type": "code",
   "execution_count": null,
   "id": "ad3f61d4-610a-433c-a866-3c1c5bf82456",
   "metadata": {},
   "outputs": [],
   "source": [
    "# 정렬\n",
    "x = np.array([3,6,2,7,5])\n",
    "print(np.sort(x))\n",
    "x = np.random.randint(0, 10,(4, 6))\n",
    "x\n",
    "print(np.sort(x))\n",
    "print(np.sort(x , axis = 1)) # 행기준 , y축기준\n",
    "print(np.sort(x , axis = 0)) # 열기준 , x축기준"
   ]
  },
  {
   "cell_type": "code",
   "execution_count": null,
   "id": "02334021-ec2e-4550-a50c-29ecb40ec01d",
   "metadata": {},
   "outputs": [],
   "source": [
    "# 파티션 나누기 : 작은 값은 왼쪽 또는 위로 \n",
    "#                큰값은 오른쪽 또는 아래로 나누는 것 : 정렬은 아니다.\n",
    "print(x)\n",
    "# 작은 수 3개를 앞으로 나머지는 뒤로\n",
    "print(np.partition(x, 3))\n",
    "print(np.partition(x, 2))\n",
    "print(np.partition(x, 3 , axis = 1))\n",
    "# 작은 수 2개를 위로 나머지는 아래로\n",
    "print(np.partition(x, 2, axis = 0))"
   ]
  },
  {
   "cell_type": "code",
   "execution_count": null,
   "id": "41ad6455-4ddf-4174-882a-83f321bd878f",
   "metadata": {},
   "outputs": [],
   "source": [
    "# 기본자료형 : 정수, 실수, 문자열, 부울\n",
    "# 파이썬 자료형 : 리스트, 튜플, 딕셔너리, 집합\n",
    "# numpy : 배열 자료형 : 숫자 : 리스트를 이용해서 만든 자료형\n",
    "# pandas : DataFrame자료형 : 딕셔너리  : 2차원 : Series집합체\n",
    "#          Series자료형 : 리스트       : 1차원\n",
    "import pandas as pd\n",
    "df = pd.read_csv(\"https://raw.githubusercontent.com/SoongMoo/soldesk20231202/main/%EC%B0%B8%EA%B3%A0%EC%9E%90%EB%A3%8C/NumPy/data/Seattle2014.csv\")\n",
    "df # 표형태로 표시되는 것을 DataFrame이라고 함."
   ]
  },
  {
   "cell_type": "code",
   "execution_count": null,
   "id": "c08eb0e9-7a0a-4ff0-9ebb-549ae5210b13",
   "metadata": {},
   "outputs": [],
   "source": [
    "import pandas\n",
    "df = pandas.read_csv(\"https://raw.githubusercontent.com/SoongMoo/soldesk20231202/main/data/gapminder.tsv\",sep=\"\\t\")\n",
    "df"
   ]
  },
  {
   "cell_type": "code",
   "execution_count": null,
   "id": "62c059e2-a985-4f48-8f2f-e0dcea12345a",
   "metadata": {},
   "outputs": [],
   "source": [
    "dic = {\"a\":\"이숭무\", \n",
    "       \"b\":\"이장범\"}\n",
    "dic\n",
    "print(dic['a'])\n",
    "dic = { 'country' : ['Afghanistan','Zimbabwe'],  \n",
    "        'continent' : ['Asia' , 'Africa']\n",
    "}\n",
    "print(dic['country'])\n",
    "df\n",
    "print(df['country']) # Series자료형 "
   ]
  },
  {
   "cell_type": "code",
   "execution_count": null,
   "id": "3402ebff-ff41-425f-a5fa-b01b496d51e9",
   "metadata": {},
   "outputs": [],
   "source": [
    "# print(dic['country'].head(1))\n",
    "print(df['country'].head(1))\n",
    "print(df['country'].head()) # 5\n",
    "print(df['country'].head(n = 7))\n",
    "print(df['country'].head(n = 5))"
   ]
  },
  {
   "cell_type": "code",
   "execution_count": 137,
   "id": "6e3029e8-7729-466e-8b0d-e57f06f500b0",
   "metadata": {},
   "outputs": [
    {
     "data": {
      "text/plain": [
       "1699    Zimbabwe\n",
       "1700    Zimbabwe\n",
       "1701    Zimbabwe\n",
       "1702    Zimbabwe\n",
       "1703    Zimbabwe\n",
       "Name: country, dtype: object"
      ]
     },
     "execution_count": 137,
     "metadata": {},
     "output_type": "execute_result"
    }
   ],
   "source": [
    "df['country'].tail() # n = 5\n",
    "df['country'].tail(7)\n",
    "df['country'].tail(n = 7)\n",
    "df['country'].tail(n = 5)"
   ]
  },
  {
   "cell_type": "code",
   "execution_count": null,
   "id": "ee1fc8d9-783f-48a2-ae04-fdace6d97293",
   "metadata": {},
   "outputs": [],
   "source": [
    "# 자료형 확인하기\n",
    "l = [1,2,3]\n",
    "str1= \"문자\"\n",
    "i = 10\n",
    "f = 10.5\n",
    "print(type(l))\n",
    "print(type(str1))\n",
    "print(type(i))\n",
    "print(type(f))\n",
    "df\n",
    "print(type(df)) # <class 'pandas.core.frame.DataFrame'>\n",
    "print(type(df['country'])) # <class 'pandas.core.series.Series'>\n",
    "## dic[['country','continent' ]]\n",
    "print(type(df[['country','continent']])) # <class 'pandas.core.frame.DataFrame'>\n",
    "df[['country','continent']]"
   ]
  },
  {
   "cell_type": "code",
   "execution_count": 166,
   "id": "368afab3-d116-4f11-b5f5-a03bf8aad723",
   "metadata": {},
   "outputs": [
    {
     "name": "stdout",
     "output_type": "stream",
     "text": [
      "3\n",
      "2\n",
      "2\n",
      "1704\n",
      "(1704, 6)\n",
      "1704\n",
      "6\n",
      "1704\n",
      "dict_keys(['country', 'continent'])\n",
      "Index(['country', 'continent', 'year', 'lifeExp', 'pop', 'gdpPercap'], dtype='object')\n",
      "country       object\n",
      "continent     object\n",
      "year           int64\n",
      "lifeExp      float64\n",
      "pop            int64\n",
      "gdpPercap    float64\n",
      "dtype: object\n",
      "<class 'pandas.core.frame.DataFrame'>\n",
      "RangeIndex: 1704 entries, 0 to 1703\n",
      "Data columns (total 6 columns):\n",
      " #   Column     Non-Null Count  Dtype  \n",
      "---  ------     --------------  -----  \n",
      " 0   country    1704 non-null   object \n",
      " 1   continent  1704 non-null   object \n",
      " 2   year       1704 non-null   int64  \n",
      " 3   lifeExp    1704 non-null   float64\n",
      " 4   pop        1704 non-null   int64  \n",
      " 5   gdpPercap  1704 non-null   float64\n",
      "dtypes: float64(2), int64(2), object(2)\n",
      "memory usage: 80.0+ KB\n",
      "None\n"
     ]
    }
   ],
   "source": [
    "# 자료형의 크기 확인\n",
    "print(len(l))\n",
    "print(len(str1))\n",
    "print(len(dic)) # 키의 갯수 : 열의 갯수\n",
    "print(len(df)) # 행의 갯수 \n",
    "print(df.shape) # (1704, 6) : (행, 열) : 튜플\n",
    "print(df.shape[0]) # 행의 갯수\n",
    "print(df.shape[1]) # 열의 갯수\n",
    "# 행의 갯수\n",
    "print(len(df['country'])) # 열의 크기 : 행의 갯수\n",
    "## 키또는 컬럼명을 가져오기\n",
    "print(dic.keys())\n",
    "print(df.columns) #  dtype='object' : 컬럼명의 타입은 문자열이다.\n",
    "# 칵컬럼의 데이터 타입\n",
    "print(df.dtypes)\n",
    "'''\n",
    "country       object  # 문자열\n",
    "continent     object  # 문자열\n",
    "year           int64  # 정수\n",
    "lifeExp      float64  # 실수\n",
    "pop            int64  # 정수\n",
    "gdpPercap    float64  # 실수\n",
    "dtype: object   # 컬럼명의 타입 # 문자열\n",
    "'''\n",
    "#데이터 프레임의 전체 정보 확인\n",
    "print(df.info())"
   ]
  },
  {
   "cell_type": "code",
   "execution_count": 181,
   "id": "1d8fecf7-d32a-475a-a90c-f259a32928f7",
   "metadata": {},
   "outputs": [
    {
     "name": "stdout",
     "output_type": "stream",
     "text": [
      "{'country': ['Afghanistan', 'Zimbabwe'], 'continent': ['Asia', 'Africa'], 'year': [1952, 1957]}\n",
      "Afghanistan\n",
      "Afghanistan\n",
      "Africa\n"
     ]
    }
   ],
   "source": [
    "df\n",
    "dic  = {\"country\" : [\"Afghanistan\", \"Zimbabwe\"] ,\n",
    "        \"continent\" : [\"Asia\",\"Africa\"],\n",
    "        \"year\" : [1952, 1957]}\n",
    "print(dic)\n",
    "df1 = pd.DataFrame(dic)\n",
    "df1\n",
    "df2 = pd.DataFrame({\"country\" : [\"Afghanistan\", \"Zimbabwe\"] ,\n",
    "                    \"continent\" : [\"Asia\",\"Africa\"],\n",
    "                    \"year\" : [1952, 1957]})\n",
    "dic\n",
    "print(dic['country'][0])\n",
    "df2\n",
    "print(df2['country'][0])\n",
    "print(df2['continent'][1])"
   ]
  },
  {
   "cell_type": "code",
   "execution_count": null,
   "id": "a4c29c04-fa9c-49aa-a757-017d31b7093b",
   "metadata": {},
   "outputs": [],
   "source": [
    "dic1  = {0 : [\"Afghanistan\", \"Zimbabwe\"] ,\n",
    "        1 : [\"Asia\",\"Africa\"],\n",
    "        2 : [1952, 1957]}\n",
    "dic1\n",
    "df4 = pd.DataFrame(dic1)\n",
    "df4\n",
    "# {0: ['Afghanistan', 'Zimbabwe'], 1: ['Asia', 'Africa'], 2: [1952, 1957]}\n",
    "print(dic1[0]) # 키를 먼저 적는다는 것은 열이름을 먼저 적는 거나 마찬가지이다.\n",
    "print(dic1[0][0]) \n",
    "df4\n",
    "'''\n",
    "             0       1     2\n",
    "0  Afghanistan    Asia  1952\n",
    "1     Zimbabwe  Africa  1957\n",
    "'''\n",
    "print(df4[0])    #열 \n",
    "print(df4[0][0]) #  df4[열][행]\n",
    "print(df4[1]) # 열\n",
    "print(df4[1][0])  # [열][행]\n",
    "print(df2)\n",
    "'''\n",
    "       country continent  year\n",
    "0  Afghanistan      Asia  1952\n",
    "1     Zimbabwe    Africa  1957\n",
    "'''\n",
    "df2['country'] # 열 출력\n",
    "print(df2['country'][0]) # 열, 행\n",
    "# print(df2['country' , 0]) # 열, 행 (x)\n",
    "# 행을 먼저 적기 위해서 loc를 사용한다.\n",
    "print(df2.loc[0]) # 행 출력\n",
    "'''\n",
    "country      Afghanistan\n",
    "continent           Asia\n",
    "year                1952\n",
    "'''\n",
    "print(df2.loc[0]['country']) # 행, 열\n",
    "print(df2.loc[0 , 'country']) # 행, 열\n",
    "print(df2[['country','continent']]) # 두개의 컬럼\n",
    "print(df2.loc[[0, 1]]) # 두개의 행"
   ]
  },
  {
   "cell_type": "code",
   "execution_count": null,
   "id": "c58441a4-2914-45ed-861e-4a1086ebc84f",
   "metadata": {},
   "outputs": [],
   "source": [
    "# 마지막 행을 출력하세요.\n",
    "df\n",
    "print(len(df)) # 행\n",
    "print(df.shape) #  튜플\n",
    "print(df.shape[0]) # 행\n",
    "df\n",
    "print(df.loc[1703])\n",
    "print(df.loc[len(df) -1])\n",
    "print(df.loc[df.shape[0] - 1])"
   ]
  },
  {
   "cell_type": "code",
   "execution_count": 248,
   "id": "187773b8-e0d6-4cac-8fae-af48e7de18a5",
   "metadata": {},
   "outputs": [
    {
     "name": "stdout",
     "output_type": "stream",
     "text": [
      "1\n",
      "1\n",
      "1\n"
     ]
    },
    {
     "data": {
      "text/plain": [
       "country      Afghanistan\n",
       "continent           Asia\n",
       "year                1952\n",
       "lifeExp           28.801\n",
       "pop              8425333\n",
       "gdpPercap     779.445314\n",
       "Name: 0, dtype: object"
      ]
     },
     "execution_count": 248,
     "metadata": {},
     "output_type": "execute_result"
    }
   ],
   "source": [
    "l = [1,2,3,4,5]\n",
    "#    0 1 2 3 4    : 암시적 index \n",
    "#   -5 4 3 2 1    : 암시적 index\n",
    "print(l[0])\n",
    "print(l[-5])\n",
    "print(l[-len(l)])\n",
    "#  리스트의 index는 DataFrame의 행번호와 같다.\n",
    "\n",
    "# 마지막행을 가지고 오시오.\n",
    "df.loc[1703] # loc[행번호] : 명시적index\n",
    "df.loc[len(df) - 1] # 명시적index\n",
    "df.loc[df.shape[0] - 1] # 명시적index\n",
    "df.iloc[-1] # 암시적 index를 사용하는 경우에는 iloc를 사용한다.\n",
    "### 첫번째 행을 가지고 오시오\n",
    "df.loc[0] # 명시적index\n",
    "df.iloc[-1704]   # 암시적 index\n",
    "df.iloc[-len(df)]  # 암시적 index\n",
    "df.iloc[-df.shape[0]]  # 암시적 index"
   ]
  },
  {
   "cell_type": "code",
   "execution_count": null,
   "id": "e703bc92-5b01-4922-bc03-a1e2e2afa159",
   "metadata": {},
   "outputs": [],
   "source": [
    "'''\n",
    "dic  = {\"country\" : [\"Afghanistan\", \"Zimbabwe\"] ,\n",
    "        \"continent\" : [\"Asia\",\"Africa\"],\n",
    "        \"year\" : [1952, 1957]}\n",
    "print(dic)\n",
    "df1 = pd.DataFrame(dic)\n",
    "'''\n",
    "df5 = pd.DataFrame({\"country\" : [\"Afghanistan\", \"Zimbabwe\"] ,\n",
    "                    #                0              1\n",
    "                    #                -2             -1\n",
    "                    \"continent\" : [\"Asia\",\"Africa\"],\n",
    "                    \"year\" : [1952, 1957]},\n",
    "                    index=['a','b'])\n",
    "df5\n",
    "'''\n",
    "                        country continent  year\n",
    " 명시적 index    a  Afghanistan      Asia  1952   -2   0   : 암시적 index\n",
    "                 b     Zimbabwe    Africa  1957   -1   1\n",
    "'''\n",
    "print(df1.loc[0])\n",
    "#print(df5.loc[0])\n",
    "print(df5.loc['a']) # 명시적 index\n",
    "print(df5.iloc[-1]) # 암시적 index\n",
    "print(df5.iloc[-2]) # 암시적 index\n",
    "print(df5.iloc[0])  # 암시적 index\n",
    "print(df5.iloc[1])  # 암시적 index\n",
    "df2\n",
    "'''\n",
    "                       country continent  year     \n",
    " 명시적 index   0  Afghanistan      Asia  1952   -2   0   : 암시적 index\n",
    "                1     Zimbabwe    Africa  1957   -1   1\n",
    "'''\n",
    "print(df2.loc[0]) # 명시적 index\n",
    "print(df2.iloc[0]) # 암시적 index"
   ]
  },
  {
   "cell_type": "code",
   "execution_count": 279,
   "id": "40024116-6d5a-49bf-ad8c-4311b8c7023d",
   "metadata": {},
   "outputs": [
    {
     "data": {
      "text/plain": [
       "'Afghanistan'"
      ]
     },
     "execution_count": 279,
     "metadata": {},
     "output_type": "execute_result"
    }
   ],
   "source": [
    "'''\n",
    "                            -3     -2      -1     :암시적 index\n",
    "                             0      1       2     :암시적 index\n",
    "                       country continent  year     \n",
    " 명시적 index   0  Afghanistan      Asia  1952   -2   0   : 암시적 index\n",
    "                1     Zimbabwe    Africa  1957   -1   1   :암시적 index\n",
    "'''\n",
    "df2['country'][0]\n",
    "df2.loc[0]['country']\n",
    "df2.loc[0, 'country']\n",
    "# df2.iloc[-2,  'country'] : 암시적 index와 명시적 index를 같이 사용할 수 없다.\n",
    "df2.iloc[-2,  0] # 행번호를 암시적 index를 사용했다면 열이름도 암시적  index를 사용해야 한다.\n",
    "df2.iloc[-2,  -3] "
   ]
  },
  {
   "cell_type": "code",
   "execution_count": null,
   "id": "007a33a5-1e16-4af1-a772-99b6bcb6fd2e",
   "metadata": {},
   "outputs": [],
   "source": [
    "df\n",
    "df[['country','continent','year']]\n",
    "df[['country','continent','year'][0]]\n",
    "df.loc[0][['country','continent','year']]\n",
    "df.loc[0 , ['country','continent','year']]\n",
    "df.loc[[1, 100, 1000]]\n",
    "df.loc[[1, 100, 1000]]['country']\n",
    "df.loc[[1, 100, 1000] , 'country']\n",
    "df['country'][[1, 100, 1000]]"
   ]
  },
  {
   "cell_type": "code",
   "execution_count": 331,
   "id": "a16ab524-e075-4e3f-9615-af7ccd1b085c",
   "metadata": {},
   "outputs": [
    {
     "data": {
      "text/plain": [
       "1962"
      ]
     },
     "execution_count": 331,
     "metadata": {},
     "output_type": "execute_result"
    }
   ],
   "source": [
    "# slicing\n",
    "l = [1,2,3,4, 5]\n",
    "l [ 1: 1 + 3]\n",
    "df.loc[1:10] # loc를 사용하면 1번 부터 10까지 : 명시적\n",
    "df.iloc[1: 1 + 9] # 1번 부터 9까지\n",
    "df.iloc[ 1 : 1+ 10] #1번 부터 10까지   : 암시적\n",
    "l[1 : 1+ 3][:]\n",
    "df.loc[1:10][:]\n",
    "df.loc[1:10 , :]\n",
    "df.iloc[1:1+10][:]\n",
    "df.iloc[1:1+10, : ]\n",
    "\n",
    "df.loc[1:10][['country','continent','year']]\n",
    "df.loc[1:10,['country','continent','year']]\n",
    "df[['country','continent','year']][1:10]\n",
    "'''\n",
    "            0         1        2      3         4          5\n",
    "        -   6         5        4      3         2          1\n",
    "          country continent  year  lifeExp       pop   gdpPercap     \n",
    "0     Afghanistan      Asia  1952   28.801   8425333  779.445314    0   -1704\n",
    "1     Afghanistan      Asia  1957   30.332   9240934  820.853030    1   -1703\n",
    "2     Afghanistan      Asia  1962   31.997  10267083  853.100710    2   -1702\n",
    "3     Afghanistan      Asia  1967   34.020  11537966  836.197138    3   -1701\n",
    "'''\n",
    "df.iloc[1:1+10][['country','continent','year']]\n",
    "df.iloc[1:1+10 , [0,1,2]]\n",
    "df.iloc[1:1+10 , 0 : 0 + 3]\n",
    "\n",
    "df[['country','continent','year']]\n",
    "df.loc[:, ['country','continent','year'] ]\n",
    "df.iloc[:][['country','continent','year'] ]\n",
    "df.iloc[: , [0,1,2] ]\n",
    "df.iloc[: , 0:3 ]\n",
    "# year\n",
    "df['year']\n",
    "df['year'][2]\n",
    "df.loc[2]['year']\n",
    "df.loc[2, 'year']\n",
    "df.iloc[2]['year']\n",
    "df.iloc[2, 2]\n",
    "df.iloc[-1704 + 2, 2]"
   ]
  },
  {
   "cell_type": "code",
   "execution_count": null,
   "id": "19795028-878d-4a09-8df9-1f276805a15c",
   "metadata": {},
   "outputs": [],
   "source": [
    "df.loc[3 : 6]\n",
    "df.iloc[3:7]\n",
    "df[3:7] # iloc생략\n",
    "df.loc[3 : 6][['country', 'continent', 'lifeExp']]\n",
    "df.loc[3 : 6 , ['country', 'continent', 'lifeExp']]\n",
    "df.iloc[3:7][['country', 'continent', 'lifeExp']]\n",
    "df[3:7][['country', 'continent', 'lifeExp']] # iloc생략\n",
    "# df[3:7 , ['country', 'continent', 'lifeExp']] (x)\n",
    "# df[3:7 , [0, 1, 2]] (x)\n",
    "# df.iloc[3:7 ,['country', 'continent', 'lifeExp']]  (x)\n",
    "df.iloc[3:7 , [0, 1, 2]]"
   ]
  },
  {
   "cell_type": "code",
   "execution_count": null,
   "id": "71045f76-e3d2-4454-8137-0bd5ecf64d38",
   "metadata": {},
   "outputs": [],
   "source": [
    "# 모든 행에서 3열부터 5열까지\n",
    "df.iloc[: , 3:6]\n",
    "df.iloc[: , range(3, 6)]\n",
    "# 열을 0부터 5까지중 한칸씩 띄어서 가져오시오.\n",
    "df.iloc[: , 0 : 6 :2]\n",
    "#행을 0부터 20개를 가져오고 열을 0부터 5까지 가져올 때 행과 열을 한칸씩 띄어서 가져오시오\n",
    "df.iloc[ 0: 20:2 ,  0: 5 :2]\n",
    "# 열을 두칸씩\n",
    "df.iloc[ : ,  ::3]\n",
    "# 모든행을 두칸씩\n",
    "df.iloc[ ::3 ,  :]"
   ]
  },
  {
   "cell_type": "code",
   "execution_count": null,
   "id": "dd92fb34-b299-4410-af01-c8958c0ceed9",
   "metadata": {},
   "outputs": [],
   "source": [
    "# 팬시 index , 마스크\n",
    "df\n",
    "df['year'] == 1952\n",
    "df[df['year'] == 1952]\n",
    "# 1952년도 데이터의 수는 \n",
    "(df['year'] == 1952).sum()\n",
    "np.sum(df['year'] == 1952)\n",
    "# 1952년도 lifeExp 데이터만 출력\n",
    "df[df['year'] == 1952]['lifeExp']\n",
    "# 1952년도 lifeExp, gdpPercap 데이터만 출력\n",
    "df[df['year'] == 1952][['lifeExp','gdpPercap']]"
   ]
  },
  {
   "cell_type": "code",
   "execution_count": 372,
   "id": "aafd3c79-d2c8-4c9e-a47b-d3b923eb12a8",
   "metadata": {},
   "outputs": [
    {
     "data": {
      "text/plain": [
       "49.057619718309866"
      ]
     },
     "execution_count": 372,
     "metadata": {},
     "output_type": "execute_result"
    }
   ],
   "source": [
    "#1952년도 데이터에서 lifeExp의 집계\n",
    "df['year']==1952\n",
    "df[df['year']==1952]\n",
    "df[df['year']==1952]['lifeExp']\n",
    "df[df['year']==1952]['lifeExp'].sum()\n",
    "df[df['year']==1952]['lifeExp'].min()\n",
    "df[df['year']==1952]['lifeExp'].max()\n",
    "df[df['year']==1952]['lifeExp'].mean()"
   ]
  },
  {
   "cell_type": "code",
   "execution_count": 389,
   "id": "93a1b7b0-6ac8-405b-ba84-694fc939ba00",
   "metadata": {},
   "outputs": [
    {
     "data": {
      "text/plain": [
       "continent\n",
       "Africa      52\n",
       "Americas    25\n",
       "Asia        33\n",
       "Europe      30\n",
       "Oceania      2\n",
       "Name: country, dtype: int64"
      ]
     },
     "execution_count": 389,
     "metadata": {},
     "output_type": "execute_result"
    }
   ],
   "source": [
    "# 1952평균 수명의 평균\n",
    "df[df['year']==1952]['lifeExp'].mean()\n",
    "# 1957평균 수명의 평균\n",
    "df[df['year']==1957]['lifeExp'].mean()\n",
    "# 1962평균 수명의 평균\n",
    "df[df['year']==1962]['lifeExp'].mean()\n",
    "### 각년도 별 평균수명의 평균\n",
    "df.groupby('year')['lifeExp'].mean()\n",
    "# 각년도별  최대값인 평균수명 \n",
    "df.groupby('year')['lifeExp'].max()\n",
    "# 각년도별  최소값인 평균수명\n",
    "df.groupby('year')['lifeExp'].min()\n",
    "# 각년도별  최소값인 평균수명에서 1952만 가져오시오\n",
    "df.groupby('year')['lifeExp'].min()[1952]\n",
    "# 년도(year)별 각 대륙(continent)의 평균 수명중 최소값\n",
    "df.groupby(['year','continent'])['lifeExp'].min()\n",
    "## 대륙에 대한 나라의 갯수\n",
    "df.groupby('continent')['country'].nunique()"
   ]
  },
  {
   "cell_type": "code",
   "execution_count": 391,
   "id": "884c5386-d38e-4efc-8924-82f1b58ee634",
   "metadata": {},
   "outputs": [],
   "source": [
    "# 년도에 따른 평균수명의  평균의 추이를 확인\n",
    "import matplotlib as plt\n",
    "df.groupby('year')['lifeExp'].mean().plot()"
   ]
  },
  {
   "cell_type": "code",
   "execution_count": 392,
   "id": "8ae687b1-71cd-4560-b9d8-bcaa495df8f9",
   "metadata": {},
   "outputs": [
    {
     "data": {
      "text/plain": [
       "<Axes: xlabel='year'>"
      ]
     },
     "execution_count": 392,
     "metadata": {},
     "output_type": "execute_result"
    },
    {
     "data": {
      "image/png": "[encoded data removed]",
      "text/plain": [
       "<Figure size 640x480 with 1 Axes>"
      ]
     },
     "metadata": {},
     "output_type": "display_data"
    }
   ],
   "source": [
    "df.groupby('year')['gdpPercap'].mean().plot()"
   ]
  },
  {
   "cell_type": "code",
   "execution_count": null,
   "id": "8361404e-c8e9-4b5b-ae62-d751debbabe1",
   "metadata": {},
   "outputs": [],
   "source": [
    "# Series : 리스트 \n",
    "l = ['banana',1,2,3]\n",
    "print(l)\n",
    "s = pd.Series(l)\n",
    "print(s)\n",
    "s = pd.Series(['banana',1,2,3])\n",
    "s\n",
    "s[0]\n",
    "s[1]\n",
    "s = pd.Series(['banana',1,2,3] , index=['a','b','c','d'])\n",
    "s\n",
    "s['a']\n",
    "s['b']\n",
    "s[-1] #  암시적 index\n",
    "s.iloc[-1] #  암시적 index"
   ]
  },
  {
   "cell_type": "code",
   "execution_count": 412,
   "id": "d4f3e348-8210-4fd3-8f8f-28439c667a42",
   "metadata": {},
   "outputs": [
    {
     "data": {
      "text/plain": [
       "RangeIndex(start=0, stop=3, step=1)"
      ]
     },
     "execution_count": 412,
     "metadata": {},
     "output_type": "execute_result"
    }
   ],
   "source": [
    "# DataFrame : 딕셔너리\n",
    "dic3 = {'Name' : ['이숭무',     '이상범',      '이장범'   ],\n",
    "       'Age' :  [  50,           19,            18     ],\n",
    "       'Born' : ['1988-10-10','2000-02-23','2001-09-08']}\n",
    "df10 =  pd.DataFrame(dic3)\n",
    "df10\n",
    "df10['Name']\n",
    "df10.index"
   ]
  },
  {
   "cell_type": "code",
   "execution_count": 414,
   "id": "2e7d4556-2588-40d6-9618-8d949cb67b09",
   "metadata": {},
   "outputs": [
    {
     "data": {
      "text/html": [
       "<div>\n",
       "<style scoped>\n",
       "    .dataframe tbody tr th:only-of-type {\n",
       "        vertical-align: middle;\n",
       "    }\n",
       "\n",
       "    .dataframe tbody tr th {\n",
       "        vertical-align: top;\n",
       "    }\n",
       "\n",
       "    .dataframe thead th {\n",
       "        text-align: right;\n",
       "    }\n",
       "</style>\n",
       "<table border=\"1\" class=\"dataframe\">\n",
       "  <thead>\n",
       "    <tr style=\"text-align: right;\">\n",
       "      <th></th>\n",
       "      <th>Name</th>\n",
       "      <th>Age</th>\n",
       "      <th>Born</th>\n",
       "    </tr>\n",
       "  </thead>\n",
       "  <tbody>\n",
       "    <tr>\n",
       "      <th>0</th>\n",
       "      <td>이숭무</td>\n",
       "      <td>50</td>\n",
       "      <td>1988-10-10</td>\n",
       "    </tr>\n",
       "    <tr>\n",
       "      <th>1</th>\n",
       "      <td>이상범</td>\n",
       "      <td>19</td>\n",
       "      <td>2000-02-23</td>\n",
       "    </tr>\n",
       "    <tr>\n",
       "      <th>2</th>\n",
       "      <td>이장범</td>\n",
       "      <td>18</td>\n",
       "      <td>2001-09-08</td>\n",
       "    </tr>\n",
       "  </tbody>\n",
       "</table>\n",
       "</div>"
      ],
      "text/plain": [
       "  Name  Age        Born\n",
       "0  이숭무   50  1988-10-10\n",
       "1  이상범   19  2000-02-23\n",
       "2  이장범   18  2001-09-08"
      ]
     },
     "execution_count": 414,
     "metadata": {},
     "output_type": "execute_result"
    }
   ],
   "source": [
    "df10 =  pd.DataFrame({'Name' : ['이숭무',     '이상범',      '이장범'   ],\n",
    "                       'Age' :  [  50,           19,            18     ],\n",
    "                       'Born' : ['1988-10-10','2000-02-23','2001-09-08']})\n",
    "df10"
   ]
  },
  {
   "cell_type": "code",
   "execution_count": 415,
   "id": "e3331f97-fd73-4981-9d83-f869611b2234",
   "metadata": {},
   "outputs": [
    {
     "data": {
      "text/html": [
       "<div>\n",
       "<style scoped>\n",
       "    .dataframe tbody tr th:only-of-type {\n",
       "        vertical-align: middle;\n",
       "    }\n",
       "\n",
       "    .dataframe tbody tr th {\n",
       "        vertical-align: top;\n",
       "    }\n",
       "\n",
       "    .dataframe thead th {\n",
       "        text-align: right;\n",
       "    }\n",
       "</style>\n",
       "<table border=\"1\" class=\"dataframe\">\n",
       "  <thead>\n",
       "    <tr style=\"text-align: right;\">\n",
       "      <th></th>\n",
       "      <th>Name</th>\n",
       "      <th>Age</th>\n",
       "      <th>Born</th>\n",
       "    </tr>\n",
       "  </thead>\n",
       "  <tbody>\n",
       "    <tr>\n",
       "      <th>a</th>\n",
       "      <td>이숭무</td>\n",
       "      <td>50</td>\n",
       "      <td>1988-10-10</td>\n",
       "    </tr>\n",
       "    <tr>\n",
       "      <th>b</th>\n",
       "      <td>이상범</td>\n",
       "      <td>19</td>\n",
       "      <td>2000-02-23</td>\n",
       "    </tr>\n",
       "    <tr>\n",
       "      <th>c</th>\n",
       "      <td>이장범</td>\n",
       "      <td>18</td>\n",
       "      <td>2001-09-08</td>\n",
       "    </tr>\n",
       "  </tbody>\n",
       "</table>\n",
       "</div>"
      ],
      "text/plain": [
       "  Name  Age        Born\n",
       "a  이숭무   50  1988-10-10\n",
       "b  이상범   19  2000-02-23\n",
       "c  이장범   18  2001-09-08"
      ]
     },
     "execution_count": 415,
     "metadata": {},
     "output_type": "execute_result"
    }
   ],
   "source": [
    "df10 =  pd.DataFrame({'Name' : ['이숭무',     '이상범',      '이장범'   ],\n",
    "                       'Age' :  [  50,           19,            18     ],\n",
    "                       'Born' : ['1988-10-10','2000-02-23','2001-09-08']},\n",
    "                        index=['a','b','c'])\n",
    "df10"
   ]
  },
  {
   "cell_type": "code",
   "execution_count": null,
   "id": "c71fcfed-9059-44bf-ac47-37e9d97f78e8",
   "metadata": {},
   "outputs": [],
   "source": [
    "df10 =  pd.DataFrame({'Name' : ['이숭무',     '이상범',      '이장범'   ],\n",
    "                       'Age' :  [  50,           19,            18     ],\n",
    "                       'Born' : ['1988-10-10','2000-02-23','2001-09-08']},\n",
    "                        index = ['a','b','c'],\n",
    "                        columns = ['Born','Name','Age'])\n",
    "df10"
   ]
  },
  {
   "cell_type": "code",
   "execution_count": 423,
   "id": "76584195-b099-4b29-bbfe-3c33138ff444",
   "metadata": {},
   "outputs": [
    {
     "data": {
      "text/plain": [
       "Index(['Born', 'Name', 'Age'], dtype='object')"
      ]
     },
     "execution_count": 423,
     "metadata": {},
     "output_type": "execute_result"
    }
   ],
   "source": [
    "df10 =  pd.DataFrame(index = ['a','b','c'],\n",
    "                     columns = ['Born','Name','Age'],\n",
    "                     data = {'Name' : ['이숭무',     '이상범',      '이장범'   ],\n",
    "                             'Age' :  [  50,           19,            18     ],\n",
    "                             'Born' : ['1988-10-10','2000-02-23','2001-09-08']})\n",
    "df10\n",
    "df10.index\n",
    "df10.columns\n",
    "df10.keys()"
   ]
  },
  {
   "cell_type": "code",
   "execution_count": 445,
   "id": "e2b0407e-3754-4973-9fd4-f45ce31b04e5",
   "metadata": {},
   "outputs": [
    {
     "data": {
      "text/plain": [
       "1    61\n",
       "2    90\n",
       "3    66\n",
       "7    77\n",
       "Name: Age, dtype: int64"
      ]
     },
     "execution_count": 445,
     "metadata": {},
     "output_type": "execute_result"
    }
   ],
   "source": [
    "# 팬시index과 마스크\n",
    "df = pd.read_csv(\"https://raw.githubusercontent.com/SoongMoo/soldesk20231202/main/data/scientists.csv\")\n",
    "df\n",
    "df[['Name','Born']]\n",
    "df['Age'].mean()\n",
    "df['Age'].max()\n",
    "df['Age'].min()\n",
    "### 제일 오래 산 과학자는?\n",
    "df['Age'] == df['Age'].max() #팬시 index\n",
    "df[df['Age'] == df['Age'].max()]\n",
    "## 일찍 돌아가신 분은?\n",
    "df['Age'] == df['Age'].min()\n",
    "df[df['Age'] == df['Age'].min()]\n",
    "# 평균수명과 같은 나이인 과학자는?\n",
    "df['Age'] == df['Age'].mean()\n",
    "df[df['Age'] == df['Age'].mean()]\n",
    "# 평균수명보다 오래 산 과학자.\n",
    "df['Age'] > df['Age'].mean()\n",
    "df[df['Age'] > df['Age'].mean()]\n",
    "# 평균보다 오래산 사람의 나이\n",
    "df[df['Age'] > df['Age'].mean()]['Age']\n",
    "df['Age'][df['Age'] > df['Age'].mean()]"
   ]
  },
  {
   "cell_type": "code",
   "execution_count": 446,
   "id": "a26fa52c-d017-461e-bcf0-cc7acec3b2b8",
   "metadata": {},
   "outputs": [
    {
     "data": {
      "text/plain": [
       "array([6, 7, 8])"
      ]
     },
     "execution_count": 446,
     "metadata": {},
     "output_type": "execute_result"
    }
   ],
   "source": [
    "# 브로드케이스팅\n",
    "x = np.array([1, 2, 3] )\n",
    "z = x + 5 # [1, 2, 3] + [5 5 5]\n",
    "z"
   ]
  },
  {
   "cell_type": "code",
   "execution_count": 448,
   "id": "68bbb455-18c9-4933-861d-96ef97a6c51d",
   "metadata": {},
   "outputs": [
    {
     "data": {
      "text/plain": [
       "0     57\n",
       "1     81\n",
       "2    110\n",
       "3     86\n",
       "4     76\n",
       "5     65\n",
       "6     61\n",
       "7     97\n",
       "Name: Age, dtype: int64"
      ]
     },
     "execution_count": 448,
     "metadata": {},
     "output_type": "execute_result"
    }
   ],
   "source": [
    "#Series와 정수 연산\n",
    "\n",
    "'''\n",
    "0    37   + 20\n",
    "1    61   + 20\n",
    "2    90   + 20\n",
    "3    66   + 20\n",
    "4    56   + 20\n",
    "5    45   + 20\n",
    "6    41   + 20\n",
    "7    77   + 20\n",
    "'''\n",
    "df['Age'] + 20"
   ]
  },
  {
   "cell_type": "code",
   "execution_count": 452,
   "id": "47dc23b0-b9fa-489c-beeb-c9a5007bee44",
   "metadata": {},
   "outputs": [
    {
     "data": {
      "text/plain": [
       "0    37.0\n",
       "1    62.0\n",
       "2    92.0\n",
       "3    69.0\n",
       "4    60.0\n",
       "5    50.0\n",
       "6    47.0\n",
       "7    84.0\n",
       "8     NaN\n",
       "dtype: float64"
      ]
     },
     "execution_count": 452,
     "metadata": {},
     "output_type": "execute_result"
    }
   ],
   "source": [
    "#Series와 Series의 연산\n",
    "df['Age'] # 크기가 8 \n",
    "s = pd.Series(range(9))\n",
    "s\n",
    "'''df['Age']         s\n",
    "0     57     +  0    0\n",
    "1     81     +  1    1\n",
    "2    110     +  2    2\n",
    "3     86     +  3    3\n",
    "4     76     +  4    4\n",
    "5     65     +  5    5\n",
    "6     61     +  6    6\n",
    "7     97     +  7    7\n",
    "8     NaN    +  8    8\n",
    "'''\n",
    "df['Age'] + s"
   ]
  },
  {
   "cell_type": "code",
   "execution_count": 455,
   "id": "7b700136-0b75-4f0e-b876-2fc83119f9e5",
   "metadata": {},
   "outputs": [
    {
     "data": {
      "text/plain": [
       "0     38.0\n",
       "1    161.0\n",
       "2      NaN\n",
       "3      NaN\n",
       "4      NaN\n",
       "5      NaN\n",
       "6      NaN\n",
       "7      NaN\n",
       "dtype: float64"
      ]
     },
     "execution_count": 455,
     "metadata": {},
     "output_type": "execute_result"
    }
   ],
   "source": [
    "s1 = pd.Series([1, 100])\n",
    "s1\n",
    "#   8       2\n",
    "'''df['Age']     s1\n",
    "0     57 +  0      1\n",
    "1     81 +  1    100\n",
    "2    110 +  2    NaN\n",
    "3     86 +  3    NaN\n",
    "4     76 +  4    NaN\n",
    "5     65 +  5    NaN\n",
    "6     61 +  6    NaN\n",
    "7     97 +  7    NaN\n",
    "'''\n",
    "df['Age'] + s1"
   ]
  },
  {
   "cell_type": "code",
   "execution_count": 460,
   "id": "6790c9d3-c54c-43a3-a99d-b6d39e9ad3aa",
   "metadata": {},
   "outputs": [
    {
     "data": {
      "text/plain": [
       "0     74\n",
       "1    122\n",
       "2    180\n",
       "3    132\n",
       "4    112\n",
       "5     90\n",
       "6     82\n",
       "7    154\n",
       "Name: Age, dtype: int64"
      ]
     },
     "execution_count": 460,
     "metadata": {},
     "output_type": "execute_result"
    }
   ],
   "source": [
    "df['Age']\n",
    "ev_df = df['Age'].sort_index(ascending=False)\n",
    "ev_df\n",
    "'''\n",
    "0    37   +  7    77\n",
    "1    61   +  6    41\n",
    "2    90   +  5    45\n",
    "3    66   +  4    56\n",
    "4    56   +  3    66\n",
    "5    45   +  2    90\n",
    "6    41   +  1    61\n",
    "7    77   +  0    37\n",
    "'''\n",
    "df['Age'] + ev_df # 순서와 상관 없이 index와 index끼리의 연산이다."
   ]
  },
  {
   "cell_type": "code",
   "execution_count": 462,
   "id": "8f7703d1-ed8f-4c39-916b-47c233c8729a",
   "metadata": {},
   "outputs": [
    {
     "data": {
      "text/html": [
       "<div>\n",
       "<style scoped>\n",
       "    .dataframe tbody tr th:only-of-type {\n",
       "        vertical-align: middle;\n",
       "    }\n",
       "\n",
       "    .dataframe tbody tr th {\n",
       "        vertical-align: top;\n",
       "    }\n",
       "\n",
       "    .dataframe thead th {\n",
       "        text-align: right;\n",
       "    }\n",
       "</style>\n",
       "<table border=\"1\" class=\"dataframe\">\n",
       "  <thead>\n",
       "    <tr style=\"text-align: right;\">\n",
       "      <th></th>\n",
       "      <th>Name</th>\n",
       "      <th>Born</th>\n",
       "      <th>Died</th>\n",
       "      <th>Age</th>\n",
       "      <th>Occupation</th>\n",
       "    </tr>\n",
       "  </thead>\n",
       "  <tbody>\n",
       "    <tr>\n",
       "      <th>0</th>\n",
       "      <td>Rosaline FranklinRosaline Franklin</td>\n",
       "      <td>1920-07-251920-07-25</td>\n",
       "      <td>1958-04-161958-04-16</td>\n",
       "      <td>74</td>\n",
       "      <td>ChemistChemist</td>\n",
       "    </tr>\n",
       "    <tr>\n",
       "      <th>1</th>\n",
       "      <td>William GossetWilliam Gosset</td>\n",
       "      <td>1876-06-131876-06-13</td>\n",
       "      <td>1937-10-161937-10-16</td>\n",
       "      <td>122</td>\n",
       "      <td>StatisticianStatistician</td>\n",
       "    </tr>\n",
       "    <tr>\n",
       "      <th>2</th>\n",
       "      <td>Florence NightingaleFlorence Nightingale</td>\n",
       "      <td>1820-05-121820-05-12</td>\n",
       "      <td>1910-08-131910-08-13</td>\n",
       "      <td>180</td>\n",
       "      <td>NurseNurse</td>\n",
       "    </tr>\n",
       "    <tr>\n",
       "      <th>3</th>\n",
       "      <td>Marie CurieMarie Curie</td>\n",
       "      <td>1867-11-071867-11-07</td>\n",
       "      <td>1934-07-041934-07-04</td>\n",
       "      <td>132</td>\n",
       "      <td>ChemistChemist</td>\n",
       "    </tr>\n",
       "    <tr>\n",
       "      <th>4</th>\n",
       "      <td>Rachel CarsonRachel Carson</td>\n",
       "      <td>1907-05-271907-05-27</td>\n",
       "      <td>1964-04-141964-04-14</td>\n",
       "      <td>112</td>\n",
       "      <td>BiologistBiologist</td>\n",
       "    </tr>\n",
       "    <tr>\n",
       "      <th>5</th>\n",
       "      <td>John SnowJohn Snow</td>\n",
       "      <td>1813-03-151813-03-15</td>\n",
       "      <td>1858-06-161858-06-16</td>\n",
       "      <td>90</td>\n",
       "      <td>PhysicianPhysician</td>\n",
       "    </tr>\n",
       "    <tr>\n",
       "      <th>6</th>\n",
       "      <td>Alan TuringAlan Turing</td>\n",
       "      <td>1912-06-231912-06-23</td>\n",
       "      <td>1954-06-071954-06-07</td>\n",
       "      <td>82</td>\n",
       "      <td>Computer ScientistComputer Scientist</td>\n",
       "    </tr>\n",
       "    <tr>\n",
       "      <th>7</th>\n",
       "      <td>Johann GaussJohann Gauss</td>\n",
       "      <td>1777-04-301777-04-30</td>\n",
       "      <td>1855-02-231855-02-23</td>\n",
       "      <td>154</td>\n",
       "      <td>MathematicianMathematician</td>\n",
       "    </tr>\n",
       "  </tbody>\n",
       "</table>\n",
       "</div>"
      ],
      "text/plain": [
       "                                       Name                  Born  \\\n",
       "0        Rosaline FranklinRosaline Franklin  1920-07-251920-07-25   \n",
       "1              William GossetWilliam Gosset  1876-06-131876-06-13   \n",
       "2  Florence NightingaleFlorence Nightingale  1820-05-121820-05-12   \n",
       "3                    Marie CurieMarie Curie  1867-11-071867-11-07   \n",
       "4                Rachel CarsonRachel Carson  1907-05-271907-05-27   \n",
       "5                        John SnowJohn Snow  1813-03-151813-03-15   \n",
       "6                    Alan TuringAlan Turing  1912-06-231912-06-23   \n",
       "7                  Johann GaussJohann Gauss  1777-04-301777-04-30   \n",
       "\n",
       "                   Died  Age                            Occupation  \n",
       "0  1958-04-161958-04-16   74                        ChemistChemist  \n",
       "1  1937-10-161937-10-16  122              StatisticianStatistician  \n",
       "2  1910-08-131910-08-13  180                            NurseNurse  \n",
       "3  1934-07-041934-07-04  132                        ChemistChemist  \n",
       "4  1964-04-141964-04-14  112                    BiologistBiologist  \n",
       "5  1858-06-161858-06-16   90                    PhysicianPhysician  \n",
       "6  1954-06-071954-06-07   82  Computer ScientistComputer Scientist  \n",
       "7  1855-02-231855-02-23  154            MathematicianMathematician  "
      ]
     },
     "execution_count": 462,
     "metadata": {},
     "output_type": "execute_result"
    }
   ],
   "source": [
    "## 데이터프레임 연산 : 브로드케스팅\n",
    "# 데이터프레임과 정수 연산\n",
    "'''\n",
    "\tName\tBorn\tDied\tAge\tOccupation\n",
    "0\tRosaline Franklin\t1920-07-25\t1958-04-16\t37\tChemist      * 2 2 2 2 2 2\n",
    "1\tWilliam Gosset\t1876-06-13\t1937-10-16\t61\tStatistician     * 2 2 2 2 2 2\n",
    "2\tFlorence Nightingale\t1820-05-12\t1910-08-13\t90\tNurse    * 2 2 2 2 2 2\n",
    "3\tMarie Curie\t1867-11-07\t1934-07-04\t66\tChemist              * 2 2 2 2 2 2\n",
    "4\tRachel Carson\t1907-05-27\t1964-04-14\t56\tBiologist        * 2 2 2 2 2 2\n",
    "5\tJohn Snow\t1813-03-15\t1858-06-16\t45\tPhysician            * 2 2 2 2 2 2\n",
    "6\tAlan Turing\t1912-06-23\t1954-06-07\t41\tComputer Scientist   * 2 2 2 2 2 2\n",
    "7\tJohann Gauss\t1777-04-30\t1855-02-23\t77\tMathematician    * 2 2 2 2 2 2\n",
    "'''\n",
    "df * 2"
   ]
  },
  {
   "cell_type": "code",
   "execution_count": 474,
   "id": "c5ea3a9d-fcdd-45e1-8a3c-00a8a63c8ba7",
   "metadata": {},
   "outputs": [
    {
     "name": "stdout",
     "output_type": "stream",
     "text": [
      "<class 'pandas.core.frame.DataFrame'>\n",
      "RangeIndex: 8 entries, 0 to 7\n",
      "Data columns (total 5 columns):\n",
      " #   Column      Non-Null Count  Dtype \n",
      "---  ------      --------------  ----- \n",
      " 0   Name        8 non-null      object\n",
      " 1   Born        8 non-null      object\n",
      " 2   Died        8 non-null      object\n",
      " 3   Age         8 non-null      int64 \n",
      " 4   Occupation  8 non-null      object\n",
      "dtypes: int64(1), object(4)\n",
      "memory usage: 452.0+ bytes\n"
     ]
    },
    {
     "data": {
      "text/plain": [
       "0   37 days 18:00:59.178082191\n",
       "1   61 days 09:08:23.013698630\n",
       "2   90 days 07:29:45.205479452\n",
       "3   66 days 16:46:01.643835616\n",
       "4   56 days 22:09:32.054794520\n",
       "5   45 days 06:50:18.082191780\n",
       "6   41 days 23:36:19.726027397\n",
       "7   77 days 20:50:37.808219178\n",
       "dtype: timedelta64[ns]"
      ]
     },
     "execution_count": 474,
     "metadata": {},
     "output_type": "execute_result"
    }
   ],
   "source": [
    "#날짜연산\n",
    "df\n",
    "df['Born']\n",
    "df['Died']\n",
    "df.info()\n",
    "#df['Died'] - df['Died']\n",
    "Born = pd.to_datetime(df['Born'] , format=\"%Y-%m-%d\")  #문자열의 날짜 형식을 적어주는 것이 format이다.\n",
    "Died = pd.to_datetime(df['Died'] , format=\"%Y-%m-%d\")\n",
    "(Died - Born) / 365"
   ]
  },
  {
   "cell_type": "code",
   "execution_count": 479,
   "id": "efce9e33-9ff5-466a-ab67-643482769f55",
   "metadata": {},
   "outputs": [
    {
     "data": {
      "text/html": [
       "<div>\n",
       "<style scoped>\n",
       "    .dataframe tbody tr th:only-of-type {\n",
       "        vertical-align: middle;\n",
       "    }\n",
       "\n",
       "    .dataframe tbody tr th {\n",
       "        vertical-align: top;\n",
       "    }\n",
       "\n",
       "    .dataframe thead th {\n",
       "        text-align: right;\n",
       "    }\n",
       "</style>\n",
       "<table border=\"1\" class=\"dataframe\">\n",
       "  <thead>\n",
       "    <tr style=\"text-align: right;\">\n",
       "      <th></th>\n",
       "      <th>Name</th>\n",
       "      <th>Born</th>\n",
       "      <th>Died</th>\n",
       "      <th>Age</th>\n",
       "      <th>Occupation</th>\n",
       "      <th>age_days_dt</th>\n",
       "      <th>Died_dt</th>\n",
       "      <th>Born_dt</th>\n",
       "    </tr>\n",
       "  </thead>\n",
       "  <tbody>\n",
       "    <tr>\n",
       "      <th>0</th>\n",
       "      <td>Rosaline Franklin</td>\n",
       "      <td>1920-07-25</td>\n",
       "      <td>1958-04-16</td>\n",
       "      <td>37</td>\n",
       "      <td>Chemist</td>\n",
       "      <td>37 days 18:00:59.178082191</td>\n",
       "      <td>1958-04-16</td>\n",
       "      <td>1920-07-25</td>\n",
       "    </tr>\n",
       "    <tr>\n",
       "      <th>1</th>\n",
       "      <td>William Gosset</td>\n",
       "      <td>1876-06-13</td>\n",
       "      <td>1937-10-16</td>\n",
       "      <td>61</td>\n",
       "      <td>Statistician</td>\n",
       "      <td>61 days 09:08:23.013698630</td>\n",
       "      <td>1937-10-16</td>\n",
       "      <td>1876-06-13</td>\n",
       "    </tr>\n",
       "    <tr>\n",
       "      <th>2</th>\n",
       "      <td>Florence Nightingale</td>\n",
       "      <td>1820-05-12</td>\n",
       "      <td>1910-08-13</td>\n",
       "      <td>90</td>\n",
       "      <td>Nurse</td>\n",
       "      <td>90 days 07:29:45.205479452</td>\n",
       "      <td>1910-08-13</td>\n",
       "      <td>1820-05-12</td>\n",
       "    </tr>\n",
       "    <tr>\n",
       "      <th>3</th>\n",
       "      <td>Marie Curie</td>\n",
       "      <td>1867-11-07</td>\n",
       "      <td>1934-07-04</td>\n",
       "      <td>66</td>\n",
       "      <td>Chemist</td>\n",
       "      <td>66 days 16:46:01.643835616</td>\n",
       "      <td>1934-07-04</td>\n",
       "      <td>1867-11-07</td>\n",
       "    </tr>\n",
       "    <tr>\n",
       "      <th>4</th>\n",
       "      <td>Rachel Carson</td>\n",
       "      <td>1907-05-27</td>\n",
       "      <td>1964-04-14</td>\n",
       "      <td>56</td>\n",
       "      <td>Biologist</td>\n",
       "      <td>56 days 22:09:32.054794520</td>\n",
       "      <td>1964-04-14</td>\n",
       "      <td>1907-05-27</td>\n",
       "    </tr>\n",
       "    <tr>\n",
       "      <th>5</th>\n",
       "      <td>John Snow</td>\n",
       "      <td>1813-03-15</td>\n",
       "      <td>1858-06-16</td>\n",
       "      <td>45</td>\n",
       "      <td>Physician</td>\n",
       "      <td>45 days 06:50:18.082191780</td>\n",
       "      <td>1858-06-16</td>\n",
       "      <td>1813-03-15</td>\n",
       "    </tr>\n",
       "    <tr>\n",
       "      <th>6</th>\n",
       "      <td>Alan Turing</td>\n",
       "      <td>1912-06-23</td>\n",
       "      <td>1954-06-07</td>\n",
       "      <td>41</td>\n",
       "      <td>Computer Scientist</td>\n",
       "      <td>41 days 23:36:19.726027397</td>\n",
       "      <td>1954-06-07</td>\n",
       "      <td>1912-06-23</td>\n",
       "    </tr>\n",
       "    <tr>\n",
       "      <th>7</th>\n",
       "      <td>Johann Gauss</td>\n",
       "      <td>1777-04-30</td>\n",
       "      <td>1855-02-23</td>\n",
       "      <td>77</td>\n",
       "      <td>Mathematician</td>\n",
       "      <td>77 days 20:50:37.808219178</td>\n",
       "      <td>1855-02-23</td>\n",
       "      <td>1777-04-30</td>\n",
       "    </tr>\n",
       "  </tbody>\n",
       "</table>\n",
       "</div>"
      ],
      "text/plain": [
       "                   Name        Born        Died  Age          Occupation  \\\n",
       "0     Rosaline Franklin  1920-07-25  1958-04-16   37             Chemist   \n",
       "1        William Gosset  1876-06-13  1937-10-16   61        Statistician   \n",
       "2  Florence Nightingale  1820-05-12  1910-08-13   90               Nurse   \n",
       "3           Marie Curie  1867-11-07  1934-07-04   66             Chemist   \n",
       "4         Rachel Carson  1907-05-27  1964-04-14   56           Biologist   \n",
       "5             John Snow  1813-03-15  1858-06-16   45           Physician   \n",
       "6           Alan Turing  1912-06-23  1954-06-07   41  Computer Scientist   \n",
       "7          Johann Gauss  1777-04-30  1855-02-23   77       Mathematician   \n",
       "\n",
       "                 age_days_dt    Died_dt    Born_dt  \n",
       "0 37 days 18:00:59.178082191 1958-04-16 1920-07-25  \n",
       "1 61 days 09:08:23.013698630 1937-10-16 1876-06-13  \n",
       "2 90 days 07:29:45.205479452 1910-08-13 1820-05-12  \n",
       "3 66 days 16:46:01.643835616 1934-07-04 1867-11-07  \n",
       "4 56 days 22:09:32.054794520 1964-04-14 1907-05-27  \n",
       "5 45 days 06:50:18.082191780 1858-06-16 1813-03-15  \n",
       "6 41 days 23:36:19.726027397 1954-06-07 1912-06-23  \n",
       "7 77 days 20:50:37.808219178 1855-02-23 1777-04-30  "
      ]
     },
     "execution_count": 479,
     "metadata": {},
     "output_type": "execute_result"
    }
   ],
   "source": [
    "dic = {0:'이',1:'숭'}\n",
    "dic[0] = '박'\n",
    "dic\n",
    "dic[3] = '무'\n",
    "dic\n",
    "df\n",
    "df['age_days_dt'] = (Died - Born) / 365\n",
    "df\n",
    "df['Died_dt']  , df['Born_dt'] = Died , Born\n",
    "df"
   ]
  },
  {
   "cell_type": "code",
   "execution_count": 485,
   "id": "63e3ec1d-e7f2-4b7e-8087-1b9dd829b72e",
   "metadata": {},
   "outputs": [
    {
     "data": {
      "text/html": [
       "<div>\n",
       "<style scoped>\n",
       "    .dataframe tbody tr th:only-of-type {\n",
       "        vertical-align: middle;\n",
       "    }\n",
       "\n",
       "    .dataframe tbody tr th {\n",
       "        vertical-align: top;\n",
       "    }\n",
       "\n",
       "    .dataframe thead th {\n",
       "        text-align: right;\n",
       "    }\n",
       "</style>\n",
       "<table border=\"1\" class=\"dataframe\">\n",
       "  <thead>\n",
       "    <tr style=\"text-align: right;\">\n",
       "      <th></th>\n",
       "      <th>Name</th>\n",
       "      <th>Born</th>\n",
       "      <th>Died</th>\n",
       "      <th>Age</th>\n",
       "      <th>Occupation</th>\n",
       "      <th>age_days_dt</th>\n",
       "      <th>Died_dt</th>\n",
       "      <th>Born_dt</th>\n",
       "    </tr>\n",
       "  </thead>\n",
       "  <tbody>\n",
       "    <tr>\n",
       "      <th>0</th>\n",
       "      <td>Rosaline Franklin</td>\n",
       "      <td>1920-07-25</td>\n",
       "      <td>1958-04-16</td>\n",
       "      <td>37</td>\n",
       "      <td>Chemist</td>\n",
       "      <td>37 days 18:00:59.178082191</td>\n",
       "      <td>1958-04-16</td>\n",
       "      <td>1920-07-25</td>\n",
       "    </tr>\n",
       "    <tr>\n",
       "      <th>1</th>\n",
       "      <td>William Gosset</td>\n",
       "      <td>1876-06-13</td>\n",
       "      <td>1937-10-16</td>\n",
       "      <td>61</td>\n",
       "      <td>Statistician</td>\n",
       "      <td>61 days 09:08:23.013698630</td>\n",
       "      <td>1937-10-16</td>\n",
       "      <td>1876-06-13</td>\n",
       "    </tr>\n",
       "    <tr>\n",
       "      <th>2</th>\n",
       "      <td>Florence Nightingale</td>\n",
       "      <td>1820-05-12</td>\n",
       "      <td>1910-08-13</td>\n",
       "      <td>90</td>\n",
       "      <td>Nurse</td>\n",
       "      <td>90 days 07:29:45.205479452</td>\n",
       "      <td>1910-08-13</td>\n",
       "      <td>1820-05-12</td>\n",
       "    </tr>\n",
       "    <tr>\n",
       "      <th>3</th>\n",
       "      <td>Marie Curie</td>\n",
       "      <td>1867-11-07</td>\n",
       "      <td>1934-07-04</td>\n",
       "      <td>66</td>\n",
       "      <td>Chemist</td>\n",
       "      <td>66 days 16:46:01.643835616</td>\n",
       "      <td>1934-07-04</td>\n",
       "      <td>1867-11-07</td>\n",
       "    </tr>\n",
       "    <tr>\n",
       "      <th>4</th>\n",
       "      <td>Rachel Carson</td>\n",
       "      <td>1907-05-27</td>\n",
       "      <td>1964-04-14</td>\n",
       "      <td>56</td>\n",
       "      <td>Biologist</td>\n",
       "      <td>56 days 22:09:32.054794520</td>\n",
       "      <td>1964-04-14</td>\n",
       "      <td>1907-05-27</td>\n",
       "    </tr>\n",
       "    <tr>\n",
       "      <th>5</th>\n",
       "      <td>John Snow</td>\n",
       "      <td>1813-03-15</td>\n",
       "      <td>1858-06-16</td>\n",
       "      <td>45</td>\n",
       "      <td>Physician</td>\n",
       "      <td>45 days 06:50:18.082191780</td>\n",
       "      <td>1858-06-16</td>\n",
       "      <td>1813-03-15</td>\n",
       "    </tr>\n",
       "    <tr>\n",
       "      <th>6</th>\n",
       "      <td>Alan Turing</td>\n",
       "      <td>1912-06-23</td>\n",
       "      <td>1954-06-07</td>\n",
       "      <td>41</td>\n",
       "      <td>Computer Scientist</td>\n",
       "      <td>41 days 23:36:19.726027397</td>\n",
       "      <td>1954-06-07</td>\n",
       "      <td>1912-06-23</td>\n",
       "    </tr>\n",
       "    <tr>\n",
       "      <th>7</th>\n",
       "      <td>Johann Gauss</td>\n",
       "      <td>1777-04-30</td>\n",
       "      <td>1855-02-23</td>\n",
       "      <td>77</td>\n",
       "      <td>Mathematician</td>\n",
       "      <td>77 days 20:50:37.808219178</td>\n",
       "      <td>1855-02-23</td>\n",
       "      <td>1777-04-30</td>\n",
       "    </tr>\n",
       "  </tbody>\n",
       "</table>\n",
       "</div>"
      ],
      "text/plain": [
       "                   Name        Born        Died  Age          Occupation  \\\n",
       "0     Rosaline Franklin  1920-07-25  1958-04-16   37             Chemist   \n",
       "1        William Gosset  1876-06-13  1937-10-16   61        Statistician   \n",
       "2  Florence Nightingale  1820-05-12  1910-08-13   90               Nurse   \n",
       "3           Marie Curie  1867-11-07  1934-07-04   66             Chemist   \n",
       "4         Rachel Carson  1907-05-27  1964-04-14   56           Biologist   \n",
       "5             John Snow  1813-03-15  1858-06-16   45           Physician   \n",
       "6           Alan Turing  1912-06-23  1954-06-07   41  Computer Scientist   \n",
       "7          Johann Gauss  1777-04-30  1855-02-23   77       Mathematician   \n",
       "\n",
       "                 age_days_dt    Died_dt    Born_dt  \n",
       "0 37 days 18:00:59.178082191 1958-04-16 1920-07-25  \n",
       "1 61 days 09:08:23.013698630 1937-10-16 1876-06-13  \n",
       "2 90 days 07:29:45.205479452 1910-08-13 1820-05-12  \n",
       "3 66 days 16:46:01.643835616 1934-07-04 1867-11-07  \n",
       "4 56 days 22:09:32.054794520 1964-04-14 1907-05-27  \n",
       "5 45 days 06:50:18.082191780 1858-06-16 1813-03-15  \n",
       "6 41 days 23:36:19.726027397 1954-06-07 1912-06-23  \n",
       "7 77 days 20:50:37.808219178 1855-02-23 1777-04-30  "
      ]
     },
     "execution_count": 485,
     "metadata": {},
     "output_type": "execute_result"
    }
   ],
   "source": [
    "# DataFrame에서 열 삭제\n",
    "# 열은 행의 집합체다.\n",
    "df_drop  = df.drop('age_days_dt', axis= 1)\n",
    "df_drop\n",
    "df"
   ]
  },
  {
   "cell_type": "code",
   "execution_count": 486,
   "id": "ff503b7b-1afb-4c9e-9069-7ff5a77e5937",
   "metadata": {},
   "outputs": [
    {
     "data": {
      "text/html": [
       "<div>\n",
       "<style scoped>\n",
       "    .dataframe tbody tr th:only-of-type {\n",
       "        vertical-align: middle;\n",
       "    }\n",
       "\n",
       "    .dataframe tbody tr th {\n",
       "        vertical-align: top;\n",
       "    }\n",
       "\n",
       "    .dataframe thead th {\n",
       "        text-align: right;\n",
       "    }\n",
       "</style>\n",
       "<table border=\"1\" class=\"dataframe\">\n",
       "  <thead>\n",
       "    <tr style=\"text-align: right;\">\n",
       "      <th></th>\n",
       "      <th>Name</th>\n",
       "      <th>Born</th>\n",
       "      <th>Died</th>\n",
       "      <th>Age</th>\n",
       "      <th>Occupation</th>\n",
       "      <th>age_days_dt</th>\n",
       "      <th>Died_dt</th>\n",
       "      <th>Born_dt</th>\n",
       "    </tr>\n",
       "  </thead>\n",
       "  <tbody>\n",
       "    <tr>\n",
       "      <th>1</th>\n",
       "      <td>William Gosset</td>\n",
       "      <td>1876-06-13</td>\n",
       "      <td>1937-10-16</td>\n",
       "      <td>61</td>\n",
       "      <td>Statistician</td>\n",
       "      <td>61 days 09:08:23.013698630</td>\n",
       "      <td>1937-10-16</td>\n",
       "      <td>1876-06-13</td>\n",
       "    </tr>\n",
       "    <tr>\n",
       "      <th>2</th>\n",
       "      <td>Florence Nightingale</td>\n",
       "      <td>1820-05-12</td>\n",
       "      <td>1910-08-13</td>\n",
       "      <td>90</td>\n",
       "      <td>Nurse</td>\n",
       "      <td>90 days 07:29:45.205479452</td>\n",
       "      <td>1910-08-13</td>\n",
       "      <td>1820-05-12</td>\n",
       "    </tr>\n",
       "    <tr>\n",
       "      <th>3</th>\n",
       "      <td>Marie Curie</td>\n",
       "      <td>1867-11-07</td>\n",
       "      <td>1934-07-04</td>\n",
       "      <td>66</td>\n",
       "      <td>Chemist</td>\n",
       "      <td>66 days 16:46:01.643835616</td>\n",
       "      <td>1934-07-04</td>\n",
       "      <td>1867-11-07</td>\n",
       "    </tr>\n",
       "    <tr>\n",
       "      <th>4</th>\n",
       "      <td>Rachel Carson</td>\n",
       "      <td>1907-05-27</td>\n",
       "      <td>1964-04-14</td>\n",
       "      <td>56</td>\n",
       "      <td>Biologist</td>\n",
       "      <td>56 days 22:09:32.054794520</td>\n",
       "      <td>1964-04-14</td>\n",
       "      <td>1907-05-27</td>\n",
       "    </tr>\n",
       "    <tr>\n",
       "      <th>5</th>\n",
       "      <td>John Snow</td>\n",
       "      <td>1813-03-15</td>\n",
       "      <td>1858-06-16</td>\n",
       "      <td>45</td>\n",
       "      <td>Physician</td>\n",
       "      <td>45 days 06:50:18.082191780</td>\n",
       "      <td>1858-06-16</td>\n",
       "      <td>1813-03-15</td>\n",
       "    </tr>\n",
       "    <tr>\n",
       "      <th>6</th>\n",
       "      <td>Alan Turing</td>\n",
       "      <td>1912-06-23</td>\n",
       "      <td>1954-06-07</td>\n",
       "      <td>41</td>\n",
       "      <td>Computer Scientist</td>\n",
       "      <td>41 days 23:36:19.726027397</td>\n",
       "      <td>1954-06-07</td>\n",
       "      <td>1912-06-23</td>\n",
       "    </tr>\n",
       "    <tr>\n",
       "      <th>7</th>\n",
       "      <td>Johann Gauss</td>\n",
       "      <td>1777-04-30</td>\n",
       "      <td>1855-02-23</td>\n",
       "      <td>77</td>\n",
       "      <td>Mathematician</td>\n",
       "      <td>77 days 20:50:37.808219178</td>\n",
       "      <td>1855-02-23</td>\n",
       "      <td>1777-04-30</td>\n",
       "    </tr>\n",
       "  </tbody>\n",
       "</table>\n",
       "</div>"
      ],
      "text/plain": [
       "                   Name        Born        Died  Age          Occupation  \\\n",
       "1        William Gosset  1876-06-13  1937-10-16   61        Statistician   \n",
       "2  Florence Nightingale  1820-05-12  1910-08-13   90               Nurse   \n",
       "3           Marie Curie  1867-11-07  1934-07-04   66             Chemist   \n",
       "4         Rachel Carson  1907-05-27  1964-04-14   56           Biologist   \n",
       "5             John Snow  1813-03-15  1858-06-16   45           Physician   \n",
       "6           Alan Turing  1912-06-23  1954-06-07   41  Computer Scientist   \n",
       "7          Johann Gauss  1777-04-30  1855-02-23   77       Mathematician   \n",
       "\n",
       "                 age_days_dt    Died_dt    Born_dt  \n",
       "1 61 days 09:08:23.013698630 1937-10-16 1876-06-13  \n",
       "2 90 days 07:29:45.205479452 1910-08-13 1820-05-12  \n",
       "3 66 days 16:46:01.643835616 1934-07-04 1867-11-07  \n",
       "4 56 days 22:09:32.054794520 1964-04-14 1907-05-27  \n",
       "5 45 days 06:50:18.082191780 1858-06-16 1813-03-15  \n",
       "6 41 days 23:36:19.726027397 1954-06-07 1912-06-23  \n",
       "7 77 days 20:50:37.808219178 1855-02-23 1777-04-30  "
      ]
     },
     "execution_count": 486,
     "metadata": {},
     "output_type": "execute_result"
    }
   ],
   "source": [
    "# DataFrame에서 행 삭제 \n",
    "# 행은 열의 집합체\n",
    "df_drop_row = df.drop([0] , axis = 0)\n",
    "df_drop_row\n"
   ]
  },
  {
   "cell_type": "code",
   "execution_count": 487,
   "id": "65442106-1c82-490c-807e-5c40e047f16e",
   "metadata": {},
   "outputs": [
    {
     "data": {
      "text/html": [
       "<div>\n",
       "<style scoped>\n",
       "    .dataframe tbody tr th:only-of-type {\n",
       "        vertical-align: middle;\n",
       "    }\n",
       "\n",
       "    .dataframe tbody tr th {\n",
       "        vertical-align: top;\n",
       "    }\n",
       "\n",
       "    .dataframe thead th {\n",
       "        text-align: right;\n",
       "    }\n",
       "</style>\n",
       "<table border=\"1\" class=\"dataframe\">\n",
       "  <thead>\n",
       "    <tr style=\"text-align: right;\">\n",
       "      <th></th>\n",
       "      <th>Name</th>\n",
       "      <th>Born</th>\n",
       "      <th>Died</th>\n",
       "      <th>Age</th>\n",
       "      <th>Occupation</th>\n",
       "      <th>age_days_dt</th>\n",
       "      <th>Died_dt</th>\n",
       "      <th>Born_dt</th>\n",
       "    </tr>\n",
       "  </thead>\n",
       "  <tbody>\n",
       "    <tr>\n",
       "      <th>1</th>\n",
       "      <td>William Gosset</td>\n",
       "      <td>1876-06-13</td>\n",
       "      <td>1937-10-16</td>\n",
       "      <td>61</td>\n",
       "      <td>Statistician</td>\n",
       "      <td>61 days 09:08:23.013698630</td>\n",
       "      <td>1937-10-16</td>\n",
       "      <td>1876-06-13</td>\n",
       "    </tr>\n",
       "    <tr>\n",
       "      <th>2</th>\n",
       "      <td>Florence Nightingale</td>\n",
       "      <td>1820-05-12</td>\n",
       "      <td>1910-08-13</td>\n",
       "      <td>90</td>\n",
       "      <td>Nurse</td>\n",
       "      <td>90 days 07:29:45.205479452</td>\n",
       "      <td>1910-08-13</td>\n",
       "      <td>1820-05-12</td>\n",
       "    </tr>\n",
       "    <tr>\n",
       "      <th>4</th>\n",
       "      <td>Rachel Carson</td>\n",
       "      <td>1907-05-27</td>\n",
       "      <td>1964-04-14</td>\n",
       "      <td>56</td>\n",
       "      <td>Biologist</td>\n",
       "      <td>56 days 22:09:32.054794520</td>\n",
       "      <td>1964-04-14</td>\n",
       "      <td>1907-05-27</td>\n",
       "    </tr>\n",
       "    <tr>\n",
       "      <th>6</th>\n",
       "      <td>Alan Turing</td>\n",
       "      <td>1912-06-23</td>\n",
       "      <td>1954-06-07</td>\n",
       "      <td>41</td>\n",
       "      <td>Computer Scientist</td>\n",
       "      <td>41 days 23:36:19.726027397</td>\n",
       "      <td>1954-06-07</td>\n",
       "      <td>1912-06-23</td>\n",
       "    </tr>\n",
       "    <tr>\n",
       "      <th>7</th>\n",
       "      <td>Johann Gauss</td>\n",
       "      <td>1777-04-30</td>\n",
       "      <td>1855-02-23</td>\n",
       "      <td>77</td>\n",
       "      <td>Mathematician</td>\n",
       "      <td>77 days 20:50:37.808219178</td>\n",
       "      <td>1855-02-23</td>\n",
       "      <td>1777-04-30</td>\n",
       "    </tr>\n",
       "  </tbody>\n",
       "</table>\n",
       "</div>"
      ],
      "text/plain": [
       "                   Name        Born        Died  Age          Occupation  \\\n",
       "1        William Gosset  1876-06-13  1937-10-16   61        Statistician   \n",
       "2  Florence Nightingale  1820-05-12  1910-08-13   90               Nurse   \n",
       "4         Rachel Carson  1907-05-27  1964-04-14   56           Biologist   \n",
       "6           Alan Turing  1912-06-23  1954-06-07   41  Computer Scientist   \n",
       "7          Johann Gauss  1777-04-30  1855-02-23   77       Mathematician   \n",
       "\n",
       "                 age_days_dt    Died_dt    Born_dt  \n",
       "1 61 days 09:08:23.013698630 1937-10-16 1876-06-13  \n",
       "2 90 days 07:29:45.205479452 1910-08-13 1820-05-12  \n",
       "4 56 days 22:09:32.054794520 1964-04-14 1907-05-27  \n",
       "6 41 days 23:36:19.726027397 1954-06-07 1912-06-23  \n",
       "7 77 days 20:50:37.808219178 1855-02-23 1777-04-30  "
      ]
     },
     "execution_count": 487,
     "metadata": {},
     "output_type": "execute_result"
    }
   ],
   "source": [
    "df_drop_row = df.drop([0, 3, 5] , axis = 0)\n",
    "df_drop_row"
   ]
  },
  {
   "cell_type": "code",
   "execution_count": 488,
   "id": "2de33ac7-5b53-42a2-b39a-64170b9d071a",
   "metadata": {},
   "outputs": [
    {
     "data": {
      "text/plain": [
       "(    A   B   C   D\n",
       " 0  a0  b0  c0  d0\n",
       " 1  a1  b1  c1  d1\n",
       " 2  a2  b2  c2  d2\n",
       " 3  a3  b3  c3  d3,\n",
       "     A   B   C   D\n",
       " 0  a4  b4  c4  d4\n",
       " 1  a5  b5  c5  d5\n",
       " 2  a6  b6  c6  d6\n",
       " 3  a7  b7  c7  d7,\n",
       "      A    B    C    D\n",
       " 0   a8   b8   c8   d8\n",
       " 1   a9   b9   c9   d9\n",
       " 2  a10  b10  c10  d10\n",
       " 3  a11  b11  c11  d11)"
      ]
     },
     "execution_count": 488,
     "metadata": {},
     "output_type": "execute_result"
    }
   ],
   "source": [
    "#누락 값(NaN)처리\n",
    "df1 = pd.read_csv(\"https://raw.githubusercontent.com/SoongMoo/soldesk20231202/main/data/concat_1.csv\")\n",
    "df2 = pd.read_csv(\"https://raw.githubusercontent.com/SoongMoo/soldesk20231202/main/data/concat_2.csv\")\n",
    "df3 = pd.read_csv(\"https://raw.githubusercontent.com/SoongMoo/soldesk20231202/main/data/concat_3.csv\")\n",
    "df1, df2, df3"
   ]
  },
  {
   "cell_type": "code",
   "execution_count": 489,
   "id": "131dc77b-d3c8-46b9-aa98-c213d4e75c34",
   "metadata": {},
   "outputs": [
    {
     "data": {
      "text/html": [
       "<div>\n",
       "<style scoped>\n",
       "    .dataframe tbody tr th:only-of-type {\n",
       "        vertical-align: middle;\n",
       "    }\n",
       "\n",
       "    .dataframe tbody tr th {\n",
       "        vertical-align: top;\n",
       "    }\n",
       "\n",
       "    .dataframe thead th {\n",
       "        text-align: right;\n",
       "    }\n",
       "</style>\n",
       "<table border=\"1\" class=\"dataframe\">\n",
       "  <thead>\n",
       "    <tr style=\"text-align: right;\">\n",
       "      <th></th>\n",
       "      <th>A</th>\n",
       "      <th>B</th>\n",
       "      <th>C</th>\n",
       "      <th>D</th>\n",
       "    </tr>\n",
       "  </thead>\n",
       "  <tbody>\n",
       "    <tr>\n",
       "      <th>0</th>\n",
       "      <td>a0</td>\n",
       "      <td>b0</td>\n",
       "      <td>c0</td>\n",
       "      <td>d0</td>\n",
       "    </tr>\n",
       "    <tr>\n",
       "      <th>1</th>\n",
       "      <td>a1</td>\n",
       "      <td>b1</td>\n",
       "      <td>c1</td>\n",
       "      <td>d1</td>\n",
       "    </tr>\n",
       "    <tr>\n",
       "      <th>2</th>\n",
       "      <td>a2</td>\n",
       "      <td>b2</td>\n",
       "      <td>c2</td>\n",
       "      <td>d2</td>\n",
       "    </tr>\n",
       "    <tr>\n",
       "      <th>3</th>\n",
       "      <td>a3</td>\n",
       "      <td>b3</td>\n",
       "      <td>c3</td>\n",
       "      <td>d3</td>\n",
       "    </tr>\n",
       "    <tr>\n",
       "      <th>0</th>\n",
       "      <td>a4</td>\n",
       "      <td>b4</td>\n",
       "      <td>c4</td>\n",
       "      <td>d4</td>\n",
       "    </tr>\n",
       "    <tr>\n",
       "      <th>1</th>\n",
       "      <td>a5</td>\n",
       "      <td>b5</td>\n",
       "      <td>c5</td>\n",
       "      <td>d5</td>\n",
       "    </tr>\n",
       "    <tr>\n",
       "      <th>2</th>\n",
       "      <td>a6</td>\n",
       "      <td>b6</td>\n",
       "      <td>c6</td>\n",
       "      <td>d6</td>\n",
       "    </tr>\n",
       "    <tr>\n",
       "      <th>3</th>\n",
       "      <td>a7</td>\n",
       "      <td>b7</td>\n",
       "      <td>c7</td>\n",
       "      <td>d7</td>\n",
       "    </tr>\n",
       "    <tr>\n",
       "      <th>0</th>\n",
       "      <td>a8</td>\n",
       "      <td>b8</td>\n",
       "      <td>c8</td>\n",
       "      <td>d8</td>\n",
       "    </tr>\n",
       "    <tr>\n",
       "      <th>1</th>\n",
       "      <td>a9</td>\n",
       "      <td>b9</td>\n",
       "      <td>c9</td>\n",
       "      <td>d9</td>\n",
       "    </tr>\n",
       "    <tr>\n",
       "      <th>2</th>\n",
       "      <td>a10</td>\n",
       "      <td>b10</td>\n",
       "      <td>c10</td>\n",
       "      <td>d10</td>\n",
       "    </tr>\n",
       "    <tr>\n",
       "      <th>3</th>\n",
       "      <td>a11</td>\n",
       "      <td>b11</td>\n",
       "      <td>c11</td>\n",
       "      <td>d11</td>\n",
       "    </tr>\n",
       "  </tbody>\n",
       "</table>\n",
       "</div>"
      ],
      "text/plain": [
       "     A    B    C    D\n",
       "0   a0   b0   c0   d0\n",
       "1   a1   b1   c1   d1\n",
       "2   a2   b2   c2   d2\n",
       "3   a3   b3   c3   d3\n",
       "0   a4   b4   c4   d4\n",
       "1   a5   b5   c5   d5\n",
       "2   a6   b6   c6   d6\n",
       "3   a7   b7   c7   d7\n",
       "0   a8   b8   c8   d8\n",
       "1   a9   b9   c9   d9\n",
       "2  a10  b10  c10  d10\n",
       "3  a11  b11  c11  d11"
      ]
     },
     "execution_count": 489,
     "metadata": {},
     "output_type": "execute_result"
    }
   ],
   "source": [
    "row_concat = pd.concat([df1, df2, df3]) # axis = 0\n",
    "row_concat # 열이름이 같은 것끼리 연결"
   ]
  },
  {
   "cell_type": "code",
   "execution_count": 490,
   "id": "a7572bf4-ca3a-4646-a7db-de4b35ef5d0c",
   "metadata": {},
   "outputs": [
    {
     "data": {
      "text/html": [
       "<div>\n",
       "<style scoped>\n",
       "    .dataframe tbody tr th:only-of-type {\n",
       "        vertical-align: middle;\n",
       "    }\n",
       "\n",
       "    .dataframe tbody tr th {\n",
       "        vertical-align: top;\n",
       "    }\n",
       "\n",
       "    .dataframe thead th {\n",
       "        text-align: right;\n",
       "    }\n",
       "</style>\n",
       "<table border=\"1\" class=\"dataframe\">\n",
       "  <thead>\n",
       "    <tr style=\"text-align: right;\">\n",
       "      <th></th>\n",
       "      <th>A</th>\n",
       "      <th>B</th>\n",
       "      <th>C</th>\n",
       "      <th>D</th>\n",
       "      <th>A</th>\n",
       "      <th>B</th>\n",
       "      <th>C</th>\n",
       "      <th>D</th>\n",
       "      <th>A</th>\n",
       "      <th>B</th>\n",
       "      <th>C</th>\n",
       "      <th>D</th>\n",
       "    </tr>\n",
       "  </thead>\n",
       "  <tbody>\n",
       "    <tr>\n",
       "      <th>0</th>\n",
       "      <td>a0</td>\n",
       "      <td>b0</td>\n",
       "      <td>c0</td>\n",
       "      <td>d0</td>\n",
       "      <td>a4</td>\n",
       "      <td>b4</td>\n",
       "      <td>c4</td>\n",
       "      <td>d4</td>\n",
       "      <td>a8</td>\n",
       "      <td>b8</td>\n",
       "      <td>c8</td>\n",
       "      <td>d8</td>\n",
       "    </tr>\n",
       "    <tr>\n",
       "      <th>1</th>\n",
       "      <td>a1</td>\n",
       "      <td>b1</td>\n",
       "      <td>c1</td>\n",
       "      <td>d1</td>\n",
       "      <td>a5</td>\n",
       "      <td>b5</td>\n",
       "      <td>c5</td>\n",
       "      <td>d5</td>\n",
       "      <td>a9</td>\n",
       "      <td>b9</td>\n",
       "      <td>c9</td>\n",
       "      <td>d9</td>\n",
       "    </tr>\n",
       "    <tr>\n",
       "      <th>2</th>\n",
       "      <td>a2</td>\n",
       "      <td>b2</td>\n",
       "      <td>c2</td>\n",
       "      <td>d2</td>\n",
       "      <td>a6</td>\n",
       "      <td>b6</td>\n",
       "      <td>c6</td>\n",
       "      <td>d6</td>\n",
       "      <td>a10</td>\n",
       "      <td>b10</td>\n",
       "      <td>c10</td>\n",
       "      <td>d10</td>\n",
       "    </tr>\n",
       "    <tr>\n",
       "      <th>3</th>\n",
       "      <td>a3</td>\n",
       "      <td>b3</td>\n",
       "      <td>c3</td>\n",
       "      <td>d3</td>\n",
       "      <td>a7</td>\n",
       "      <td>b7</td>\n",
       "      <td>c7</td>\n",
       "      <td>d7</td>\n",
       "      <td>a11</td>\n",
       "      <td>b11</td>\n",
       "      <td>c11</td>\n",
       "      <td>d11</td>\n",
       "    </tr>\n",
       "  </tbody>\n",
       "</table>\n",
       "</div>"
      ],
      "text/plain": [
       "    A   B   C   D   A   B   C   D    A    B    C    D\n",
       "0  a0  b0  c0  d0  a4  b4  c4  d4   a8   b8   c8   d8\n",
       "1  a1  b1  c1  d1  a5  b5  c5  d5   a9   b9   c9   d9\n",
       "2  a2  b2  c2  d2  a6  b6  c6  d6  a10  b10  c10  d10\n",
       "3  a3  b3  c3  d3  a7  b7  c7  d7  a11  b11  c11  d11"
      ]
     },
     "execution_count": 490,
     "metadata": {},
     "output_type": "execute_result"
    }
   ],
   "source": [
    "col_concat  = pd.concat([df1, df2, df3] , axis = 1)\n",
    "col_concat # index가 같은 것끼리 연결"
   ]
  },
  {
   "cell_type": "code",
   "execution_count": 491,
   "id": "8d6bcb94-7097-4698-bf0d-48303dd2ea68",
   "metadata": {},
   "outputs": [
    {
     "data": {
      "text/html": [
       "<div>\n",
       "<style scoped>\n",
       "    .dataframe tbody tr th:only-of-type {\n",
       "        vertical-align: middle;\n",
       "    }\n",
       "\n",
       "    .dataframe tbody tr th {\n",
       "        vertical-align: top;\n",
       "    }\n",
       "\n",
       "    .dataframe thead th {\n",
       "        text-align: right;\n",
       "    }\n",
       "</style>\n",
       "<table border=\"1\" class=\"dataframe\">\n",
       "  <thead>\n",
       "    <tr style=\"text-align: right;\">\n",
       "      <th></th>\n",
       "      <th>A</th>\n",
       "      <th>C</th>\n",
       "      <th>E</th>\n",
       "      <th>F</th>\n",
       "    </tr>\n",
       "  </thead>\n",
       "  <tbody>\n",
       "    <tr>\n",
       "      <th>0</th>\n",
       "      <td>n1</td>\n",
       "      <td>n11</td>\n",
       "      <td>n21</td>\n",
       "      <td>n31</td>\n",
       "    </tr>\n",
       "    <tr>\n",
       "      <th>2</th>\n",
       "      <td>n2</td>\n",
       "      <td>n12</td>\n",
       "      <td>n22</td>\n",
       "      <td>n32</td>\n",
       "    </tr>\n",
       "    <tr>\n",
       "      <th>4</th>\n",
       "      <td>n3</td>\n",
       "      <td>n13</td>\n",
       "      <td>n23</td>\n",
       "      <td>n33</td>\n",
       "    </tr>\n",
       "  </tbody>\n",
       "</table>\n",
       "</div>"
      ],
      "text/plain": [
       "    A    C    E    F\n",
       "0  n1  n11  n21  n31\n",
       "2  n2  n12  n22  n32\n",
       "4  n3  n13  n23  n33"
      ]
     },
     "execution_count": 491,
     "metadata": {},
     "output_type": "execute_result"
    }
   ],
   "source": [
    "df4 = pd.DataFrame({'A':['n1','n2','n3'],\n",
    "                    'C':['n11','n12','n13'],\n",
    "                    'E':['n21','n22','n23'],\n",
    "                    'F':['n31','n32','n33']},\n",
    "                     index=[0,2,4])\n",
    "df4"
   ]
  },
  {
   "cell_type": "code",
   "execution_count": 492,
   "id": "444ce23b-8251-4b5e-b0d2-99d4363992eb",
   "metadata": {},
   "outputs": [
    {
     "data": {
      "text/html": [
       "<div>\n",
       "<style scoped>\n",
       "    .dataframe tbody tr th:only-of-type {\n",
       "        vertical-align: middle;\n",
       "    }\n",
       "\n",
       "    .dataframe tbody tr th {\n",
       "        vertical-align: top;\n",
       "    }\n",
       "\n",
       "    .dataframe thead th {\n",
       "        text-align: right;\n",
       "    }\n",
       "</style>\n",
       "<table border=\"1\" class=\"dataframe\">\n",
       "  <thead>\n",
       "    <tr style=\"text-align: right;\">\n",
       "      <th></th>\n",
       "      <th>A</th>\n",
       "      <th>B</th>\n",
       "      <th>C</th>\n",
       "      <th>D</th>\n",
       "      <th>E</th>\n",
       "      <th>F</th>\n",
       "    </tr>\n",
       "  </thead>\n",
       "  <tbody>\n",
       "    <tr>\n",
       "      <th>0</th>\n",
       "      <td>a0</td>\n",
       "      <td>b0</td>\n",
       "      <td>c0</td>\n",
       "      <td>d0</td>\n",
       "      <td>NaN</td>\n",
       "      <td>NaN</td>\n",
       "    </tr>\n",
       "    <tr>\n",
       "      <th>1</th>\n",
       "      <td>a1</td>\n",
       "      <td>b1</td>\n",
       "      <td>c1</td>\n",
       "      <td>d1</td>\n",
       "      <td>NaN</td>\n",
       "      <td>NaN</td>\n",
       "    </tr>\n",
       "    <tr>\n",
       "      <th>2</th>\n",
       "      <td>a2</td>\n",
       "      <td>b2</td>\n",
       "      <td>c2</td>\n",
       "      <td>d2</td>\n",
       "      <td>NaN</td>\n",
       "      <td>NaN</td>\n",
       "    </tr>\n",
       "    <tr>\n",
       "      <th>3</th>\n",
       "      <td>a3</td>\n",
       "      <td>b3</td>\n",
       "      <td>c3</td>\n",
       "      <td>d3</td>\n",
       "      <td>NaN</td>\n",
       "      <td>NaN</td>\n",
       "    </tr>\n",
       "    <tr>\n",
       "      <th>0</th>\n",
       "      <td>n1</td>\n",
       "      <td>NaN</td>\n",
       "      <td>n11</td>\n",
       "      <td>NaN</td>\n",
       "      <td>n21</td>\n",
       "      <td>n31</td>\n",
       "    </tr>\n",
       "    <tr>\n",
       "      <th>2</th>\n",
       "      <td>n2</td>\n",
       "      <td>NaN</td>\n",
       "      <td>n12</td>\n",
       "      <td>NaN</td>\n",
       "      <td>n22</td>\n",
       "      <td>n32</td>\n",
       "    </tr>\n",
       "    <tr>\n",
       "      <th>4</th>\n",
       "      <td>n3</td>\n",
       "      <td>NaN</td>\n",
       "      <td>n13</td>\n",
       "      <td>NaN</td>\n",
       "      <td>n23</td>\n",
       "      <td>n33</td>\n",
       "    </tr>\n",
       "  </tbody>\n",
       "</table>\n",
       "</div>"
      ],
      "text/plain": [
       "    A    B    C    D    E    F\n",
       "0  a0   b0   c0   d0  NaN  NaN\n",
       "1  a1   b1   c1   d1  NaN  NaN\n",
       "2  a2   b2   c2   d2  NaN  NaN\n",
       "3  a3   b3   c3   d3  NaN  NaN\n",
       "0  n1  NaN  n11  NaN  n21  n31\n",
       "2  n2  NaN  n12  NaN  n22  n32\n",
       "4  n3  NaN  n13  NaN  n23  n33"
      ]
     },
     "execution_count": 492,
     "metadata": {},
     "output_type": "execute_result"
    }
   ],
   "source": [
    "df1_df4_row_concat = pd.concat([df1, df4], axis = 0)\n",
    "df1_df4_row_concat  # 열이름이 같은 것끼리 연결 , 열이름이 다르면 브로드케스팅을 해서 연결된다."
   ]
  },
  {
   "cell_type": "code",
   "execution_count": 493,
   "id": "7db12716-eab6-4c5f-b2ef-676337655985",
   "metadata": {},
   "outputs": [
    {
     "data": {
      "text/html": [
       "<div>\n",
       "<style scoped>\n",
       "    .dataframe tbody tr th:only-of-type {\n",
       "        vertical-align: middle;\n",
       "    }\n",
       "\n",
       "    .dataframe tbody tr th {\n",
       "        vertical-align: top;\n",
       "    }\n",
       "\n",
       "    .dataframe thead th {\n",
       "        text-align: right;\n",
       "    }\n",
       "</style>\n",
       "<table border=\"1\" class=\"dataframe\">\n",
       "  <thead>\n",
       "    <tr style=\"text-align: right;\">\n",
       "      <th></th>\n",
       "      <th>A</th>\n",
       "      <th>B</th>\n",
       "      <th>C</th>\n",
       "      <th>D</th>\n",
       "      <th>A</th>\n",
       "      <th>C</th>\n",
       "      <th>E</th>\n",
       "      <th>F</th>\n",
       "    </tr>\n",
       "  </thead>\n",
       "  <tbody>\n",
       "    <tr>\n",
       "      <th>0</th>\n",
       "      <td>a0</td>\n",
       "      <td>b0</td>\n",
       "      <td>c0</td>\n",
       "      <td>d0</td>\n",
       "      <td>n1</td>\n",
       "      <td>n11</td>\n",
       "      <td>n21</td>\n",
       "      <td>n31</td>\n",
       "    </tr>\n",
       "    <tr>\n",
       "      <th>1</th>\n",
       "      <td>a1</td>\n",
       "      <td>b1</td>\n",
       "      <td>c1</td>\n",
       "      <td>d1</td>\n",
       "      <td>NaN</td>\n",
       "      <td>NaN</td>\n",
       "      <td>NaN</td>\n",
       "      <td>NaN</td>\n",
       "    </tr>\n",
       "    <tr>\n",
       "      <th>2</th>\n",
       "      <td>a2</td>\n",
       "      <td>b2</td>\n",
       "      <td>c2</td>\n",
       "      <td>d2</td>\n",
       "      <td>n2</td>\n",
       "      <td>n12</td>\n",
       "      <td>n22</td>\n",
       "      <td>n32</td>\n",
       "    </tr>\n",
       "    <tr>\n",
       "      <th>3</th>\n",
       "      <td>a3</td>\n",
       "      <td>b3</td>\n",
       "      <td>c3</td>\n",
       "      <td>d3</td>\n",
       "      <td>NaN</td>\n",
       "      <td>NaN</td>\n",
       "      <td>NaN</td>\n",
       "      <td>NaN</td>\n",
       "    </tr>\n",
       "    <tr>\n",
       "      <th>4</th>\n",
       "      <td>NaN</td>\n",
       "      <td>NaN</td>\n",
       "      <td>NaN</td>\n",
       "      <td>NaN</td>\n",
       "      <td>n3</td>\n",
       "      <td>n13</td>\n",
       "      <td>n23</td>\n",
       "      <td>n33</td>\n",
       "    </tr>\n",
       "  </tbody>\n",
       "</table>\n",
       "</div>"
      ],
      "text/plain": [
       "     A    B    C    D    A    C    E    F\n",
       "0   a0   b0   c0   d0   n1  n11  n21  n31\n",
       "1   a1   b1   c1   d1  NaN  NaN  NaN  NaN\n",
       "2   a2   b2   c2   d2   n2  n12  n22  n32\n",
       "3   a3   b3   c3   d3  NaN  NaN  NaN  NaN\n",
       "4  NaN  NaN  NaN  NaN   n3  n13  n23  n33"
      ]
     },
     "execution_count": 493,
     "metadata": {},
     "output_type": "execute_result"
    }
   ],
   "source": [
    "df1_df4_col_concat = pd.concat([df1, df4], axis = 1) \n",
    "df1_df4_col_concat # 행번호가 같은 것끼리 연결이 되고 같지 않은 것으면 브로드케스트를 한다."
   ]
  },
  {
   "cell_type": "code",
   "execution_count": 498,
   "id": "46e1d23c-c068-4e26-bd8b-a9b2480979cf",
   "metadata": {},
   "outputs": [
    {
     "data": {
      "text/html": [
       "<div>\n",
       "<style scoped>\n",
       "    .dataframe tbody tr th:only-of-type {\n",
       "        vertical-align: middle;\n",
       "    }\n",
       "\n",
       "    .dataframe tbody tr th {\n",
       "        vertical-align: top;\n",
       "    }\n",
       "\n",
       "    .dataframe thead th {\n",
       "        text-align: right;\n",
       "    }\n",
       "</style>\n",
       "<table border=\"1\" class=\"dataframe\">\n",
       "  <thead>\n",
       "    <tr style=\"text-align: right;\">\n",
       "      <th></th>\n",
       "      <th>0</th>\n",
       "      <th>A</th>\n",
       "      <th>B</th>\n",
       "      <th>C</th>\n",
       "      <th>D</th>\n",
       "    </tr>\n",
       "  </thead>\n",
       "  <tbody>\n",
       "    <tr>\n",
       "      <th>0</th>\n",
       "      <td>n1</td>\n",
       "      <td>NaN</td>\n",
       "      <td>NaN</td>\n",
       "      <td>NaN</td>\n",
       "      <td>NaN</td>\n",
       "    </tr>\n",
       "    <tr>\n",
       "      <th>1</th>\n",
       "      <td>n2</td>\n",
       "      <td>NaN</td>\n",
       "      <td>NaN</td>\n",
       "      <td>NaN</td>\n",
       "      <td>NaN</td>\n",
       "    </tr>\n",
       "    <tr>\n",
       "      <th>2</th>\n",
       "      <td>n3</td>\n",
       "      <td>NaN</td>\n",
       "      <td>NaN</td>\n",
       "      <td>NaN</td>\n",
       "      <td>NaN</td>\n",
       "    </tr>\n",
       "    <tr>\n",
       "      <th>3</th>\n",
       "      <td>n4</td>\n",
       "      <td>NaN</td>\n",
       "      <td>NaN</td>\n",
       "      <td>NaN</td>\n",
       "      <td>NaN</td>\n",
       "    </tr>\n",
       "    <tr>\n",
       "      <th>0</th>\n",
       "      <td>NaN</td>\n",
       "      <td>a0</td>\n",
       "      <td>b0</td>\n",
       "      <td>c0</td>\n",
       "      <td>d0</td>\n",
       "    </tr>\n",
       "    <tr>\n",
       "      <th>1</th>\n",
       "      <td>NaN</td>\n",
       "      <td>a1</td>\n",
       "      <td>b1</td>\n",
       "      <td>c1</td>\n",
       "      <td>d1</td>\n",
       "    </tr>\n",
       "    <tr>\n",
       "      <th>2</th>\n",
       "      <td>NaN</td>\n",
       "      <td>a2</td>\n",
       "      <td>b2</td>\n",
       "      <td>c2</td>\n",
       "      <td>d2</td>\n",
       "    </tr>\n",
       "    <tr>\n",
       "      <th>3</th>\n",
       "      <td>NaN</td>\n",
       "      <td>a3</td>\n",
       "      <td>b3</td>\n",
       "      <td>c3</td>\n",
       "      <td>d3</td>\n",
       "    </tr>\n",
       "  </tbody>\n",
       "</table>\n",
       "</div>"
      ],
      "text/plain": [
       "     0    A    B    C    D\n",
       "0   n1  NaN  NaN  NaN  NaN\n",
       "1   n2  NaN  NaN  NaN  NaN\n",
       "2   n3  NaN  NaN  NaN  NaN\n",
       "3   n4  NaN  NaN  NaN  NaN\n",
       "0  NaN   a0   b0   c0   d0\n",
       "1  NaN   a1   b1   c1   d1\n",
       "2  NaN   a2   b2   c2   d2\n",
       "3  NaN   a3   b3   c3   d3"
      ]
     },
     "execution_count": 498,
     "metadata": {},
     "output_type": "execute_result"
    }
   ],
   "source": [
    "# Series와 DataFrame을 합치기\n",
    "new_row_series = pd.Series(['n1', 'n2', 'n3', 'n4'])\n",
    "new_row_series , df1\n",
    "# 행이름이 같은 것끼리연결 \n",
    "df1_series_col  = pd.concat([new_row_series , df1] , axis = 1)\n",
    "df1_series_col\n",
    "# 열이름이 같은 것끼리 연결\n",
    "df1_series_row  = pd.concat([new_row_series , df1] , axis = 0)\n",
    "df1_series_row"
   ]
  },
  {
   "cell_type": "code",
   "execution_count": 502,
   "id": "0e9853e2-cc01-4ef7-bb94-4bd736bcff69",
   "metadata": {},
   "outputs": [
    {
     "data": {
      "text/html": [
       "<div>\n",
       "<style scoped>\n",
       "    .dataframe tbody tr th:only-of-type {\n",
       "        vertical-align: middle;\n",
       "    }\n",
       "\n",
       "    .dataframe tbody tr th {\n",
       "        vertical-align: top;\n",
       "    }\n",
       "\n",
       "    .dataframe thead th {\n",
       "        text-align: right;\n",
       "    }\n",
       "</style>\n",
       "<table border=\"1\" class=\"dataframe\">\n",
       "  <thead>\n",
       "    <tr style=\"text-align: right;\">\n",
       "      <th></th>\n",
       "      <th>A</th>\n",
       "      <th>B</th>\n",
       "      <th>C</th>\n",
       "      <th>D</th>\n",
       "      <th>0</th>\n",
       "      <th>1</th>\n",
       "      <th>2</th>\n",
       "      <th>3</th>\n",
       "    </tr>\n",
       "  </thead>\n",
       "  <tbody>\n",
       "    <tr>\n",
       "      <th>0</th>\n",
       "      <td>a0</td>\n",
       "      <td>b0</td>\n",
       "      <td>c0</td>\n",
       "      <td>d0</td>\n",
       "      <td>NaN</td>\n",
       "      <td>NaN</td>\n",
       "      <td>NaN</td>\n",
       "      <td>NaN</td>\n",
       "    </tr>\n",
       "    <tr>\n",
       "      <th>1</th>\n",
       "      <td>a1</td>\n",
       "      <td>b1</td>\n",
       "      <td>c1</td>\n",
       "      <td>d1</td>\n",
       "      <td>NaN</td>\n",
       "      <td>NaN</td>\n",
       "      <td>NaN</td>\n",
       "      <td>NaN</td>\n",
       "    </tr>\n",
       "    <tr>\n",
       "      <th>2</th>\n",
       "      <td>a2</td>\n",
       "      <td>b2</td>\n",
       "      <td>c2</td>\n",
       "      <td>d2</td>\n",
       "      <td>NaN</td>\n",
       "      <td>NaN</td>\n",
       "      <td>NaN</td>\n",
       "      <td>NaN</td>\n",
       "    </tr>\n",
       "    <tr>\n",
       "      <th>3</th>\n",
       "      <td>a3</td>\n",
       "      <td>b3</td>\n",
       "      <td>c3</td>\n",
       "      <td>d3</td>\n",
       "      <td>NaN</td>\n",
       "      <td>NaN</td>\n",
       "      <td>NaN</td>\n",
       "      <td>NaN</td>\n",
       "    </tr>\n",
       "    <tr>\n",
       "      <th>0</th>\n",
       "      <td>NaN</td>\n",
       "      <td>NaN</td>\n",
       "      <td>NaN</td>\n",
       "      <td>NaN</td>\n",
       "      <td>n1</td>\n",
       "      <td>n2</td>\n",
       "      <td>n3</td>\n",
       "      <td>n4</td>\n",
       "    </tr>\n",
       "  </tbody>\n",
       "</table>\n",
       "</div>"
      ],
      "text/plain": [
       "     A    B    C    D    0    1    2    3\n",
       "0   a0   b0   c0   d0  NaN  NaN  NaN  NaN\n",
       "1   a1   b1   c1   d1  NaN  NaN  NaN  NaN\n",
       "2   a2   b2   c2   d2  NaN  NaN  NaN  NaN\n",
       "3   a3   b3   c3   d3  NaN  NaN  NaN  NaN\n",
       "0  NaN  NaN  NaN  NaN   n1   n2   n3   n4"
      ]
     },
     "execution_count": 502,
     "metadata": {},
     "output_type": "execute_result"
    }
   ],
   "source": [
    "## 행 1개로 구성된 데이터프레임 생성\n",
    "df5 = pd.DataFrame([['n1','n2','n3','n4']])\n",
    "df5\n",
    "df5 , df1\n",
    "# 행이름 기준으로 \n",
    "df1_df5_row = pd.concat([df1,df5 ], axis =1)\n",
    "df1_df5_row\n",
    "# 열이름 기준으로 \n",
    "df1_df5_col = pd.concat([df1,df5 ], axis =0)\n",
    "df1_df5_col"
   ]
  },
  {
   "cell_type": "code",
   "execution_count": 504,
   "id": "88ee0009-bb75-4316-b774-c7cd32b1242a",
   "metadata": {},
   "outputs": [
    {
     "data": {
      "text/plain": [
       "(    A   B   C   D\n",
       " 0  a0  b0  c0  d0\n",
       " 1  a1  b1  c1  d1\n",
       " 2  a2  b2  c2  d2\n",
       " 3  a3  b3  c3  d3,\n",
       "     E   F   G   H\n",
       " 0  a4  b4  c4  d4\n",
       " 1  a5  b5  c5  d5\n",
       " 2  a6  b6  c6  d6\n",
       " 3  a7  b7  c7  d7,\n",
       "      A    C    F    H\n",
       " 0   a8   b8   c8   d8\n",
       " 1   a9   b9   c9   d9\n",
       " 2  a10  b10  c10  d10\n",
       " 3  a11  b11  c11  d11)"
      ]
     },
     "execution_count": 504,
     "metadata": {},
     "output_type": "execute_result"
    }
   ],
   "source": [
    "df1,df2,df3\n",
    "df2.columns = ['E','F','G','H']\n",
    "df3.columns = ['A','C','F','H']\n",
    "df1,df2,df3"
   ]
  },
  {
   "cell_type": "code",
   "execution_count": 514,
   "id": "6cc0f0e0-7a17-4d24-9b51-4f95fa0cc9ab",
   "metadata": {},
   "outputs": [
    {
     "data": {
      "text/plain": [
       "A    a0\n",
       "C    c0\n",
       "Name: 0, dtype: object"
      ]
     },
     "execution_count": 514,
     "metadata": {},
     "output_type": "execute_result"
    }
   ],
   "source": [
    "#열이름이 같은 것 끼리만 출력하고 열이름이 같지 않은 것은 제외시키자.\n",
    "# 누락값은 제외해서 출력\n",
    "row_concat2  = pd.concat([df1, df2, df3] , axis = 0)\n",
    "row_concat2\n",
    "row_concat2  = pd.concat([df1, df2, df3] , axis = 0 , join = 'inner')\n",
    "row_concat2\n",
    "df6 = pd.concat([df1, df3] ,axis  =0 )\n",
    "df6\n",
    "df6 = pd.concat([df1, df3] ,axis  =0 , join = 'inner')\n",
    "df6\n",
    "df6.loc[0]\n",
    "df6 = pd.concat([df1, df3] ,axis  =0 , join = 'inner',  ignore_index=True)\n",
    "df6\n",
    "df6.loc[0]"
   ]
  },
  {
   "cell_type": "code",
   "execution_count": 516,
   "id": "4cf2336c-7f3a-4f70-b0f6-f490bc543603",
   "metadata": {},
   "outputs": [
    {
     "data": {
      "text/plain": [
       "(    E   F   G   H\n",
       " 4  a4  b4  c4  d4\n",
       " 5  a5  b5  c5  d5\n",
       " 6  a6  b6  c6  d6\n",
       " 7  a7  b7  c7  d7,\n",
       "      A    C    F    H\n",
       " 0   a8   b8   c8   d8\n",
       " 2   a9   b9   c9   d9\n",
       " 5  a10  b10  c10  d10\n",
       " 7  a11  b11  c11  d11)"
      ]
     },
     "execution_count": 516,
     "metadata": {},
     "output_type": "execute_result"
    }
   ],
   "source": [
    "df2,df3\n",
    "df2.index = [4, 5, 6, 7]\n",
    "df3.index = [0, 2, 5, 7]\n",
    "df2,df3"
   ]
  },
  {
   "cell_type": "code",
   "execution_count": 523,
   "id": "90240232-a3bb-4332-8ccd-b8fbac908a8c",
   "metadata": {},
   "outputs": [
    {
     "data": {
      "text/plain": [
       "5    a10\n",
       "7    a11\n",
       "Name: 4, dtype: object"
      ]
     },
     "execution_count": 523,
     "metadata": {},
     "output_type": "execute_result"
    }
   ],
   "source": [
    "df7 = pd.concat([df2,df3] , axis= 1 )\n",
    "df7\n",
    "df7 = pd.concat([df2,df3] , axis= 1 , join = 'inner' )\n",
    "df7\n",
    "df7['F']\n",
    "df7 = pd.concat([df2,df3] , axis= 1 , join = 'inner' ,  ignore_index=True)\n",
    "df7\n",
    "df7[4]"
   ]
  },
  {
   "cell_type": "code",
   "execution_count": null,
   "id": "18c1536f-5ee9-4e00-b822-5007c12c9519",
   "metadata": {},
   "outputs": [],
   "source": []
  },
  {
   "cell_type": "code",
   "execution_count": null,
   "id": "c3e14326-ec50-4ee7-a6b7-3bc18f8aeaa8",
   "metadata": {},
   "outputs": [],
   "source": []
  },
  {
   "cell_type": "code",
   "execution_count": null,
   "id": "7cd15bec-c51b-41a9-a304-e06550c7b0bf",
   "metadata": {},
   "outputs": [],
   "source": []
  },
  {
   "cell_type": "code",
   "execution_count": null,
   "id": "0e1e2f27-30fc-49f5-929a-da37e9bf7dac",
   "metadata": {},
   "outputs": [],
   "source": []
  },
  {
   "cell_type": "code",
   "execution_count": null,
   "id": "a45a3d72-4293-4e66-a878-651b0959921c",
   "metadata": {},
   "outputs": [],
   "source": []
  },
  {
   "cell_type": "code",
   "execution_count": null,
   "id": "37427e26-155b-4d48-ab9f-6a03ddea2e9d",
   "metadata": {},
   "outputs": [],
   "source": [
    "'''site와 name이 같다면 병합 \n",
    " 0    619   DR-1  1927-02-08  DR-1 -49.85 -128.57\n",
    " 1    622   DR-1  1927-02-10  DR-1 -49.85 -128.57\n",
    " 2    734   DR-3  1939-01-07  DR-3 -47.15 -126.72\n",
    " 3    735   DR-3  1930-01-12  DR-3 -47.15 -126.72\n",
    " 4    751   DR-3  1930-02-26  DR-3 -47.15 -126.72\n",
    " 5    752   DR-3         NaN  DR-3 -47.15 -126.72\n",
    " 6    837  MSK-4  1932-01-14  MSK-4 -48.87 -123.40,\n",
    " 7    844   DR-1  1932-03-22  MSK-4 -48.87 -123.40,\n",
    " \n",
    " select ident,   site,  dated, name,    lat,    long\n",
    " from site inner join  visited\n",
    " on site.name = visited.site       \n",
    "'''\n",
    "site, visited\n",
    "site_visited = site.merge(visited,left_on='name', right_on = 'site' )\n",
    "site_visited"
   ]
  },
  {
   "cell_type": "code",
   "execution_count": null,
   "id": "cf0f97ba-a7f9-4600-9fb4-4aa2dfaa74ed",
   "metadata": {},
   "outputs": [],
   "source": [
    "person, survey\n",
    "'''\n",
    "select ident,  personal,  family, taken, person, quant , reading\n",
    "from person inner join survey\n",
    "on person.ident = survey.person\n",
    "'''\n",
    "person_survey = person.merge(survey, left_on = 'ident', right_on='person' )\n",
    "person_survey"
   ]
  },
  {
   "cell_type": "code",
   "execution_count": null,
   "id": "d00b66f7-f11b-49df-a3ba-b71409797c6d",
   "metadata": {},
   "outputs": [],
   "source": [
    "'''\n",
    "select ident,  personal,  family, taken, person, quant , reading\n",
    "from person left outter join survey\n",
    "on person.ident = survey.person\n",
    "'''\n",
    "# 누락값을 더 출력\n",
    "person_survey = person.merge(survey, left_on = 'ident', right_on='person', how=\"right\")\n",
    "person_survey\n",
    "# how : left, right, inner, outer\n",
    "\n",
    "visited, survey\n",
    "visited_survey = visited.merge(survey, left_on = 'ident', right_on='taken')\n",
    "visited_survey"
   ]
  },
  {
   "cell_type": "code",
   "execution_count": null,
   "id": "e4f800f4-e1ea-4ab3-a1ca-340392ce32cd",
   "metadata": {},
   "outputs": [],
   "source": [
    "'''\n",
    "select v.ident,  v.site,   v.dated, v.taken, v.person, v.quant,  v.reading,\n",
    "       p.ident,   p.personal,   p.family,  p.taken, p.person, p.quant,  p/reading\n",
    "from visited_survey v join person_survey p\n",
    "on v.ident = p.person\n",
    "and v.taken =  p.ident\n",
    "and v.quant =p.quant\n",
    "and v.reading = p.reading\n",
    "'''\n",
    "visited_survey, person_survey\n",
    "ps_vs = person_survey.merge(visited_survey, left_on=[\"ident\",\"taken\",\"quant\",\"reading\"],\n",
    "                                           right_on=[\"person\",\"ident\",\"quant\",\"reading\"])\n",
    "ps_vs"
   ]
  },
  {
   "cell_type": "code",
   "execution_count": null,
   "id": "3d6dda7c-210e-43e4-86da-25323b0077c5",
   "metadata": {},
   "outputs": [],
   "source": [
    "from numpy import NaN, NAN, nan # null : 누락값 : 알 수 없는 값\n",
    "print(NaN == True)\n",
    "print(NAN == True)\n",
    "print(nan == True)"
   ]
  },
  {
   "cell_type": "code",
   "execution_count": null,
   "id": "d26da56a-900d-4f07-95b0-65780c1138c2",
   "metadata": {},
   "outputs": [],
   "source": [
    "print(NaN == False)\n",
    "print(NAN == False)\n",
    "print(nan == False)"
   ]
  },
  {
   "cell_type": "code",
   "execution_count": null,
   "id": "8a43c1b0-91da-4ba5-9cbd-6b0a5f1d6e78",
   "metadata": {},
   "outputs": [],
   "source": [
    "print(NaN == 0)\n",
    "print(NAN == '')\n",
    "print(nan == None)\n",
    "print(NaN == nan) # 값은 있으나 알 수 없는 값이라 같다라고 할 수 없다.\n",
    "print(nan == False)\n",
    "print(None == False)"
   ]
  },
  {
   "cell_type": "code",
   "execution_count": null,
   "id": "ff0dc1bd-8e08-4973-a6ee-a806d87b3871",
   "metadata": {},
   "outputs": [],
   "source": [
    "print(pd.isnull(NaN))\n",
    "print(pd.isnull(30))\n",
    "print(pd.notnull(30))"
   ]
  },
  {
   "cell_type": "code",
   "execution_count": null,
   "id": "7fdd323e-d986-4307-a5ae-9cb083b5a215",
   "metadata": {},
   "outputs": [],
   "source": [
    "site\n",
    "site.count()\n",
    "visited\n",
    "visited.count() # 갯수에는 NaN 이 포함되지 않는다.\n",
    "visited.shape\n",
    "visited.shape[0]\n",
    "visited_nan = visited.shape[0] - visited.count() \n",
    "visited_nan"
   ]
  },
  {
   "cell_type": "code",
   "execution_count": null,
   "id": "4aa12fb5-5660-43d7-a6ac-e2a96a4a8eb2",
   "metadata": {},
   "outputs": [],
   "source": [
    "num_legs = pd.Series({'a':4,'b':NaN})\n",
    "num_legs\n",
    "df_nan = pd.DataFrame({'Name':[NaN,'이숭무','이상범'],\n",
    "                       'Age':[50, NaN, 30],\n",
    "                       'Born':[NaN,'2002-10-09',NAN],\n",
    "                       'missing':[NAN,NAN,NAN]})\n",
    "df_nan"
   ]
  },
  {
   "cell_type": "code",
   "execution_count": null,
   "id": "b6677a74-f97e-4f5a-9de2-639edd059b53",
   "metadata": {},
   "outputs": [],
   "source": [
    "df = pd.read_csv(\"https://raw.githubusercontent.com/SoongMoo/soldesk202302/main/data/gapminder.tsv\",sep=\"\\t\")\n",
    "df\n",
    "df.count()"
   ]
  },
  {
   "cell_type": "code",
   "execution_count": null,
   "id": "97f73314-5f5d-40a0-8c59-0da91dbc8de1",
   "metadata": {},
   "outputs": [],
   "source": [
    "### 년도별 평균수명의 평균?\n",
    "life_Exp = df.groupby('year')['lifeExp'].mean()\n",
    "life_Exp = df.groupby('year').lifeExp.mean()\n",
    "life_Exp = df.groupby('year').mean().lifeExp\n",
    "life_Exp\n",
    "life_Exp[1957]\n",
    "life_Exp.index\n",
    "life_Exp[1982]"
   ]
  },
  {
   "cell_type": "code",
   "execution_count": null,
   "id": "f06a1e9f-33b3-4133-963e-743d5457eba2",
   "metadata": {},
   "outputs": [],
   "source": [
    "#### 2000년도 이전의 평균 수명\n",
    "#### index에서 팬시  index를 만들어서 사용\n",
    "life_Exp.index < 2000\n",
    "life_Exp[life_Exp.index < 2000]\n",
    "#### 2000년도 이후의 평균 수명\n",
    "life_Exp.index >= 2000\n",
    "life_Exp[life_Exp.index >= 2000]"
   ]
  },
  {
   "cell_type": "code",
   "execution_count": null,
   "id": "682df4df-8aba-4891-bf2c-063097b97d06",
   "metadata": {},
   "outputs": [],
   "source": [
    "ebola = pd.read_csv(\"https://raw.githubusercontent.com/SoongMoo/soldesk202302/main/data/country_timeseries.csv\")\n",
    "ebola"
   ]
  },
  {
   "cell_type": "code",
   "execution_count": null,
   "id": "cbf17b6b-647e-450b-bc6c-fb7f3d49a716",
   "metadata": {},
   "outputs": [],
   "source": [
    "### 누락 값에 갯수를 출력하시오\n",
    "ebola.shape # (122, 18)\n",
    "ebola.count()\n",
    "ebola.shape[0] - ebola.count()\n",
    "# 누락 값의 총 갯수\n",
    "import numpy as np\n",
    "print(np.count_nonzero(ebola.isnull()))\n",
    "print(122 * 18)\n",
    "ebola.count()\n",
    "ebola['Cases_Liberia'].isnull()\n",
    "np.count_nonzero(ebola['Cases_Liberia'].isnull())"
   ]
  },
  {
   "cell_type": "code",
   "execution_count": null,
   "id": "23bb2822-3705-4e6d-a560-5011ce7dfa97",
   "metadata": {},
   "outputs": [],
   "source": [
    "#### 누락값이 있는 경우 특정 값으로 채우기\n",
    "### fillna()라는 함수를 이용해서  누락값을 대체\n",
    "ebola.iloc[0:10, 0:5]\n",
    "ebola.iloc[0:10, 0:5].fillna(0)\n",
    "ebola_fillna_0 = ebola.fillna(0)\n",
    "ebola_fillna_0\n",
    "np.count_nonzero(ebola_fillna_0.isnull())\n",
    "ebola_fillna_0.iloc[0:10, 0:5]\n",
    "ebola.iloc[0:10, 0:5].fillna(100)\n",
    "ebola_fillna_100 = ebola.fillna(100)\n",
    "ebola_fillna_100\n",
    "np.count_nonzero(ebola_fillna_100.isnull())"
   ]
  },
  {
   "cell_type": "code",
   "execution_count": null,
   "id": "aa4cb2ab-b73e-4025-939a-aef26d77079f",
   "metadata": {},
   "outputs": [],
   "source": [
    "\n",
    "# 누락값을 평균 값으로 변경\n",
    "ebola.mean()\n",
    "ebola_fillna_mean  = ebola.fillna(ebola.mean())\n",
    "ebola_fillna_mean\n",
    "ebola_fillna_mean.iloc[0:10, 0:5]\n",
    "ebola.iloc[0:10, 0:5]"
   ]
  },
  {
   "cell_type": "code",
   "execution_count": null,
   "id": "cf79f974-6ea2-4119-aced-77890588a055",
   "metadata": {},
   "outputs": [],
   "source": [
    "\n",
    "#위 행에 있는 값으로 적용\n",
    "ebola.fillna(method='ffill').iloc[0:10,0:5]\n",
    "np.count_nonzero(ebola.fillna(method='ffill').isnull())\n",
    "ebola.iloc[0:10, 0:5]"
   ]
  },
  {
   "cell_type": "code",
   "execution_count": null,
   "id": "1cc868a7-7b81-4ed8-9081-1b6a0330cd6f",
   "metadata": {},
   "outputs": [],
   "source": [
    "ebola.fillna(method='bfill').iloc[0:10,0:5]\n",
    "np.count_nonzero(ebola.fillna(method='bfill').isnull())"
   ]
  },
  {
   "cell_type": "code",
   "execution_count": null,
   "id": "b9c65cfe-2098-43ae-a408-50d199f8f60f",
   "metadata": {},
   "outputs": [],
   "source": [
    "ebola.interpolate().iloc[0:10,0:5]\n",
    "np.count_nonzero(ebola.interpolate().isnull())"
   ]
  },
  {
   "cell_type": "code",
   "execution_count": null,
   "id": "1dc4bc8e-e2ec-4fa6-bbac-9305f0af4d51",
   "metadata": {},
   "outputs": [],
   "source": [
    "# 누락값을 가진 행을 모두 삭제\n",
    "ebola_drop = ebola.dropna()\n",
    "ebola_drop\n",
    "np.count_nonzero(ebola_drop.isnull())"
   ]
  },
  {
   "cell_type": "code",
   "execution_count": null,
   "id": "0c6d0665-5f9c-4545-83ea-6ef273b656a3",
   "metadata": {},
   "outputs": [],
   "source": [
    "# Cases_Guinea라는 열의 nan이 있는 열의 행만 삭제\n",
    "ebola['Cases_Guinea'].count()\n",
    "ebola_drop_Cases_Guinea = ebola.dropna(subset=['Cases_Guinea'])\n",
    "ebola_drop_Cases_Guinea"
   ]
  },
  {
   "cell_type": "code",
   "execution_count": null,
   "id": "81ca54ec-380c-4484-b2e8-bfd1711a4405",
   "metadata": {},
   "outputs": [],
   "source": [
    "### Cases_Guinea열에 대한 합계 값을 구하시오.\n",
    "print(ebola['Cases_Guinea'].count())  \n",
    "# 누락값을 제외한 나머지의 합계\n",
    "print(ebola['Cases_Guinea'].sum())\n",
    "print(ebola.Cases_Guinea.sum())\n",
    "# 누락값을 제외한 나머지의 평균\n",
    "print(ebola['Cases_Guinea'].mean())\n",
    "print(ebola.Cases_Guinea.mean())\n",
    "\n",
    "# 각 컬럼에 대한 합계값을 구하시오\n",
    "print(ebola.mean())\n",
    "print(ebola.sum())\n",
    "print(ebola.min())\n",
    "print(ebola.max())"
   ]
  },
  {
   "cell_type": "code",
   "execution_count": null,
   "id": "072aa4ad-4c0e-437b-a690-acd2ce92bb51",
   "metadata": {},
   "outputs": [],
   "source": [
    "###  누락값에 0으로 대체한 후 합계를 구하시오.\n",
    "print(ebola.fillna(0).sum())\n",
    "print(ebola.fillna(0).sum(skipna=True))\n",
    "#  누락값을 각 컬럼의 평균으로 대체한 후 합계값을 구하시오.\n",
    "print(ebola.fillna(ebola.mean()).sum())"
   ]
  },
  {
   "cell_type": "code",
   "execution_count": null,
   "id": "ed4a2d3a-cff3-48cb-833a-d9fb7854617e",
   "metadata": {},
   "outputs": [],
   "source": [
    "#### Cases_Guinea컬럼에 누락값을 0으로 대체한 후 합계값을 구하시오.\n",
    "print(ebola['Cases_Guinea'].fillna(0).sum())\n",
    "print(ebola.Cases_Guinea.fillna(0).sum())\n",
    "\n",
    "### Cases_Guinea컬럼에 누락값을 Cases_Guinea의 평균값으로 대체한 후 합계값을 구하시오.\n",
    "print(ebola['Cases_Guinea'].fillna(ebola.Cases_Guinea.mean()).sum())\n",
    "print(ebola.Cases_Guinea.fillna(ebola.Cases_Guinea.mean()).sum())"
   ]
  },
  {
   "cell_type": "code",
   "execution_count": null,
   "id": "6d38d550-21cb-4999-895d-60133674587f",
   "metadata": {},
   "outputs": [],
   "source": [
    "print(ebola['Cases_Guinea'])\n",
    "### 위아래 평균 값으로 대체한 후 합계 값을 구하시오.\n",
    "print(ebola['Cases_Guinea'].interpolate().sum())\n",
    "print(ebola.Cases_Guinea.interpolate().sum())"
   ]
  },
  {
   "cell_type": "code",
   "execution_count": null,
   "id": "775411b2-b763-4d6a-9235-2806b62f6855",
   "metadata": {},
   "outputs": [],
   "source": []
  },
  {
   "cell_type": "code",
   "execution_count": null,
   "id": "46b29b86-5361-4819-87a9-89040c443c31",
   "metadata": {},
   "outputs": [],
   "source": []
  }
 ],
 "metadata": {
  "kernelspec": {
   "display_name": "Python 3 (ipykernel)",
   "language": "python",
   "name": "python3"
  },
  "language_info": {
   "codemirror_mode": {
    "name": "ipython",
    "version": 3
   },
   "file_extension": ".py",
   "mimetype": "text/x-python",
   "name": "python",
   "nbconvert_exporter": "python",
   "pygments_lexer": "ipython3",
   "version": "3.12.0"
  }
 },
 "nbformat": 4,
 "nbformat_minor": 5
}
