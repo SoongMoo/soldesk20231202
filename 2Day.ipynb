{
 "cells": [
  {
   "cell_type": "code",
   "execution_count": 9,
   "id": "379e35aa-bf92-488a-abf2-2636b533914c",
   "metadata": {},
   "outputs": [
    {
     "name": "stdout",
     "output_type": "stream",
     "text": [
      "hello\n",
      "10\n",
      "20\n",
      "Life is too short\n",
      "이숭무\n",
      "10.5\n",
      "5.2\n"
     ]
    }
   ],
   "source": [
    "# 기본자료형 : 리터널 :  변수에 값을 저장하면 한개의 값만 저장이 된다. \n",
    "#                       자연수 : 숫자 : 정수 : 10, 5 \n",
    "#                                       실수 :10.5, 5.2\n",
    "#                       자연어 : 영어, 중국, 프랑스어 , 한국어, .... : 문자열 : \"이숭무\", 'apple', hello:변수\n",
    "# 파이썬의 자료형 : 리스트 : 여러개의 값을 저장할 수 있다.\n",
    "이숭무 = 'hello'\n",
    "print(이숭무)\n",
    "apple = \"이숭무\"\n",
    "\n",
    "i = 10\n",
    "print(i)\n",
    "i = 20 # 변수는 하나의 값만 가진다. \n",
    "print(i) \n",
    "str1 = \"Life is too short\"\n",
    "print(str1)\n",
    "str1 = \"이숭무\"\n",
    "print(str1)\n",
    "f = 10.5\n",
    "print(f)\n",
    "f= 5.2\n",
    "print(f)"
   ]
  },
  {
   "cell_type": "code",
   "execution_count": 14,
   "id": "5d08387d-378b-434c-a217-e32f72ced32f",
   "metadata": {},
   "outputs": [
    {
     "name": "stdout",
     "output_type": "stream",
     "text": [
      "['Life', 'is', 'too', 'short']\n",
      "10\n",
      "10.5\n",
      "hello\n"
     ]
    }
   ],
   "source": [
    "i = 10    # 정수형리터널 변수\n",
    "f = 10.5 # 실수형리커널 변수\n",
    "str2 = \"hello\" # 문자리터널 변수\n",
    "l = [] #리스트 # 리스트형 변수\n",
    "l = [1,2,3,4,5] \n",
    "str1 = \"Life is too short\"\n",
    "result = str1.split()\n",
    "print(result)\n",
    "print(i)\n",
    "print(f)\n",
    "print(str2)"
   ]
  },
  {
   "cell_type": "code",
   "execution_count": 15,
   "id": "ccb6626b-863c-4b04-9202-4b430aaa6b5a",
   "metadata": {},
   "outputs": [],
   "source": [
    "# 리스트자료형 형식\n",
    "l = [] # 빈리스트\n",
    "l = [1,2,3,4,5] # 정수형 리스트\n",
    "l = ['이숭무', 'apple', 'yellow'] # 문자열형 리스트\n",
    "l = [10, '이숭무', 10.5] # 혼합형 리스트\n",
    "l = [10, '이숭무', 10.5, [1,2,3]] # 리스트를 포함한 혼합형 리스트\n",
    "l = [[1,2,3,4] , [5,6,7,8]] # 리스트를 포함한 리스트"
   ]
  },
  {
   "cell_type": "code",
   "execution_count": 25,
   "id": "cc6c3ec3-831e-464a-b376-2fe5b73cd1d6",
   "metadata": {},
   "outputs": [
    {
     "name": "stdout",
     "output_type": "stream",
     "text": [
      "[1, 2, 3, 4, 5]\n",
      "['Life', 'is', 'too', 'short']\n",
      "f\n",
      "f\n",
      "[1, 2, 3, 4, 5]\n",
      "3\n",
      "3\n",
      "이상범\n",
      "이상범\n"
     ]
    }
   ],
   "source": [
    "l = [1,2,3,4,5]\n",
    "print(l)\n",
    "print(result) # ['Life', 'is', 'too', 'short'] : split의 결과는 리스트\n",
    "str1 = \"Life is too short\"\n",
    "#                 1\n",
    "#       01234567890123456 :  index\n",
    "#              1\n",
    "#      -76543210987654321  : -index\n",
    "print(str1[2]) # f ... indexing\n",
    "print(str1[-15])\n",
    "l = [1, 2, 3, 4, 5]\n",
    "#    0  1  2  3  4 : index\n",
    "#   -5  4  3  2  1 : -index\n",
    "print(l)\n",
    "# indexing\n",
    "print(l[2]) # indexing\n",
    "print(l[-3])\n",
    "l1 = [\"이숭무\", \"이상범\", \"이장범\"] \n",
    "#        0         1        2\n",
    "#       -3         2        1\n",
    "print(l1[1])\n",
    "print(l1[-2])"
   ]
  },
  {
   "cell_type": "code",
   "execution_count": 42,
   "id": "27922fba-9d83-4f3b-842c-b683c48bb7d1",
   "metadata": {},
   "outputs": [
    {
     "name": "stdout",
     "output_type": "stream",
     "text": [
      "1\n",
      "2\n",
      "Life\n",
      "is\n",
      "[3, 4, 5]\n",
      "[1]\n",
      "0.5\n",
      "30\n",
      "30\n",
      "3\n",
      "Python is fun\n",
      "Lifeis\n",
      "1030\n",
      "31\n",
      "pythonpythonpython\n",
      "shortshort\n"
     ]
    }
   ],
   "source": [
    "l=[1 , 2 , 'Life' , 'is', [3,4,5] , 'too' , [1] , 0.5 , 'short', \"30\"]\n",
    "#  0   1      2       3      4        5      6     7       8       9\n",
    "# indexing의 결과 값은? # 요소의 자료형으로 출력이 된다.\n",
    "print(l[0]) # 정수\n",
    "print(l[1])# 정수\n",
    "print(l[2]) # 문자\n",
    "print(l[3]) # 문자\n",
    "print(l[4]) # 리스트\n",
    "print(l[6]) # 리스트\n",
    "print(l[7]) # 실수\n",
    "print(l[9]) # 문자\n",
    "print( 10 + 20) # 정수 + 정수\n",
    "print( l[0] + l[1] )\n",
    "print( \"Python \" + \"is fun\") # 문자 + 문자\n",
    "print( l[2] +l[3]) # 문자 + 문자\n",
    "# print( 10 + \"30\") # 문자 + 정수는 연산할 수 없다\n",
    "print( str(10) + \"30\") # str() : 숫자를 문자로 변환 : 문자 + 문자\n",
    "# print(l[0] + l[9] ) # 정수 + 문자는 연산할 수 없다.\n",
    "print(l[0] + int(l[9]) ) # int() : 문자인 숫자를 숫자로 변환 : 정수 + 정수\n",
    "print(\"python\" * 3) # 반복연산자 :  문자 * 정수 \n",
    "print(l[8] * l[1]) # 문자 * 정수 : 반복연산"
   ]
  },
  {
   "cell_type": "code",
   "execution_count": 47,
   "id": "be4ac16a-6708-4c84-8962-7c718ed15064",
   "metadata": {},
   "outputs": [
    {
     "name": "stdout",
     "output_type": "stream",
     "text": [
      "['a', 'b', 'c']\n",
      "b\n",
      "b\n",
      "b\n",
      "b\n"
     ]
    }
   ],
   "source": [
    "a = [1, 2, 3, ['a', 'b', 'c']]\n",
    "#    0  1  2         3\n",
    "#               0    1     2\n",
    "#   -4  3  2         1\n",
    "#              -3    2     1\n",
    "b = a[3]\n",
    "print(b) # ['a', 'b', 'c']\n",
    "#            0    1    2\n",
    "print(a[3][1]) # ['a', 'b', 'c']\n",
    "#               0    1    2\n",
    "print(a[-1][-2])\n",
    "print(a[3][-2])\n",
    "print(a[-1][1])"
   ]
  },
  {
   "cell_type": "code",
   "execution_count": 53,
   "id": "89922aa6-b51f-4de4-a90d-52bb71d83f3f",
   "metadata": {},
   "outputs": [
    {
     "name": "stdout",
     "output_type": "stream",
     "text": [
      "['a', 'b', ['life', 'is']]\n",
      "['life', 'is']\n",
      "life\n",
      "i\n"
     ]
    }
   ],
   "source": [
    "a = [1, 2, 3, ['a', 'b', ['life', 'is']]]\n",
    "#    0  1  2           3\n",
    "#              0     1          2\n",
    "#                           0      1\n",
    "print(a[3]) # ['a', 'b', ['life', 'is']]\n",
    "#               0    1         2\n",
    "print(a[3][2]) # ['life', 'is']\n",
    "#                   0       1\n",
    "print(a[3][2][0]) # 'life'\n",
    "#                    0123\n",
    "print(a[3][2][0][1])"
   ]
  },
  {
   "cell_type": "code",
   "execution_count": 71,
   "id": "7002c04d-74e4-448f-b3cc-5cd3027c2996",
   "metadata": {},
   "outputs": [
    {
     "name": "stdout",
     "output_type": "stream",
     "text": [
      "L\n",
      "i\n",
      "f\n",
      "e\n",
      "Life\n",
      "Life\n",
      "fe\n",
      "\n",
      "f\n",
      "1\n",
      "2\n",
      "[1, 2]\n",
      "[2, 3]\n",
      "[]\n",
      "[2]\n",
      "2\n",
      "5\n",
      "[3]\n",
      "[2, 3]\n",
      "[2, 2, 2]\n"
     ]
    }
   ],
   "source": [
    "#리스트의 슬라이싱\n",
    "str1 ='Life is too short'\n",
    "#                1\n",
    "#      01234567890123456\n",
    "print(str1[0]) # indexing\n",
    "print(str1[1])\n",
    "print(str1[2])\n",
    "print(str1[3])\n",
    "print(str1[0]+str1[1]+str1[2]+str1[3])\n",
    "print(str1[0:4]) # slicing\n",
    "print(str1[2:2+2]) # 두글자\n",
    "print(str1[2:2+0]) # 출력결과 없음\n",
    "print(str1[2:2+1]) # 한글자\n",
    "l = [1, 2, 3, 4]\n",
    "#    0  1  2  3\n",
    "print(l[0])\n",
    "print(l[1])\n",
    "print(l[0:2]) # slicing\n",
    "print(l[1:1+2])\n",
    "print(l[1:1]) # [] :빈리스트\n",
    "print(l[1:1+1]) # slicing : 결과가 리스트 : [2]\n",
    "print(l[1]) # indexing  : 2\n",
    "print(l[1] + l[2]) # 정수 + 정수 =  2 + 3 = 5\n",
    "print(l[2:2+1]) # slicing : 결과가 리스트 : [3]\n",
    "print(l[1:1+1] + l[2:2+1] ) # [2] +  [3] = 리스트 + 리스트 = 리스트 : [2, 3] : 연결연산자 : +\n",
    "print(l[1:1+1] * l[2]) # 리스트 * 정수 = 리스트 : [2, 2, 2] : 반복연산자 : *\n",
    "# print(l[1] + l[2:2+1] ) # 정수 + 리스트 \n",
    "# print(l[1] + int(l[2:2+1]) ) # 리스트는 정수로 변환 하지 못함\n",
    "# print(list(l[1]) + l[2:2+1] ) # list()리스트로 변환하는 변환 함수 : 정수를 리스트로 변환 할 수 없음."
   ]
  },
  {
   "cell_type": "code",
   "execution_count": 88,
   "id": "52c0d3bf-edf9-4084-a9a4-524bebcca75e",
   "metadata": {},
   "outputs": [
    {
     "name": "stdout",
     "output_type": "stream",
     "text": [
      "['Life', 'is', 'too', 'short']\n",
      "Life\n",
      "is\n",
      "['Life']\n",
      "Lifeis\n",
      "['Life']is\n",
      "['Life', 'i', 's']\n"
     ]
    }
   ],
   "source": [
    "result = ['Life', 'is', 'too', 'short']\n",
    "#            0      1     2       3\n",
    "print(result)\n",
    "print(result[0]) # \"Life\"\n",
    "print(result[1])\n",
    "print(result[0:0+1]) # ['Life']\n",
    "print(result[0]+result[1]) # 문자열 + 문자열 = 문자열\n",
    "#print(result[0:0+1] + result[1] ) # 리스트 + 문자열 \n",
    "print(str(result[0:0+1]) + result[1] ) # \"['Life']\" + is : 문자열형 리스트를 문자열로 변환 : 문자열 + 문자열 = 문자열\n",
    "print(result[0:0+1] + list(result[1]) ) # ['Life', 'i'] + ['is'] : 리스트 + 리스트 = 리스트 : 문자열을 리스트로 변환\n",
    "\n",
    "# 변환함수 : int(), str(), list()"
   ]
  },
  {
   "cell_type": "code",
   "execution_count": 105,
   "id": "f020a575-c3ed-4304-aa41-4af70a340fad",
   "metadata": {},
   "outputs": [
    {
     "name": "stdout",
     "output_type": "stream",
     "text": [
      "Li\n",
      "['Life', 'is']\n",
      "Li\n",
      "['Life', 'is']\n",
      "is too short\n",
      "['is', 'too', 'short']\n",
      "Life is too short\n",
      "['Life', 'is', 'too', 'short']\n",
      "Lf stosot\n",
      "['Life', 'too']\n",
      "trohs oot si efiL\n",
      "['short', 'too', 'is', 'Life']\n",
      "fe is too sh\n",
      "hs oot si ef\n",
      "['is', 'too', 'short']\n",
      "['short', 'too', 'is']\n"
     ]
    }
   ],
   "source": [
    "str1 = \"Life is too short\"\n",
    "result = ['Life', 'is', 'too', 'short']\n",
    "print(str1[0:0+2]) \n",
    "print(result[0:0+2])\n",
    "print(str1[:2])\n",
    "print(result[:0+2])\n",
    "print(str1[5:])\n",
    "print(result[1:])\n",
    "print(str1[:]) # print(str1)\n",
    "print(result[:]) # print(result)\n",
    "print(str1[::2]) \n",
    "print(result[::2])\n",
    "print(str1[::-1])\n",
    "print(result[::-1])\n",
    "print(str1[2:14])\n",
    "print(str1[13:1:-1])\n",
    "print(result[1:4])\n",
    "print(result[3:0:-1])"
   ]
  },
  {
   "cell_type": "code",
   "execution_count": 124,
   "id": "5af63476-e98a-41a3-a2cd-92a21bd25a01",
   "metadata": {},
   "outputs": [
    {
     "name": "stdout",
     "output_type": "stream",
     "text": [
      "y\n",
      "Life is too short\n",
      "['Lyfe', 'is', 'too', 'short']\n",
      "Lyfe\n",
      "['Life', 'is', 'too', 'short']\n",
      "too\n",
      "['Life', 'is', 100, 'short']\n",
      "17\n",
      "4\n"
     ]
    }
   ],
   "source": [
    "str1 = 'Lyfe is too short'\n",
    "print(str1[1])\n",
    "# str1[1] ='i' : 문자열은 변경할 수 없다\n",
    "str1 = str1.replace(\"Lyfe\", \"Life\")\n",
    "print(str1)\n",
    "l3 = ['Lyfe', 'is', 'too', 'short']\n",
    "print(l3)\n",
    "print(l3[0])\n",
    "l3[0] = 'Life' # 리스트는 index를 이용해서 요소의 값을 변경할 수 있다.\n",
    "print(l3)\n",
    "print(l3[2])\n",
    "l3[2] = 100\n",
    "print(l3)\n",
    "print(len(str1)) # 문자열의 크기 # 17\n",
    "print(len(l3)) # 리스트의 크기 : 4\n",
    "# print(len(1234))"
   ]
  },
  {
   "cell_type": "code",
   "execution_count": 135,
   "id": "1bf4ca04-bce5-4333-ab61-b3338d221d12",
   "metadata": {},
   "outputs": [
    {
     "name": "stdout",
     "output_type": "stream",
     "text": [
      "['Life', 'is', 'too']\n",
      "['Life', 'is']\n",
      "['Life', 'is', 'too']\n",
      "['Life', 'is', 'too', 'short']\n",
      "['Life', 'is', 'too', 'short', 3]\n",
      "['Life', 'is', 'short']\n",
      "['Life', 'is', 'too', 'short']\n",
      "[1, 2, 3, 4, 5, 6]\n",
      "[1, 2, 3]\n",
      "[1, 2, 3, 4, 5, 6]\n",
      "[1, 2, 3, 4, 5, 6, 4, 5, 6]\n"
     ]
    }
   ],
   "source": [
    "# 리스트 함수\n",
    "# 리스트에 요소 추가 \n",
    "#append()\n",
    "l1 = ['Life','is']\n",
    "# 'too'추가\n",
    "print(l1 + ['too'])\n",
    "print(l1)\n",
    "l1.append('too')\n",
    "print(l1)\n",
    "l1.append('short')\n",
    "print(l1)\n",
    "l1.append(3)\n",
    "print(l1)\n",
    "l1 = ['Life', 'short']\n",
    "#       0        1\n",
    "# 원하는 위치에 요소 삽입하기 : insert\n",
    "l1.insert(1,'is') #index 1번에 is 넣기\n",
    "print(l1) # ['Life', 'is', 'short']\n",
    "l1.insert(2, 'too') # index 2번에 too 넣기\n",
    "print(l1)\n",
    "# 확장 : extend\n",
    "a = [1,2,3]\n",
    "b = [4,5,6]\n",
    "print( a + b )\n",
    "print(a)\n",
    "a = a + b\n",
    "print(a)\n",
    "a.extend(b)\n",
    "print(a)"
   ]
  },
  {
   "cell_type": "code",
   "execution_count": 143,
   "id": "8d6d126b-e6f9-43a8-95e6-af5208e27dcb",
   "metadata": {},
   "outputs": [
    {
     "name": "stdout",
     "output_type": "stream",
     "text": [
      "['Life', 'too', 'short']\n",
      "['Life', 'too']\n",
      "['Life', 'too', 'short']\n",
      "['Life', 'short']\n",
      "[]\n",
      "['Life', 'is', 'too']\n",
      "short\n",
      "['Life', 'is']\n",
      "too\n",
      "['Life', 'too', 'short']\n",
      "is\n"
     ]
    }
   ],
   "source": [
    "#요소 삭제\n",
    "l2 = ['Life', 'is', 'too', 'short']\n",
    "#       0      1      2       3\n",
    "#index를 이용해서 삭제 : del\n",
    "del l2[1]\n",
    "print(l2) # ['Life', 'too', 'short']\n",
    "#               0      1       2\n",
    "del l2[2]\n",
    "print(l2)\n",
    "l2 = ['Life', 'is', 'too', 'short']\n",
    "# 요소를 이용해서 삭제 : remove\n",
    "l2.remove('is')\n",
    "print(l2)\n",
    "l2.remove('too')\n",
    "print(l2)\n",
    "# 완전히 삭제 :  clear\n",
    "l2.clear()\n",
    "print(l2)\n",
    "### 삭제한 값을 받아오기 : pop\n",
    "l2 = ['Life', 'is', 'too', 'short']\n",
    "result = l2.pop() # 뒤에 있는 값을 끄집어 나온다.\n",
    "print(l2) # ['Life', 'is', 'too']\n",
    "print(result) # 'short'\n",
    "result = l2.pop()  \n",
    "print(l2) # ['Life', 'is']\n",
    "print(result) #'too'\n",
    "### index를 이용해서 삭제한 값을 받아오기 : pop\n",
    "l2 = ['Life', 'is', 'too', 'short']\n",
    "#       0       1     2       3\n",
    "result = l2.pop(1) # 비복원 추출\n",
    "print(l2) # ['Life', 'too', 'short']\n",
    "#              0       1       2\n",
    "print(result)\n",
    "result = l2.pop(0); print(l2); print(result) # \n",
    "# 주사위 : 복원추출"
   ]
  },
  {
   "cell_type": "code",
   "execution_count": 151,
   "id": "f821b15b-5343-451d-8744-aa93f1f0c563",
   "metadata": {},
   "outputs": [
    {
     "name": "stdout",
     "output_type": "stream",
     "text": [
      "[1, 2, 3, 4, 5]\n",
      "[5, 4, 3, 2, 1]\n",
      "['a', 'b', 'c']\n",
      "['가', '나', '다']\n",
      "['a', 'b', 'c', '가', '나', '다']\n",
      "['다', '나', '가']\n",
      "['Life', 'is', 'too', 'short']\n"
     ]
    }
   ],
   "source": [
    "# 정렬 -- 오름차순, 내림차순\n",
    "l = [4,2,5,1,3]\n",
    "#오름차순\n",
    "l.sort()\n",
    "print(l)\n",
    "l = [4,2,5,1,3]\n",
    "#내림차순 # [1, 2, 3, 4, 5] reverse\n",
    "l.sort(reverse=True)\n",
    "print(l)\n",
    "l = ['b','a','c']\n",
    "l.sort()\n",
    "print(l)\n",
    "l = ['다','가','나']\n",
    "l.sort()\n",
    "print(l)\n",
    "l = ['b','a','c', '다','가','나']\n",
    "l.sort()\n",
    "print(l)\n",
    "l = ['다','가','나']\n",
    "l.sort(reverse=True)\n",
    "print(l)\n",
    "#l = ['b','a','c',3,1,2] # 숫자와 문자가 같이 있는 경우에는 정렬 되지 않는다.\n",
    "#l.sort()"
   ]
  },
  {
   "cell_type": "code",
   "execution_count": 162,
   "id": "3e6caa17-e8d0-4881-90c4-cf77b782adfe",
   "metadata": {},
   "outputs": [
    {
     "name": "stdout",
     "output_type": "stream",
     "text": [
      "8\n",
      "8\n",
      "2\n"
     ]
    }
   ],
   "source": [
    "str1 = \"Life is too short\"\n",
    "idx = str1.find(\"too\")\n",
    "print(idx)\n",
    "idx = str1.index(\"too\")\n",
    "print(idx)\n",
    "l1 = ['Life', 'is', 'too', 'short']\n",
    "idx = l1.index(\"too\")\n",
    "print(idx)\n",
    "# idx = l1.find(\"too\") # 리스트에는 find()함수가 존재하지 않는다."
   ]
  },
  {
   "cell_type": "code",
   "execution_count": 173,
   "id": "cec4a594-c688-49fe-88ab-63087afcd673",
   "metadata": {},
   "outputs": [
    {
     "name": "stdout",
     "output_type": "stream",
     "text": [
      "[1, 2, 3, 4, 5]\n",
      "(1, 2, 3, 4, 5)\n",
      "()\n",
      "32\n",
      "2\n",
      "8\n",
      "2\n",
      "(8,)\n",
      "(2,)\n",
      "(1, 2)\n"
     ]
    }
   ],
   "source": [
    "# 리터널 : 자연수 : 정수, 실수\n",
    "#          자연어 : 문자, 문자열, \"\", '',\"\"\"\"\"\",''''''\n",
    "# 리스트 : []\n",
    "# 튜플 : ()\n",
    "l = [1, 2, 3, 4, 5] # 리스트\n",
    "print(l)\n",
    "t = (1, 2, 3, 4, 5) # 튜플\n",
    "print(t)\n",
    "l = [] #빈리스트\n",
    "t = () #빈튜플\n",
    "print(t)\n",
    "print((3 + 5) * 4) # 32 () :최우선 연산자\n",
    "print((2)) # 최우선 연산자.\n",
    "t = (3 + 5) # 최우선 연산자\n",
    "print(t)\n",
    "t = (2) # 최우선 연산자\n",
    "print(t) #2\n",
    "t = (3 + 5,) #요소가 하나인 경우에는 콤마찍어준다.\n",
    "print(t)\n",
    "t = (2,)\n",
    "print(t)\n",
    "t = (1,2) #요소두개 이상인 경우 소괄호를 사용한다.\n",
    "print(t)"
   ]
  },
  {
   "cell_type": "code",
   "execution_count": 174,
   "id": "46f3f674-4e7b-4615-a599-479382c2c510",
   "metadata": {},
   "outputs": [
    {
     "name": "stdout",
     "output_type": "stream",
     "text": [
      "(1, 2, 3, 4, 5, 6)\n"
     ]
    }
   ],
   "source": [
    "l = [] # 빈리스트\n",
    "t = () #빈튜플\n",
    "l = [1] # 요소가 하나인 리스트\n",
    "t = (1,) #요소가 하나인 튜플\n",
    "l = [1,2,3,4,5] #정수형 리스트\n",
    "t = (1,2,3,4,5) #정수형 퓨플\n",
    "t = (10.1 , 5.3, 2.4 ) # 실수형 튜플\n",
    "t = (\"이숭무\", \"김찬중\") #문자열형 튜플\n",
    "t = (1,2,3,10.1 ,\"이숭무\", \"김찬중\") # 혼합형 퓨플\n",
    "t = (1,2,3,10.1 ,\"이숭무\", \"김찬중\", [1,2,3]) # 리스트를  포함한 혼합형 튜플\n",
    "t = (1,2,3,10.1 ,\"이숭무\", \"김찬중\", (1,2,3)) # 튜플  포함한 혼합형 튜플\n",
    "t = (1,2,3,10.1 ,\"이숭무\", \"김찬중\", (1,2,3), [4,5,6])\n",
    "l = [1,2,3,10.1 ,\"이숭무\", \"김찬중\", (1,2,3), [4,5,6]]\n",
    "t = 1,2,3,4,5,6 # 튜플 : 튜플을 만들 때 소괄호를 사용하지 않아도 튜플이 만들어 짐\n",
    "print(t)"
   ]
  },
  {
   "cell_type": "code",
   "execution_count": 182,
   "id": "433d8bd7-bc93-415e-8b7d-b92eedbe36b5",
   "metadata": {},
   "outputs": [
    {
     "name": "stdout",
     "output_type": "stream",
     "text": [
      "Life is too short\n",
      "['Life', 'is', 'too', 'short']\n",
      "('Life', 'is', 'too', 'short')\n",
      "f\n",
      "too\n",
      "too\n",
      "fe is too short\n",
      "['too', 'short']\n",
      "('too', 'short')\n",
      "fe\n",
      "['too', 'short']\n",
      "('too', 'short')\n",
      "Lif\n",
      "['Life', 'is', 'too']\n",
      "('Life', 'is', 'too')\n"
     ]
    }
   ],
   "source": [
    "str1 = \"Life is too short\"\n",
    "#                 1\n",
    "#       01234567890123456\n",
    "l1 = ['Life', 'is', 'too', 'short']\n",
    "#       0       1      2      3\n",
    "t1 = 'Life', 'is', 'too', 'short'\n",
    "#       0      1     2       3\n",
    "print(str1); print(l1); print(t1)\n",
    "# indexing\n",
    "print(str1[2])\n",
    "print(l1[2])\n",
    "print(t1[2])\n",
    "# slicing\n",
    "print(str1[2:])\n",
    "print(l1[2:])\n",
    "print(t1[2:])\n",
    "print(str1[2:2+2])\n",
    "print(l1[2:2+2])\n",
    "print(t1[2:2+2])\n",
    "print(str1[:3])\n",
    "print(l1[:3])\n",
    "print(t1[:3])"
   ]
  },
  {
   "cell_type": "code",
   "execution_count": 198,
   "id": "68e5d194-ff3c-4197-b47a-3282adb660e4",
   "metadata": {},
   "outputs": [
    {
     "name": "stdout",
     "output_type": "stream",
     "text": [
      "y\n",
      "Life is too short\n",
      "Lyfe\n",
      "['Life', 'is', 'too', 'short']\n",
      "Lyfe\n",
      "['Life', 'is', 'too', 'short']\n",
      "['is', 'too', 'short']\n",
      "1\n",
      "2\n",
      "3\n",
      "4\n",
      "3\n",
      "3\n"
     ]
    }
   ],
   "source": [
    "str1 = \"Lyfe is too short\"\n",
    "l1 = ['Lyfe', 'is', 'too', 'short']\n",
    "t1 = 'Lyfe', 'is', 'too', 'short'\n",
    "print(str1[1])\n",
    "# str1[1] = 'i'\n",
    "str1 = str1.replace(\"Lyfe\", \"Life\") # replace()를 사용하면 문자열을 변경할 수 있다\n",
    "print(str1)\n",
    "print(l1[0])\n",
    "l1[0] = \"Life\" # 리스트는 요소의 값을 변경 할 수 있다\n",
    "print(l1)\n",
    "print(t1[0])\n",
    "# t1[0] = \"Life\" # 튜플은 요소의 값을 변경할 수 없다.\n",
    "print(l1)\n",
    "del l1[0]\n",
    "print(l1)\n",
    "# del t1[0] # 삭제도 되지 않는다. \n",
    "# 튜플은 저장된 값이 변경되서는 안되는 경우에 사용\n",
    "idx = l1.index(\"too\")\n",
    "print(idx)\n",
    "idx = t1.index(\"too\")\n",
    "print(idx)\n",
    "print(len(l1))\n",
    "print(len(t1))\n",
    "l2 = [1,2,3,3,4,5,3]\n",
    "t2 = (1,2,3,3,4,5,3)\n",
    "print(l2.count(3))\n",
    "print(t2.count(3))"
   ]
  },
  {
   "cell_type": "code",
   "execution_count": 208,
   "id": "43c52b26-a6e6-4560-8666-55dfc12ea0e6",
   "metadata": {},
   "outputs": [
    {
     "name": "stdout",
     "output_type": "stream",
     "text": [
      "['Life', 'is', 'too', 'short']\n",
      "('Life', 'is', 'too', 'short')\n",
      "['is', 'too']\n",
      "('is', 'too')\n",
      "['too', 'short']\n",
      "['is', 'too', 'too', 'short']\n",
      "['Life', 'is', 'too', 'short']\n",
      "('too', 'short')\n",
      "('is', 'too', 'too', 'short')\n",
      "('Life', 'is', 'too', 'short')\n",
      "('is', 'too', 'is', 'too', 'is', 'too')\n"
     ]
    }
   ],
   "source": [
    "### l1 = ['Life', 'is', 'too', 'short']\n",
    "t1 = 'Life', 'is', 'too', 'short'\n",
    "print(l1); print(t1)\n",
    "print(l1[1:3]) # 리스트 : ['is', 'too']\n",
    "print(t1[1:3]) # 튜플 : ('is', 'too')\n",
    "print(l1[2:4]) # 리스트 : ['too', 'short']\n",
    "print(l1[1:3] + l1[2:4]) # 리스트 + 리스트 = 리스트\n",
    "print(l1);\n",
    "print(t1[2:4])  # 튜플 ('too', 'short')\n",
    "print(t1[1:3] + t1[2:4] ) # 튜플 + 튜플 = 튜플\n",
    "print(t1)\n",
    "print(t1[1:3] * 3)"
   ]
  },
  {
   "cell_type": "code",
   "execution_count": 223,
   "id": "d06ab7d8-7623-4585-964d-d7dcc06537d6",
   "metadata": {},
   "outputs": [
    {
     "name": "stdout",
     "output_type": "stream",
     "text": [
      "['h', 'e', 'l', 'l', 'o']\n",
      "('h', 'e', 'l', 'l', 'o')\n",
      "['h', 'e', 'l', 'l', 'o']\n",
      "('h', 'e', 'l', 'l', 'o')\n",
      "('h', 'e', 'l', 'l', 'o')\n",
      "['h', 'e', 'l', 'l', 'o']\n",
      "hello\n",
      "hello\n",
      "h e l l o\n",
      "Life is too short\n",
      "Life:is:too:short\n",
      "h,e,l,l,o\n"
     ]
    }
   ],
   "source": [
    "# 형변환 : int, str, list, tuple\n",
    "str2 = \"hello\"\n",
    "l2 = list(str2)\n",
    "print(l2)\n",
    "t2 = tuple(str2)\n",
    "print(t2)\n",
    "l3 = list(t2)\n",
    "print(l3)\n",
    "t3 = tuple(l3)\n",
    "print(t3)\n",
    "str3 = str(t3) #튜플은 문자열로 합쳐지지 않는다. 문자열로 형변환은 가능\n",
    "print(str3)\n",
    "str3 = str(l3) # 리스트는 문자열로 합쳐지지 않는다. 문자열로 형변환은 가능\n",
    "print(str3) \n",
    "# 리스트나 튜플을 하나의 문자열로 합치기 위해서는 join()함수를 사용한다.\n",
    "str3 = \"\".join(l3)\n",
    "print(str3)\n",
    "str3 = \"\".join(t3)\n",
    "print(str3)\n",
    "str3 = \" \".join(t3)\n",
    "print(str3)\n",
    "l1 = ['Life', 'is', 'too', 'short']\n",
    "str3 = \" \".join(l1)\n",
    "print(str3)\n",
    "l1 = ['Life', 'is', 'too', 'short']\n",
    "str3 = \":\".join(l1)\n",
    "print(str3)\n",
    "s4 = \"hello\"\n",
    "print(\",\".join(s4))"
   ]
  },
  {
   "cell_type": "code",
   "execution_count": 229,
   "id": "8b68abf1-04c7-4a62-93f6-1bb3d4ecd63f",
   "metadata": {},
   "outputs": [
    {
     "name": "stdout",
     "output_type": "stream",
     "text": [
      "{'name': '이숭무', 'age': 30, 'height': 170.5}\n",
      "Life\n",
      "이숭무\n",
      "30\n",
      "170.5\n",
      "173.5\n"
     ]
    }
   ],
   "source": [
    "# 리터널 : 문자열 : \"\",''\n",
    "#  index\n",
    "# 리스트 : [] \n",
    "# 튜플 : ()\n",
    "# 딕셔너리 : {키1 : 값1, 키2: 값2,키3 : 값3,...키n : 값n}\n",
    "l = [] # 빈리스트\n",
    "t = () # 빈튜플\n",
    "dic = {} # 빈딕셔너리\n",
    "dic1 = {'name' : '이숭무', 'age' : 30, 'height': 170.5}\n",
    "print(dic1)\n",
    "l1 = ['Life', 'is', 'too', 'short']\n",
    "#       0      1      2       3\n",
    "print(l1[0]) # 문자열, 리스트, 튜플은 index를 이용한다.\n",
    "print(dic1['name']) # 딕셔너리는 키를 이용해서 값을 가지고 온다.\n",
    "print(dic1['age'])\n",
    "print(dic1['height'])\n",
    "dic = {1: '이숭무', 2: 30 , 0 : 173.5} \n",
    "#         0          1        2   # 딕셔너리에서는 index를 사용하지 않는다.\n",
    "print(dic[0]) # 173.5"
   ]
  },
  {
   "cell_type": "code",
   "execution_count": 233,
   "id": "3603349d-0e48-4988-ac14-8c3041e2689c",
   "metadata": {},
   "outputs": [
    {
     "name": "stdout",
     "output_type": "stream",
     "text": [
      "이숭무의 나이는 30살이고 키는 175.5입니다\n",
      "이숭무의 나이는 30살이고 키는 173.5입니다\n",
      "이숭무의 나이는 30살이고 키는 175.3입니다\n",
      "이숭무의 나이는 30살이고 키는 170.5입니다\n"
     ]
    }
   ],
   "source": [
    "print(\"이숭무의 나이는 30살이고 키는 175.5입니다\")\n",
    "name = \"이숭무\"\n",
    "age = 30\n",
    "height = 173.5\n",
    "print(f\"{name}의 나이는 {age}살이고 키는 {height}입니다\")\n",
    "l4 = [\"이숭무\", 30, 175.3]\n",
    "print(f\"{l4[0]}의 나이는 {l4[1]}살이고 키는 {l4[2]}입니다\")\n",
    "d = {'name' : '이숭무', 'age' : 30, 'height': 170.5}\n",
    "print(f\"{d['name']}의 나이는 {d['age']}살이고 키는 {d['height']}입니다\")"
   ]
  },
  {
   "cell_type": "code",
   "execution_count": 242,
   "id": "8254f29e-ddd5-4ad2-b1fa-c5ad84385a5c",
   "metadata": {},
   "outputs": [
    {
     "name": "stdout",
     "output_type": "stream",
     "text": [
      "[1, 2, 3, 4]\n",
      "[1, 12, 3, 4]\n",
      "{'name': '김찬중', 'age': 30, 'height': 170.5, 'addr': '성남'}\n",
      "김찬중\n",
      "{'name': '김찬중', 'age': 30, 'height': 170.5, 'addr': '성남'}\n",
      "{'name': '김찬중', 'age': 30, 'height': 170.5, 'addr': '성남'}\n",
      "{1: '숭'}\n",
      "{1: '숭'}\n"
     ]
    }
   ],
   "source": [
    "l = [1,2,3,4]\n",
    "#    0 1 2 3\n",
    "print(l)\n",
    "l[1] = 12 # index를 이용해서 값을 변경\n",
    "print(l)\n",
    "print(d)\n",
    "print(d['name'])\n",
    "# 키가 있으면 수정이 되고\n",
    "d['name'] = '김찬중' # 키를 이용해서 값을 변경할 수 있다.\n",
    "print(d) \n",
    "# index가 없으면 오류 발생\n",
    "# l[4] = 30 list assignment index out of range\n",
    "# 키가 없으면 추가된다.\n",
    "d['addr'] = '성남'\n",
    "print(d)\n",
    "# 중복키를 허용하지 않다.\n",
    "d1 = {1:'이', 1:'숭'}\n",
    "print(d1)\n",
    "d1 = {1:'이'}\n",
    "d1[1] = '숭'\n",
    "print(d1)"
   ]
  },
  {
   "cell_type": "code",
   "execution_count": 248,
   "id": "e48c8512-4ad7-4774-9af3-e9cbb68f36ec",
   "metadata": {},
   "outputs": [
    {
     "name": "stdout",
     "output_type": "stream",
     "text": [
      "[2, 3, 4]\n",
      "{'age': 30, 'height': 170.5}\n",
      "[4]\n",
      "[]\n",
      "[]\n",
      "{}\n"
     ]
    }
   ],
   "source": [
    "# 딕셔너리 함수 \n",
    "d = {'name' : '이숭무', 'age' : 30, 'height': 170.5}\n",
    "l = [1,2,3,4]\n",
    "#    0 1 2 3\n",
    "# 요소 삭제\n",
    "del l[0] # indexing\n",
    "print(l)\n",
    "del d['name']\n",
    "print(d)\n",
    "del l[0:2] # slicing\n",
    "print(l)\n",
    "#모두 삭제\n",
    "del l [:]\n",
    "print(l)\n",
    "l.clear()\n",
    "print(l)\n",
    "d.clear()\n",
    "print(d)"
   ]
  },
  {
   "cell_type": "code",
   "execution_count": 256,
   "id": "782cd6e9-503b-4e7c-9763-37df7a05fd48",
   "metadata": {},
   "outputs": [
    {
     "name": "stdout",
     "output_type": "stream",
     "text": [
      "dict_keys(['name', 'age', 'height'])\n",
      "dict_values(['이숭무', 30, 170.5])\n",
      "dict_items([('name', '이숭무'), ('age', 30), ('height', 170.5)])\n",
      "['name', 'age', 'height']\n",
      "['이숭무', 30, 170.5]\n"
     ]
    }
   ],
   "source": [
    "# 딕셔너리에 있는 키를 가져오기\n",
    "dic1 = {'name': '이숭무', 'age': 30, 'height': 170.5}\n",
    "print(dic1.keys())\n",
    "# 딕셔너리에 있는 값를 가져오기\n",
    "print(dic1.values())\n",
    "# 키와 값을 묶어서 가져오기\n",
    "print(dic1.items())\n",
    "l5 =  list(dic1.keys())\n",
    "print(l5)\n",
    "l6 = list(dic1.values())\n",
    "print(l6)"
   ]
  },
  {
   "cell_type": "code",
   "execution_count": 271,
   "id": "859ab2c5-66f2-435b-84ac-6ea43f9a8813",
   "metadata": {},
   "outputs": [
    {
     "name": "stdout",
     "output_type": "stream",
     "text": [
      "이숭무\n",
      "이숭무\n",
      "None\n",
      "서울\n",
      "500\n",
      "500\n",
      "1000\n",
      "1400\n",
      "1000\n",
      "1400\n",
      "1000\n"
     ]
    }
   ],
   "source": [
    "dic1 = {'name': '이숭무', 'age': 30, 'height': 170.5}\n",
    "print(dic1['name'])\n",
    "print(dic1.get('name'))\n",
    "#print(dic1['addr']) # 키가 없으면 오류 발생\n",
    "print(dic1.get('addr')) # None\n",
    "print(dic1.get('addr' , '서울'))\n",
    "dic1 = {'classic':500, 'pop' : 700 , 'jazz' : 900}\n",
    "dic2 = {'classic':500, 'pop' : 700 }\n",
    "print(dic1['classic']) # 정수\n",
    "print(dic2['classic']) # 정수\n",
    "print(dic1['classic'] + dic2['classic'])  # 정수 + 정수 = 정수\n",
    "print(dic1['pop'] + dic2['pop'])\n",
    "#print(dic1['jazz'] + dic2['jazz'])\n",
    "print(dic1.get('classic') + dic2.get('classic'))\n",
    "print(dic1.get('pop') + dic2.get('pop'))\n",
    "# print(dic1.get('jazz') + dic2.get('jazz')) # 오류\n",
    "print(dic1.get('jazz') + dic2.get('jazz',100)) # 정수 + 0  = 정수"
   ]
  },
  {
   "cell_type": "code",
   "execution_count": 275,
   "id": "fff81767-e711-412b-b8ca-25591077ee29",
   "metadata": {},
   "outputs": [
    {
     "name": "stdout",
     "output_type": "stream",
     "text": [
      "{1, 2, 3, 4}\n",
      "{1, 2, 3, 4}\n",
      "{1, 2, 3, 4}\n",
      "{'e', 'o', 'l', 'h'}\n"
     ]
    }
   ],
   "source": [
    "# 정수, 실수 문자 리스트 튜플 \n",
    "# 딕셔너리 : {}, {키 :값,...}\n",
    "# 집합 자료형 : 합집합, 교집합, 차집합\n",
    "ss = {1,2,3,4,5} # 요소가 적어 하나이상 있어야 집합이다.\n",
    "ss = {1,1,2,2,3,3,4} # 중복데이터를 허용하지 않는다.\n",
    "print(ss)\n",
    "t1 = (1,2,3,4)\n",
    "ss = set(t1) #튜플을 집합자료형으로 변환\n",
    "print(ss)\n",
    "l1 = [1,2,3,4]\n",
    "ss = set(l1) # 리스트를 집합자료형으로 변환\n",
    "print(ss)\n",
    "str1 = \"hello\" # 중복을 허용하지 않고 순서가 없다.\n",
    "ss = set(str1) # 문자열을 집합자료형으로 변환\n",
    "print(ss)\n",
    "# int(),str(), list(), tuple(), set(), float()"
   ]
  },
  {
   "cell_type": "code",
   "execution_count": 280,
   "id": "32a50437-b9ec-4c40-bc0c-15e994b1c43b",
   "metadata": {},
   "outputs": [
    {
     "name": "stdout",
     "output_type": "stream",
     "text": [
      "{3, 4}\n",
      "{3, 4}\n",
      "{1, 2, 3, 4, 5, 6}\n",
      "{1, 2, 3, 4, 5, 6}\n",
      "{1, 2}\n",
      "{5, 6}\n",
      "{1, 2}\n"
     ]
    }
   ],
   "source": [
    "s1 = {1,2,3,4}\n",
    "s2 = {3,4,5,6}\n",
    "# 교집합\n",
    "print(s1 & s2)\n",
    "print(s1.intersection(s2))\n",
    "#합집합\n",
    "print(s1 | s2 )\n",
    "print(s1.union(s2))\n",
    "# 차집합\n",
    "print(s1 - s2)\n",
    "print(s2 - s1)\n",
    "print(s1.difference(s2))"
   ]
  },
  {
   "cell_type": "code",
   "execution_count": 289,
   "id": "fecef5d9-06b4-4220-9519-c55e4828ef5e",
   "metadata": {},
   "outputs": [
    {
     "name": "stdout",
     "output_type": "stream",
     "text": [
      "{1, 2, 3, 4, 7}\n",
      "{1, 2, 3, 4, 7}\n",
      "{1, 2, 3, 4, 7, 'a'}\n",
      "{1, 2, 3, 4, 7, 'a', 10, 11, 12}\n",
      "{1, 2, 3, 4, 7, 'a', 10, 11, 12, 20, 21, 22}\n",
      "{1, 2, 3, 4, 7, 10, 11, 12, 20, 21, 22}\n"
     ]
    }
   ],
   "source": [
    "# 하나의 요소 추가\n",
    "# add\n",
    "s1 = {1, 2, 3, 4}\n",
    "s1.add(7)\n",
    "print(s1)\n",
    "s1.add(3)\n",
    "print(s1)\n",
    "s1.add('a')\n",
    "print(s1)\n",
    "# s1.add(10,11,12) # 한번에 한개씩\n",
    "# 여러개의 데이터를 한번에\n",
    "# update\n",
    "s1.update((10,11,12))\n",
    "print(s1)\n",
    "s1.update([20,21,22])\n",
    "print(s1)\n",
    "# 삭제\n",
    "s1.remove('a') # 한번에 여러개는 지울 수 없다.\n",
    "print(s1)"
   ]
  },
  {
   "cell_type": "code",
   "execution_count": 292,
   "id": "28c12f66-38fb-493c-9b4b-ac1c0c420e3d",
   "metadata": {},
   "outputs": [
    {
     "name": "stdout",
     "output_type": "stream",
     "text": [
      "True\n",
      "False\n"
     ]
    }
   ],
   "source": [
    "# 기본자료형 : 정수, 실수, 문자, 부울 :  참/거짓 \n",
    "# 리스트, 튜플, ,딕셔너리, 집합 : 파이썬 자료형\n",
    "i = 10\n",
    "i = 100\n",
    "i = 2000\n",
    "str1 = \"이숭무\"\n",
    "str1 = \"apple\"\n",
    "bl = True\n",
    "print(bl)\n",
    "bl = False\n",
    "print(bl)\n",
    "# a = true  name 'true' is not defined , 변수로 인식\n",
    "a = \"ture\" #  문자\n",
    "a = \"True\" # 문자"
   ]
  },
  {
   "cell_type": "code",
   "execution_count": 296,
   "id": "c9318141-2a8e-4cca-94e7-a576caab3a80",
   "metadata": {},
   "outputs": [
    {
     "name": "stdout",
     "output_type": "stream",
     "text": [
      "True\n",
      "True\n",
      "True\n",
      "True\n",
      "합격\n"
     ]
    }
   ],
   "source": [
    "# 부울 타입을 사용하는 때\n",
    "# 논리연산\n",
    "print(True and True)\n",
    "print(True or False)\n",
    "# 부울타입을 연산하기 위해서는 연산결과가 부울타입이어야 한다/\n",
    "# 관계연산(비교연산)\n",
    "print(10 > 9) # 관계연산의 결과는 부울타입이다.\n",
    "# 논리연산하기 위해서 부울타입이어야 한다. 비교연산자가 부울타입의 결과를 가져오기 때문에\n",
    "# 논리연산을 하기 위해서는 비교연산과 같이 사용한다.\n",
    "mat = 40\n",
    "eng = 80\n",
    "# 합격하기 위해서는 모든과목이 40점이상이고 평균이 60이상이어야 한다.\n",
    "result = mat >= 40 and eng >= 40 and (eng+mat)/ 2 >= 60\n",
    "print(result)\n",
    "if result:\n",
    "    print(\"합격\")\n",
    "else:\n",
    "    print(\"불합격\")\n",
    "if mat >= 40 and eng >= 40 and (eng+mat)/ 2 >= 60: # 조건식\n",
    "    print(\"합격\")\n",
    "else:\n",
    "    print(\"불합격\")"
   ]
  },
  {
   "cell_type": "code",
   "execution_count": 307,
   "id": "901496e4-40ef-4308-aa9b-52976ab4c488",
   "metadata": {},
   "outputs": [
    {
     "name": "stdout",
     "output_type": "stream",
     "text": [
      "True\n",
      "False\n",
      "True\n",
      "False\n",
      "True\n",
      "False\n",
      "True\n",
      "False\n",
      "True\n",
      "False\n",
      "True\n",
      "False\n"
     ]
    }
   ],
   "source": [
    "#변환함수: int(), float(),str(),list(),tuple(),set(),bool():참/거짓\n",
    "print(bool('이숭무'))\n",
    "print(bool(''))\n",
    "print(bool(1))\n",
    "print(bool(0))\n",
    "print(bool(-1))\n",
    "print(bool([]))\n",
    "print(bool([1,2,3]))\n",
    "print(bool(()))\n",
    "print(bool((1,2,3)))\n",
    "print(bool({}))\n",
    "print(bool({1:1}))\n",
    "print(bool(None))"
   ]
  },
  {
   "cell_type": "code",
   "execution_count": 316,
   "id": "882a8ceb-23ab-4d13-bae6-59f00f2ea2be",
   "metadata": {},
   "outputs": [
    {
     "name": "stdout",
     "output_type": "stream",
     "text": [
      "<class 'int'>\n",
      "<class 'str'>\n",
      "<class 'float'>\n",
      "<class 'list'>\n",
      "<class 'tuple'>\n",
      "<class 'dict'>\n",
      "<class 'set'>\n",
      "<class 'bool'>\n"
     ]
    }
   ],
   "source": [
    "# 변수가 가지고 있는 자료형을 확인\n",
    "str1 = 'hello' # <class 'str'>\n",
    "i = 10 # <class 'int'>\n",
    "f = 10.5 # <class 'float'>\n",
    "l = [1,2,3,4] # <class 'list'>\n",
    "t = (1,2,3,4) # <class 'tuple'>\n",
    "dic = {1:'이'} # <class 'dict'>\n",
    "s = {1,2,3,4} # <class 'set'>\n",
    "b = True # <class 'bool'>\n",
    "print(type(i))\n",
    "print(type(str1))\n",
    "print(type(f))\n",
    "print(type(l))\n",
    "print(type(t))\n",
    "print(type(dic))\n",
    "print(type(s))\n",
    "print(type(b))"
   ]
  },
  {
   "cell_type": "code",
   "execution_count": 322,
   "id": "120e87ab-bf58-4fab-92da-693e59d2b36f",
   "metadata": {},
   "outputs": [
    {
     "name": "stdout",
     "output_type": "stream",
     "text": [
      "10 20 30\n",
      "10 20 30\n",
      "10 20 30\n",
      "10 20 30\n",
      "10 20 30\n",
      "10 20 30\n",
      "10 20 이숭무\n"
     ]
    }
   ],
   "source": [
    "#변수를 만드는 여러 가지 방법\n",
    "a = 10\n",
    "l = [1,2,3,4]\n",
    "a ,b ,c = 10, 20, 30\n",
    "print(a,b,c)\n",
    "a ,b ,c = (10, 20, 30)\n",
    "print(a,b,c)\n",
    "(a ,b ,c) = 10, 20, 30\n",
    "print(a,b,c)\n",
    "(a ,b ,c) = (10, 20, 30)\n",
    "print(a,b,c)\n",
    "[a ,b ,c] = [10, 20, 30]\n",
    "print(a,b,c)\n",
    "[a ,b ,c] = (10, 20, 30)\n",
    "print(a,b,c)\n",
    "a ,b ,c = 10, 20, '이숭무'\n",
    "print(a,b,c)\n",
    "# a ,b ,c = 10, 20"
   ]
  },
  {
   "cell_type": "code",
   "execution_count": 326,
   "id": "d3012a9e-cf91-4c37-a8bb-1cad71fc9e9a",
   "metadata": {},
   "outputs": [
    {
     "name": "stdout",
     "output_type": "stream",
     "text": [
      "10 20\n",
      "20 10\n",
      "10 20\n"
     ]
    }
   ],
   "source": [
    "# 값 서로 교환하기\n",
    "a = 10\n",
    "b = 20\n",
    "print(a, b)\n",
    "#a의 값을 b에 주고 b가 가지고 있는 값을 a에게\n",
    "temp = b\n",
    "b = a\n",
    "a = temp\n",
    "print(a, b)\n",
    "\n",
    "a , b = b , a\n",
    "print(a, b)"
   ]
  },
  {
   "cell_type": "code",
   "execution_count": 331,
   "id": "24f75234-6842-4864-9a4c-20e5614a25ec",
   "metadata": {},
   "outputs": [
    {
     "name": "stdout",
     "output_type": "stream",
     "text": [
      "10 10\n",
      "\n",
      "[1, 2, 3]\n",
      "[1, 2, 3]\n",
      "[1, 20, 3]\n",
      "[1, 20, 3]\n",
      "[1, 20, 3]\n",
      "[1, 20, 3]\n",
      "[1, 2, 3]\n",
      "[1, 20, 3]\n"
     ]
    }
   ],
   "source": [
    "i = 10\n",
    "j = i\n",
    "print(i , j)\n",
    "\n",
    "print()\n",
    "\n",
    "l = [1,2,3]\n",
    "l1 = l # X\n",
    "print(l)\n",
    "print(l1)\n",
    "l1[1]= 20\n",
    "print(l)\n",
    "print(l1)\n",
    "\n",
    "l1 = l[:] # 리스트를 대입할 경우에는 slicing을 해야 한다. \n",
    "print(l1)\n",
    "print(l)\n",
    "l1[1] = 2\n",
    "print(l1)\n",
    "print(l)"
   ]
  },
  {
   "cell_type": "code",
   "execution_count": 340,
   "id": "5e769de9-8464-4542-ab67-f5e0f1d23889",
   "metadata": {},
   "outputs": [
    {
     "name": "stdout",
     "output_type": "stream",
     "text": [
      "참\n",
      "거짓\n",
      "끝\n"
     ]
    }
   ],
   "source": [
    "# 제어문 : 조건문 : if, 반복문 : while, for\n",
    "# bool타입을 이용해서 원하는 결과를 가져오기 위한 작업: 비교연산, 논리연산 :조건식\n",
    "# 제어문을 사용하기 위해서는 참/거짓인 결과있어야 한다.\n",
    "# \":\"다음행은 들여쓰기 해야한다. \n",
    "# 들여쓰기를 하는 방법으로는 공백문자를 사용하거나 tab키를 이용한다.\n",
    "# 하지만 두가지를 같이 사용할 수 없다. 주로 tab키를 많이 사용한다.\n",
    "# 조건식은 부울타입의 결과가 와야 한다.\n",
    "if True:\n",
    "    print(\"참\")\n",
    "if False:\n",
    "    pass\n",
    "else:\n",
    "    print(\"거짓\")\n",
    "'''\n",
    "if  조건식: \n",
    "    명령어1\n",
    "    명령어2\n",
    "    ...\n",
    "    명령어n\n",
    "명령어 #  if문 밖에 있는 명령어 이므로  if문과 상관없이 실행이 된다.\n",
    "'''\n",
    "if False:\n",
    "    print(\"거짓\")\n",
    "print(\"끝\")"
   ]
  },
  {
   "cell_type": "code",
   "execution_count": 343,
   "id": "6019fc0f-b7a9-4de0-bbf4-ddc586e6de3a",
   "metadata": {},
   "outputs": [
    {
     "name": "stdout",
     "output_type": "stream",
     "text": [
      "차를 탁고 가시오\n"
     ]
    }
   ],
   "source": [
    "money = False\n",
    "if money:\n",
    "    print(\"차를 탁고 가시오\")\n",
    "else:\n",
    "    print(\"걸어가시오\")"
   ]
  },
  {
   "cell_type": "code",
   "execution_count": 350,
   "id": "25b1027e-7215-41c5-a526-a038f35d46bf",
   "metadata": {},
   "outputs": [
    {
     "name": "stdout",
     "output_type": "stream",
     "text": [
      "끝\n",
      "a는 20보다 작습니다.\n",
      "실행 끝\n"
     ]
    }
   ],
   "source": [
    "#  단일 if\n",
    "a = 10\n",
    "if a > 20: # False\n",
    "    print(\"a는 20보다 크다\")\n",
    "\n",
    "    print(\"if문안에 있는 명령어\")\n",
    "print(\"끝\")\n",
    "if a < 20: #True\n",
    "    print(\"a는 20보다 작습니다.\")\n",
    "print(\"실행 끝\")"
   ]
  },
  {
   "cell_type": "code",
   "execution_count": null,
   "id": "f5eb66e3-0fce-411b-9e0c-a53849a11c71",
   "metadata": {},
   "outputs": [],
   "source": []
  },
  {
   "cell_type": "code",
   "execution_count": null,
   "id": "b9080eaf-b2d7-40a6-aefc-5c2060c22ab9",
   "metadata": {},
   "outputs": [],
   "source": []
  },
  {
   "cell_type": "code",
   "execution_count": null,
   "id": "62681e17-feb8-46eb-a04b-6fc82cf2a3a0",
   "metadata": {},
   "outputs": [],
   "source": []
  },
  {
   "cell_type": "code",
   "execution_count": null,
   "id": "06c4487d-8fe5-49f3-be58-0a334569318f",
   "metadata": {},
   "outputs": [],
   "source": []
  }
 ],
 "metadata": {
  "kernelspec": {
   "display_name": "Python 3 (ipykernel)",
   "language": "python",
   "name": "python3"
  },
  "language_info": {
   "codemirror_mode": {
    "name": "ipython",
    "version": 3
   },
   "file_extension": ".py",
   "mimetype": "text/x-python",
   "name": "python",
   "nbconvert_exporter": "python",
   "pygments_lexer": "ipython3",
   "version": "3.12.0"
  }
 },
 "nbformat": 4,
 "nbformat_minor": 5
}
