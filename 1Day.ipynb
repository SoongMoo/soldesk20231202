{
 "cells": [
  {
   "cell_type": "code",
   "execution_count": 10,
   "id": "633af572-5d7f-49bb-a81f-7374cc1f8399",
   "metadata": {},
   "outputs": [
    {
     "name": "stdout",
     "output_type": "stream",
     "text": [
      "8\n"
     ]
    }
   ],
   "source": [
    "print(3 + 5)"
   ]
  },
  {
   "cell_type": "code",
   "execution_count": 12,
   "id": "9dc5f50d-d476-4933-9813-aeb88f527390",
   "metadata": {},
   "outputs": [
    {
     "name": "stdout",
     "output_type": "stream",
     "text": [
      "8\n",
      "60\n"
     ]
    }
   ],
   "source": [
    "# 행단위\n",
    "print(3 + 5)\n",
    "print(10 * 6)"
   ]
  },
  {
   "cell_type": "code",
   "execution_count": 13,
   "id": "724fab5b-f815-4786-b786-6f2c75607b94",
   "metadata": {},
   "outputs": [
    {
     "name": "stdout",
     "output_type": "stream",
     "text": [
      "8\n",
      "60\n",
      "3.3333333333333335\n"
     ]
    }
   ],
   "source": [
    "print(3 + 5); print(10 * 6); print(10 /3)"
   ]
  },
  {
   "cell_type": "code",
   "execution_count": 15,
   "id": "31838e47-a193-477c-83fa-da0e9722ee2f",
   "metadata": {},
   "outputs": [
    {
     "name": "stdout",
     "output_type": "stream",
     "text": [
      "끝\n"
     ]
    }
   ],
   "source": [
    "i = 10 \n",
    "if i > 20:\n",
    "    print(3 + 5)\n",
    "print(\"끝\")"
   ]
  },
  {
   "cell_type": "code",
   "execution_count": 3,
   "id": "15f4b91d-5361-42cf-a7fc-9ced68e92dec",
   "metadata": {},
   "outputs": [
    {
     "name": "stdout",
     "output_type": "stream",
     "text": [
      "8\n",
      "8\n",
      "13.5\n",
      "26.0\n"
     ]
    }
   ],
   "source": [
    "# 파이썬 기본 자료형\n",
    "# 리터널 : 자연어 : 숫자 : 정수  : 10, 2 ,6\n",
    "#                          실수 : 10.5, 25.5\n",
    "#                  문자 : 한국어 , 영어 , 일어, ...\n",
    "print(3 + 5)\n",
    "i = 3   # 정수리터널 변수\n",
    "j = 5\n",
    "f = 10.5 # 실수리터널 변수\n",
    "print(i + j)\n",
    "print(i + f)\n",
    "i = 15.5 # 실수리터널 변수\n",
    "print(i + f)"
   ]
  },
  {
   "cell_type": "code",
   "execution_count": 6,
   "id": "641dd6da-21b6-40d0-972f-3d79c641a823",
   "metadata": {},
   "outputs": [
    {
     "name": "stdout",
     "output_type": "stream",
     "text": [
      "20.5\n",
      "10.5\n",
      "77.5\n",
      "3.1\n",
      "1\n",
      "3\n",
      "100\n",
      "1000\n"
     ]
    }
   ],
   "source": [
    "# 숫자연산자 \n",
    "print( i + j)\n",
    "print( i - j)\n",
    "print( i * j)\n",
    "print( i / j)\n",
    "print( 10 % 3) # %: 나머지 연산자\n",
    "a  = 10 // 3\n",
    "print(a)\n",
    "a = 10 ** 2\n",
    "print(a)\n",
    "a = 10 ** 3\n",
    "print(a)\n",
    "\n",
    "# 숫자 연산자 : +, - , *, / , %, //, **"
   ]
  },
  {
   "cell_type": "code",
   "execution_count": 12,
   "id": "c3d064a4-5adc-4a8f-92ea-0d3e1bd5d3d4",
   "metadata": {},
   "outputs": [
    {
     "name": "stdout",
     "output_type": "stream",
     "text": [
      "10\n",
      "100\n",
      "이숭무\n",
      "이숭무\n"
     ]
    }
   ],
   "source": [
    "# 문자 리터널 : \"김\", \"이\", '박' , '이숭무', 'apple', 'hello' : 김찬중 , \"김찬중\"\n",
    "i = 10 # 10:정수리터널 , i : 정수리터널 변수\n",
    "a  = i\n",
    "# 변수 = 리터널 : 변수에 리터널을 대입한다.\n",
    "print(a)\n",
    "이숭무 = 100\n",
    "print(이숭무)\n",
    "str1  = \"이숭무\" # \"이숭무\" :문자리터널 , str1 : 문자리터널 변수\n",
    "print(str1)\n",
    "i = 10\n",
    "f = 10.5\n",
    "str1 = '이숭무'\n",
    "print(str1)"
   ]
  },
  {
   "cell_type": "code",
   "execution_count": 15,
   "id": "586d343c-397d-4ee6-bb94-d970d08bf421",
   "metadata": {},
   "outputs": [
    {
     "name": "stdout",
     "output_type": "stream",
     "text": [
      "20\n"
     ]
    }
   ],
   "source": [
    "i = 10 # 정수리터널\n",
    "str1 = \"10\" #  문자리터널\n",
    "print( 10 + 10 )\n",
    "#print( 10 + \"10\" )"
   ]
  },
  {
   "cell_type": "code",
   "execution_count": 19,
   "id": "0c5e406b-611c-45a4-83ae-3bf993c39ed5",
   "metadata": {},
   "outputs": [
    {
     "name": "stdout",
     "output_type": "stream",
     "text": [
      "20\n",
      "1010\n",
      "이숭무이숭무이숭무\n",
      "==========================================================================================\n",
      "파이썬 문자 연산자 공부\n",
      "==========================================================================================\n"
     ]
    }
   ],
   "source": [
    "# 문자리터널 연산자\n",
    "print( 10 + 10)\n",
    "print(\"10\" + \"10\") # 연결 연산자\n",
    "print(\"이숭무\" * 3) # 반복 연산자\n",
    "print(\"===\" * 30)\n",
    "print(\"파이썬 문자 연산자 공부\")\n",
    "print(\"===\" * 30)"
   ]
  },
  {
   "cell_type": "code",
   "execution_count": 30,
   "id": "fb9e6076-d3b8-413f-805b-743b33e6c3b3",
   "metadata": {},
   "outputs": [
    {
     "name": "stdout",
     "output_type": "stream",
     "text": [
      "Life is too short, You need python\n",
      "Life's too short, You need python\n",
      "Life is too short, \"You need python\"\n",
      "Life's too short, \"You need python\"\n",
      "Life's too short, \"You need python\"\n",
      "\tLife's too short, \n",
      "You need python\n"
     ]
    }
   ],
   "source": [
    "str1 = \"Life is too short, You need python\"\n",
    "print(str1)\n",
    "str1 = \"Life's too short, You need python\"\n",
    "print(str1)\n",
    "str1 = 'Life is too short, \"You need python\"'\n",
    "print(str1) \n",
    "str1 = 'Life\\'s too short, \"You need python\"'\n",
    "print(str1)\n",
    "str1 = \"Life's too short, \\\"You need python\\\"\"\n",
    "print(str1)\n",
    "\n",
    "str1 = \"\\tLife's too short, \\nYou need python\"\n",
    "print(str1)"
   ]
  },
  {
   "cell_type": "code",
   "execution_count": 31,
   "id": "431fcc6f-c7db-4522-a9f0-37dd119091a1",
   "metadata": {},
   "outputs": [
    {
     "name": "stdout",
     "output_type": "stream",
     "text": [
      "Life's too short, \n",
      "You need python\n"
     ]
    }
   ],
   "source": [
    "str1 = \"\"\"Life's too short, \n",
    "You need python\"\"\"\n",
    "print(str1)"
   ]
  },
  {
   "cell_type": "code",
   "execution_count": 32,
   "id": "e15afeae-d351-4a76-9013-42771bd103b5",
   "metadata": {},
   "outputs": [
    {
     "name": "stdout",
     "output_type": "stream",
     "text": [
      "Life's too short, \n",
      "You need python\n"
     ]
    }
   ],
   "source": [
    "str1 = '''Life's too short, \n",
    "You need python'''\n",
    "print(str1)"
   ]
  },
  {
   "cell_type": "code",
   "execution_count": 36,
   "id": "0d611e75-8616-47a9-9a86-bd0cb9ef1d82",
   "metadata": {},
   "outputs": [
    {
     "name": "stdout",
     "output_type": "stream",
     "text": [
      "Life is too short, You need python\n",
      "34\n",
      "34\n"
     ]
    }
   ],
   "source": [
    "str1 = \"Life is too short, You need python\"\n",
    "print(str1)\n",
    "print(len(str1))\n",
    "print(len(\"Life is too short, You need python\"))"
   ]
  },
  {
   "cell_type": "code",
   "execution_count": 46,
   "id": "cebd0ca9-648f-4e10-872d-bc7f6b313728",
   "metadata": {},
   "outputs": [
    {
     "name": "stdout",
     "output_type": "stream",
     "text": [
      "i\n",
      "숭\n",
      " \n",
      "n\n",
      "n\n",
      " \n",
      "n\n",
      "n\n",
      "L\n",
      "L\n",
      "L\n",
      "L\n",
      "L\n"
     ]
    }
   ],
   "source": [
    "# indexing\n",
    "str1 = \"Life is too short, You need python\" # 34\n",
    "#                 1         2         3\n",
    "#       0123456789012345678901234567890123 # index : 문자에 매겨지는 고유의 번호 : 0부터 시작해서 1씩 증가하는 값\n",
    "#           3         2         1\n",
    "#      -4321098765432109876543210987654321 - # index\n",
    "a = \"이숭무\" \n",
    "#    0 1 2\n",
    "print(str1[1])\n",
    "print(a[1])\n",
    "print(str1[4])\n",
    "print(str1[33])\n",
    "print(str1[len(str1) -1])\n",
    "print(\"Life is too short, You need python\"[4])\n",
    "print(str1[33])\n",
    "print(str1[-1])\n",
    "print(str1[0])\n",
    "print(str1[-34])\n",
    "print(str1[-len(str1)])\n",
    "print(str1[0])\n",
    "print(str1[-0])"
   ]
  },
  {
   "cell_type": "code",
   "execution_count": 53,
   "id": "692dc9ad-4e59-4bbe-b5ba-b43f955a2f94",
   "metadata": {},
   "outputs": [
    {
     "name": "stdout",
     "output_type": "stream",
     "text": [
      "Life is too short\n",
      "L\n",
      "i\n",
      "f\n",
      "e\n",
      "Life\n",
      "Life\n",
      "Lif\n",
      "Life\n",
      "too\n",
      "too\n",
      "e is \n"
     ]
    }
   ],
   "source": [
    "str1 = \"Life is too short\"\n",
    "#                 1\n",
    "#       01234567890123456\n",
    "print(str1)\n",
    "# Life\n",
    "print(str1[0])\n",
    "print(str1[1])\n",
    "print(str1[2])\n",
    "print(str1[3])\n",
    "print(str1[0] + str1[1] + str1[2] + str1[3])\n",
    "# slicing\n",
    "print(str1[0 : 0 + 4]) #0부터 4글자\n",
    "print(str1[0 : 3])\n",
    "print(str1[0 : 4]) # 0부터 4전까지 : start = 0 , stop = 4\n",
    "print(str1[8 : 11])\n",
    "print(str1[8 : 8 + 3])\n",
    "# index가 3번부터 5글자를 출력\n",
    "idx = 3\n",
    "cnt = 5\n",
    "print(str1[idx : idx + cnt]) "
   ]
  },
  {
   "cell_type": "code",
   "execution_count": 60,
   "id": "c81595af-35cb-4188-8980-e8503c34b968",
   "metadata": {},
   "outputs": [
    {
     "name": "stdout",
     "output_type": "stream",
     "text": [
      "too\n",
      "too\n",
      "too\n",
      "too\n",
      "too\n",
      "too\n"
     ]
    }
   ],
   "source": [
    "str1 = \"Life is too short\"\n",
    "#                 1\n",
    "#       01234567890123456\n",
    "#              1\n",
    "#      -76543210987654321\n",
    "print(str1[8: 11])\n",
    "print(str1[8: 8 + 3])\n",
    "print(str1[-9: 11])\n",
    "print(str1[8: -6])\n",
    "print(str1[-9: -6])\n",
    "print(str1[-9 : -9 + 3])"
   ]
  },
  {
   "cell_type": "code",
   "execution_count": 73,
   "id": "2f329512-fa02-43a7-8f73-576b4932e8ce",
   "metadata": {},
   "outputs": [
    {
     "name": "stdout",
     "output_type": "stream",
     "text": [
      "20010331\n",
      "Rainy\n",
      "20010331\n",
      "Rainy\n",
      "Life is too short\n",
      "is too short\n",
      "Life \n",
      "Life is too short\n",
      "20010331\n",
      "2001\n",
      "03\n",
      "31\n"
     ]
    }
   ],
   "source": [
    "a = \"20010331Rainy\"\n",
    "##### 날짜(년월일)와 이름을 분리하여 출력\n",
    "print(a[0:0+8])\n",
    "print(a[8:8+5])\n",
    "print(a[:0+8]) # 0은 생략이 가능하다.\n",
    "print(a[8:]) #  index가 마지막 번호인 경우 생략 가능\n",
    "print(str1)\n",
    "print(str1[5:])\n",
    "print(str1[:5])\n",
    "print(str1[:])\n",
    "# 년 , 월 , 일\n",
    "print(a[0:0+8])\n",
    "print(a[:4])\n",
    "print(a[4:4+2])\n",
    "print(a[6:6+2])"
   ]
  },
  {
   "cell_type": "code",
   "execution_count": 80,
   "id": "6edce8ae-03c5-47e8-8ffb-78a9bbf0df8c",
   "metadata": {},
   "outputs": [
    {
     "name": "stdout",
     "output_type": "stream",
     "text": [
      "Life is too short\n",
      "Lf stosot\n",
      "trohs oot si efiL\n",
      "f stos\n",
      "\n",
      "hs oot si ef\n"
     ]
    }
   ],
   "source": [
    "print(str1)\n",
    "print(str1[::2])\n",
    "print(str1[::-1])\n",
    "# 2번부터 13번까지 하나 건너서 출력\n",
    "print(str1[2:14:2])\n",
    "print(str1[2:14:-1]) # (x)\n",
    "print(str1[13:1:-1]) # 13부터 2번까지"
   ]
  },
  {
   "cell_type": "code",
   "execution_count": 88,
   "id": "bf1c3559-f940-4636-9b23-cb7f1690965d",
   "metadata": {},
   "outputs": [
    {
     "name": "stdout",
     "output_type": "stream",
     "text": [
      "i\n",
      "10\n",
      "20\n",
      "i\n",
      "Python\n"
     ]
    }
   ],
   "source": [
    "a = \"Pithon\"\n",
    "#    012345\n",
    "print(a[1])\n",
    "j = 10\n",
    "print(j)\n",
    "j = 20\n",
    "print(j)\n",
    "print(a[1])\n",
    "# a[1] = 'y' 문자열에 있는 문자는 변경할 수 없다.\n",
    "print(a[0] + 'y' + a[2:])"
   ]
  },
  {
   "cell_type": "code",
   "execution_count": 92,
   "id": "9b19d516-d385-4f4d-b3c9-b5e03bbe8b5b",
   "metadata": {},
   "outputs": [
    {
     "name": "stdout",
     "output_type": "stream",
     "text": [
      "현재 온도는 18도입니다.\n",
      "현재 온도는 20도입니다.\n",
      "현재 온도는 15도입니다.\n"
     ]
    }
   ],
   "source": [
    "# 문자열 포매팅이란?\n",
    "print(\"현재 온도는 18도입니다.\")\n",
    "print(\"현재 온도는 20도입니다.\")\n",
    "print(\"현재 온도는 15도입니다.\")"
   ]
  },
  {
   "cell_type": "code",
   "execution_count": 102,
   "id": "8d8cc7f6-8fa2-4ef2-8148-aae042f16926",
   "metadata": {},
   "outputs": [
    {
     "name": "stdout",
     "output_type": "stream",
     "text": [
      "현재 온도는 20도입니다.\n",
      "I eat 3 apples.\n",
      "I eat five apples.\n",
      "I eat 0.500000 apples.\n"
     ]
    }
   ],
   "source": [
    "a = 20\n",
    "print(\"현재 온도는 %d도입니다.\" % a)\n",
    "b = 3\n",
    "print('I eat %d apples.' % b)\n",
    "\n",
    "print('I eat %s apples.' % 'five')\n",
    "## %s : string, %d : decimal, %f : float , %c : character : 포맷문자열\n",
    "print('I eat %f apples.' % 0.5)"
   ]
  },
  {
   "cell_type": "code",
   "execution_count": 105,
   "id": "0c3fa9d6-d2c7-454a-aa7b-7d1f95f15a75",
   "metadata": {},
   "outputs": [
    {
     "name": "stdout",
     "output_type": "stream",
     "text": [
      "나의 이름은 이숭무이고 나이는 30살입니다.\n",
      "I eat 0.500000 apples.\n"
     ]
    }
   ],
   "source": [
    "'나의 이름은 이숭무이고 나이는 20살입니다.'\n",
    "name = '이숭무'\n",
    "age  = 30\n",
    "print('나의 이름은 %s이고 나이는 %d살입니다.' % (name, age))\n",
    "print('I eat %f apples.' % (0.5))"
   ]
  },
  {
   "cell_type": "code",
   "execution_count": 107,
   "id": "4a909911-63b7-46b7-b32b-71eef2da513f",
   "metadata": {},
   "outputs": [
    {
     "name": "stdout",
     "output_type": "stream",
     "text": [
      "이숭무의 계좌번호는 1111이고 잔액은 100입니다.\n",
      "이숭무의 계좌번호는 1111이고 잔액은 100입니다.\n"
     ]
    }
   ],
   "source": [
    "'이숭무의 계좌번호는 1111이고 잔액은 100입니다.'\n",
    "name = '이숭무'\n",
    "account = '1111'\n",
    "money = 100\n",
    "print('%s의 계좌번호는 %s이고 잔액은 %d입니다.' % (name, account, money))\n",
    "result = '%s의 계좌번호는 %s이고 잔액은 %d입니다.' % (name, account, money)\n",
    "print(result)"
   ]
  },
  {
   "cell_type": "code",
   "execution_count": 122,
   "id": "dc0edd89-7a53-4281-9f26-d34760b03bc5",
   "metadata": {},
   "outputs": [
    {
     "name": "stdout",
     "output_type": "stream",
     "text": [
      "이숭무의 나이는 20살이고 키는 172.500000입니다\n",
      "이숭무의 나이는 20살이고 키는 172.5입니다\n",
      "이숭무의 나이는 20살이고 키는 172.5입니다\n",
      "이숭무의 나이는 20살이고 키는 172.5000000000입니다\n",
      "이숭무의 나이는 20살이고 키는 172.5입니다\n",
      "이숭무의 나이는 20살이고 키는 172.5입니다\n",
      "우리반의 취업률은 98%입니다.\n"
     ]
    }
   ],
   "source": [
    "\"이숭무의 나이는 20살이고 키는 175.3입니다\"\n",
    "name = '이숭무'\n",
    "age = 20\n",
    "height = 172.5\n",
    "result = \"%s의 나이는 %d살이고 키는 %f입니다\" % (name, age, height)\n",
    "print(result)\n",
    "result = \"%s의 나이는 %d살이고 키는 %5.1f입니다\" % (name, age, height)\n",
    "print(result)\n",
    "result = \"%s의 나이는 %d살이고 키는 %4.1f입니다\" % (name, age, height)\n",
    "print(result)\n",
    "result = \"%s의 나이는 %d살이고 키는 %4.10f입니다\" % (name, age, height)\n",
    "print(result)\n",
    "result = \"%s의 나이는 %d살이고 키는 %.1f입니다\" % (name, age, height)\n",
    "print(result)\n",
    "result = \"%s의 나이는 %s살이고 키는 %s입니다\" % (name, age, height)\n",
    "print(result)\n",
    "#result = \"우리반의 취업률은 %s%입니다.\" % 98 # 오류 발생\n",
    "result = \"우리반의 취업률은 %s%%입니다.\" % 98\n",
    "print(result)"
   ]
  },
  {
   "cell_type": "code",
   "execution_count": 125,
   "id": "b88f21a5-15c6-4eb8-82da-315bdc532e3b",
   "metadata": {},
   "outputs": [
    {
     "name": "stdout",
     "output_type": "stream",
     "text": [
      "       이숭무의 나이는         20살이고 키는      172.5입니다\n",
      "이숭무       의 나이는 20        살이고 키는 172.5     입니다\n"
     ]
    }
   ],
   "source": [
    "#정렬과 공백 : -는 왼쪽정렬 , +는 오른쪽 정렬\n",
    "result = \"%10s의 나이는 %10d살이고 키는 %10.1f입니다\" % (name, age, height)\n",
    "print(result)\n",
    "result = \"%-10s의 나이는 %-10d살이고 키는 %-10.1f입니다\" % (name, age, height)\n",
    "print(result)"
   ]
  },
  {
   "cell_type": "code",
   "execution_count": 142,
   "id": "911926d0-9c5d-455b-874b-08d2add0abab",
   "metadata": {},
   "outputs": [
    {
     "ename": "SyntaxError",
     "evalue": "positional argument follows keyword argument (105341483.py, line 22)",
     "output_type": "error",
     "traceback": [
      "\u001b[1;36m  Cell \u001b[1;32mIn[142], line 22\u001b[1;36m\u001b[0m\n\u001b[1;33m    print('{1}의 나이는 {0}살이고 {1}의 키는 {h}입니다'.format(a = age, name, h = height))\u001b[0m\n\u001b[1;37m                                                                           ^\u001b[0m\n\u001b[1;31mSyntaxError\u001b[0m\u001b[1;31m:\u001b[0m positional argument follows keyword argument\n"
     ]
    }
   ],
   "source": [
    "#format 함수를 사용한 포매팅\n",
    "# 변수: , age, height\n",
    "# 함수 :  len() ,print(), format()\n",
    "name = '이숭무'\n",
    "age = 30\n",
    "height = 175.5\n",
    "result = \"%s의 나이는 %d살이고 키는 %.1f입니다\" % (name, age, height)\n",
    "print(result)\n",
    "print(\"{0}의 나이는 {1}살이고 키는 {2}입니다\".format(name, age, height))\n",
    "#                                                  0     1     2\n",
    "'이숭무의 나이는 20살이고 이숭무의 키는 173.5입니다'\n",
    "print('%s의 나이는 %d살이고 %s의 키는 %f입니다' % (name, age, name, height))\n",
    "print('{0}의 나이는 {1}살이고 {0}의 키는 {2}입니다'.format(name, age, height))\n",
    "print('{1}의 나이는 {0}살이고 {1}의 키는 {2}입니다'.format(age, name, height))\n",
    "print('{1}의 나이는 {0}살이고 {1}의 키는 {2}입니다'.format(age, name, 175.5))\n",
    "#print('{1}의 나이는 {0}살이고 {1}의 키는 {2}입니다'.format(age, name, h = 175.5))\n",
    "print('{1}의 나이는 {0}살이고 {1}의 키는 {h}입니다'.format(age, name, h = 175.5))\n",
    "print('{1}의 나이는 {0}살이고 {1}의 키는 {h}입니다'.format(age, name, h = height))\n",
    "#print('{n}의 나이는 {0}살이고 {n}의 키는 {2}입니다'.format(age, n = name, 175.5)) # 중간에 이름을 부여해주면 오류발생\n",
    "#                                                         0    \n",
    "print('{n}의 나이는 {0}살이고 {n}의 키는 {h}입니다'.format(age, n = name, h = 175.5)) # 이름은 뒤에서부터 앞으로\n",
    "# print('{1}의 나이는 {0}살이고 {1}의 키는 {h}입니다'.format(a = age, name, h = height)) 중간에 건너띄어도 오류"
   ]
  },
  {
   "cell_type": "code",
   "execution_count": 159,
   "id": "9e01f351-8451-42f0-bd6c-3beb77e259bb",
   "metadata": {},
   "outputs": [
    {
     "name": "stdout",
     "output_type": "stream",
     "text": [
      "이숭무의 나이는 30살이고 키는 175.5입니다\n",
      "       이숭무의 나이는         30살이고 키는      175.5입니다\n",
      "이숭무       의 나이는 30        살이고 키는 175.5     입니다\n",
      "이숭무의 나이는 30살이고 키는 175.5입니다\n",
      "이숭무       의 나이는         30살이고 키는      175.5입니다\n",
      "이숭무       의 나이는 30        살이고 키는 175.5     입니다\n",
      "       이숭무의 나이는         30살이고 키는      175.5입니다\n",
      "   이숭무    의 나이는     30    살이고 키는   175.5   입니다\n",
      "---이숭무----의 나이는 !!!!30!!!!살이고 키는 **175.5***입니다\n",
      "---이숭무----의 나이는 !!!!30!!!!살이고 키는 **175.50**입니다\n",
      "{이숭무}의 나이는 30살이고 키는 175.5입니다\n",
      "{0}의 나이는 30살이고 키는 175.5입니다\n"
     ]
    }
   ],
   "source": [
    "#format함수를 이용한 정렬\n",
    "'이숭무의 나이는 20살이고 키는 173.5입니다'\n",
    "name = '이숭무'\n",
    "age = 30\n",
    "height = 175.5\n",
    "print('%s의 나이는 %d살이고 키는 %.1f입니다' % (name, age, height))\n",
    "print('%10s의 나이는 %10d살이고 키는 %10.1f입니다' % (name, age, height))\n",
    "print('%-10s의 나이는 %-10d살이고 키는 %-10.1f입니다' % (name, age, height))\n",
    "print('{0}의 나이는 {1}살이고 키는 {2}입니다'.format(name, age, height))\n",
    "print('{0:10}의 나이는 {1:10}살이고 키는 {2:10}입니다'.format(name, age, height))\n",
    "print('{0:<10}의 나이는 {1:<10}살이고 키는 {2:<10}입니다'.format(name, age, height))\n",
    "print('{0:>10}의 나이는 {1:>10}살이고 키는 {2:>10}입니다'.format(name, age, height))\n",
    "print('{0:^10}의 나이는 {1:^10}살이고 키는 {2:^10}입니다'.format(name, age, height))\n",
    "print('{0:-^10}의 나이는 {1:!^10}살이고 키는 {2:*^10}입니다'.format(name, age, height))\n",
    "print('{0:-^10}의 나이는 {1:!^10}살이고 키는 {2:*^10.2f}입니다'.format(name, age, height))\n",
    "# { 이숭무 }의 나이는         30살이고 키는      173.5입니다\n",
    "print('{{이숭무}}의 나이는 {1}살이고 키는 {2}입니다'.format(name, age, height))\n",
    "print('{{0}}의 나이는 {1}살이고 키는 {2}입니다'.format(name, age, height)) # {{}}는 문자취급, index가 올 수 없다."
   ]
  },
  {
   "cell_type": "code",
   "execution_count": 168,
   "id": "90e53886-50fd-4d4b-b46a-540b825805da",
   "metadata": {},
   "outputs": [
    {
     "name": "stdout",
     "output_type": "stream",
     "text": [
      "이숭무의 나이는 30살이고 키는 175.5입니다\n",
      "이숭무의 나이는 30살이고 키는 175.5입니다\n",
      "이숭무의 나이는 30살이고 키는 175.5입니다\n",
      "이숭무       의 나이는         30살이고 키는      175.5입니다\n",
      "이숭무       의 나이는         30살이고 키는   175.5   입니다\n",
      "이숭무!!!!!!!의 나이는 ********30살이고 키는 --175.5---입니다\n",
      " 9 * 3 = 27\n",
      " 9 * 3 = 27\n"
     ]
    }
   ],
   "source": [
    "#f 문자열 포매팅\n",
    "name = '이숭무'\n",
    "age = 30\n",
    "height = 175.5\n",
    "print('%s의 나이는 %d살이고 키는 %.1f입니다' % (name, age, height))\n",
    "print('{0}의 나이는 {1}살이고 키는 {2}입니다'.format(name, age, height))\n",
    "print(f'{name}의 나이는 {age}살이고 키는 {height}입니다')\n",
    "print(f'{name:10}의 나이는 {age:10}살이고 키는 {height:10}입니다')\n",
    "print(f'{name:<10}의 나이는 {age:>10}살이고 키는 {height:^10}입니다')\n",
    "print(f'{name:!<10}의 나이는 {age:*>10}살이고 키는 {height:-^10}입니다')\n",
    "# 9 * 3 = 27\n",
    "dan = 9\n",
    "print(f\" 9 * 3 = {9 * 3}\")\n",
    "print(f\" {dan} * 3 = {dan * 3}\")"
   ]
  },
  {
   "cell_type": "code",
   "execution_count": 179,
   "id": "e9e45f99-aa5b-46d4-8c09-9951cd35f8e6",
   "metadata": {},
   "outputs": [
    {
     "name": "stdout",
     "output_type": "stream",
     "text": [
      "hobby\n",
      "5\n",
      "5\n",
      "2\n",
      "2\n",
      "3\n"
     ]
    }
   ],
   "source": [
    "# 문자열 관련 함수들 :  문자열 가공\n",
    "a = \"hobby\"\n",
    "print(a)\n",
    "# 문자열의 길이\n",
    "print(len(a))\n",
    "print(len(\"hobby\"))\n",
    "# 특정문자의 갯수\n",
    "print(a.count('b'))\n",
    "print(\"hobby\".count('b'))\n",
    "str2 = \"Life is too short\"\n",
    "print(str2.count('o'))"
   ]
  },
  {
   "cell_type": "code",
   "execution_count": 187,
   "id": "a50a6360-3f08-4258-92e7-812f29df2617",
   "metadata": {},
   "outputs": [
    {
     "name": "stdout",
     "output_type": "stream",
     "text": [
      "too\n",
      "8\n",
      "too\n",
      "too\n",
      "8\n",
      "1\n",
      "5\n"
     ]
    }
   ],
   "source": [
    "str2 = \"Life is too short\"\n",
    "#                 1\n",
    "#       01234567890123456\n",
    "#too 출력하세요\n",
    "print(str2[8: 8 +3])\n",
    "print(str1.index('too'))\n",
    "print(str2[str1.index('too'): str1.index('too') + 3])\n",
    "idx = str1.index('too')\n",
    "print(str2[idx: idx +3])\n",
    "idx = str1.index('t')\n",
    "print(idx)\n",
    "idx = str1.index('i')\n",
    "print(idx)\n",
    "idx = str1.index('i', 2) # index2번부터\n",
    "print(idx)\n",
    "idx = str1.index('i', str1.index('i') + 1) # index2번부터\n",
    "print(idx)\n",
    "idx = str1.index('t', 9) # index9번부터\n",
    "print(idx)\n",
    "idx = str1.index('t', str1.index('t') + 1) # index9번부터\n",
    "print(idx)"
   ]
  },
  {
   "cell_type": "code",
   "execution_count": 194,
   "id": "a42f3422-ace7-4185-98b2-d765159f4e6c",
   "metadata": {},
   "outputs": [
    {
     "name": "stdout",
     "output_type": "stream",
     "text": [
      "4\n",
      "16\n",
      "t, Y\n",
      "30\n",
      "thon\n"
     ]
    }
   ],
   "source": [
    "str1 = 'Lite is too short, You need python'\n",
    "print(str1.count('t'))\n",
    "# 세번째 t에서 4글자출력\n",
    "idx = str1.index('t', str1.index('t', str1.index('t') + 1) + 1)\n",
    "print(idx)\n",
    "print(str1[idx:idx + 4])\n",
    "idx = str1.rindex('t')\n",
    "print(idx)\n",
    "print(str1[idx:idx+4])"
   ]
  },
  {
   "cell_type": "code",
   "execution_count": 198,
   "id": "e3d6dfaf-3d81-482c-afbb-a1c81ac9516f",
   "metadata": {},
   "outputs": [
    {
     "name": "stdout",
     "output_type": "stream",
     "text": [
      "too\n",
      "8\n",
      "16\n",
      "30\n",
      "thon\n"
     ]
    }
   ],
   "source": [
    "str1 = 'Lite is too short, You need python'\n",
    "idx = str1.index('too')\n",
    "print(str1[idx:idx+3])\n",
    "idx = str1.find('too')\n",
    "print(idx)\n",
    "idx = str1.find('t', str1.find('t', str1.find('t') + 1) + 1)\n",
    "print(idx)\n",
    "idx = str1.rfind('t')\n",
    "print(idx)\n",
    "print(str1[idx:idx+4])"
   ]
  },
  {
   "cell_type": "code",
   "execution_count": 200,
   "id": "3f40245b-159e-4edc-904e-b118ad2a0f59",
   "metadata": {},
   "outputs": [
    {
     "name": "stdout",
     "output_type": "stream",
     "text": [
      "-1\n"
     ]
    },
    {
     "ename": "ValueError",
     "evalue": "substring not found",
     "output_type": "error",
     "traceback": [
      "\u001b[1;31m---------------------------------------------------------------------------\u001b[0m",
      "\u001b[1;31mValueError\u001b[0m                                Traceback (most recent call last)",
      "Cell \u001b[1;32mIn[200], line 2\u001b[0m\n\u001b[0;32m      1\u001b[0m \u001b[38;5;28mprint\u001b[39m(str1\u001b[38;5;241m.\u001b[39mfind(\u001b[38;5;124m'\u001b[39m\u001b[38;5;124mzoo\u001b[39m\u001b[38;5;124m'\u001b[39m)) \u001b[38;5;66;03m# -1찾는 단어나 문자가 없으면 -1\u001b[39;00m\n\u001b[1;32m----> 2\u001b[0m \u001b[38;5;28mprint\u001b[39m(\u001b[43mstr1\u001b[49m\u001b[38;5;241;43m.\u001b[39;49m\u001b[43mindex\u001b[49m\u001b[43m(\u001b[49m\u001b[38;5;124;43m'\u001b[39;49m\u001b[38;5;124;43mzoo\u001b[39;49m\u001b[38;5;124;43m'\u001b[39;49m\u001b[43m)\u001b[49m)\n",
      "\u001b[1;31mValueError\u001b[0m: substring not found"
     ]
    }
   ],
   "source": [
    "print(str1.find('zoo')) # 찾는 단어나 문자가 없으면 -1\n",
    "print(str1.index('zoo')) # 찾는 단어가 없거나 문자가 없으면 오류 발생"
   ]
  },
  {
   "cell_type": "code",
   "execution_count": 206,
   "id": "a434d594-5f93-4bf7-8b93-56faa3e1924d",
   "metadata": {},
   "outputs": [
    {
     "name": "stdout",
     "output_type": "stream",
     "text": [
      "Lite is too short, You need python\n",
      "lite is too short, you need python\n",
      "LITE IS TOO SHORT, YOU NEED PYTHON\n",
      "Lite is too short, You need python\n",
      "LITE IS TOO SHORT, YOU NEED PYTHON\n"
     ]
    }
   ],
   "source": [
    "print(str1)\n",
    "# 문자열을 모두 소문자로 출력\n",
    "print(str1.lower())\n",
    "# 문자열을 모두 대문자로 출력\n",
    "print(str1.upper())\n",
    "print(str1)\n",
    "str2 = str1.upper()\n",
    "print(str2)"
   ]
  },
  {
   "cell_type": "code",
   "execution_count": 208,
   "id": "e9d2b3f9-0c94-48e3-8040-5f3993691ba8",
   "metadata": {},
   "outputs": [
    {
     "name": "stdout",
     "output_type": "stream",
     "text": [
      "다르다\n",
      "같다\n"
     ]
    }
   ],
   "source": [
    "if \"highland0\" == \"     highland0    \":\n",
    "    print(\"같다\")\n",
    "else:\n",
    "    print(\"다르다\")\n",
    "if \"highland0\" == \"     highland0    \".strip():\n",
    "    print(\"같다\")\n",
    "else:\n",
    "    print(\"다르다\")"
   ]
  },
  {
   "cell_type": "code",
   "execution_count": 220,
   "id": "9d5ddef0-4b53-4bbb-ac18-204916598e69",
   "metadata": {},
   "outputs": [
    {
     "name": "stdout",
     "output_type": "stream",
     "text": [
      "highalnd0\n",
      "   Life is too short    \n",
      "Life is too short\n",
      "Life is too short    \n",
      "   Life is too short\n",
      "Life is too short\n",
      "Life is ab too short\n",
      "Life is too short\n",
      "Life is too short\n"
     ]
    }
   ],
   "source": [
    "str2 = \"    highalnd0     \"\n",
    "print(str2.strip())\n",
    "str3 = \"   Life is too short    \";\n",
    "print(str3)\n",
    "print(str3.strip()) # 양옆의 공백만 지웁니다. 중간에 있는 공백문자는 정상 데이터로 인식\n",
    "# 왼쪽만 지우기\n",
    "print(str3.lstrip())\n",
    "#오른 쪽만 \n",
    "print(str3.rstrip())\n",
    "str3 = \"abLife is too shortab\";\n",
    "print(str3.strip(\"ab\"))\n",
    "str3 = \"abLife is ab too shortab\";\n",
    "print(str3.strip(\"ab\"))\n",
    "str3 = \"ab  Life is too short   ab\";\n",
    "print(str3.strip('ab').strip())\n",
    "str3 = \"abcd  Life is too short   cdab\";\n",
    "print(str3.strip('ab').strip('cd').strip())"
   ]
  },
  {
   "cell_type": "code",
   "execution_count": 221,
   "id": "92c1edfe-5446-466d-b783-9da8727c7597",
   "metadata": {},
   "outputs": [
    {
     "name": "stdout",
     "output_type": "stream",
     "text": [
      "Your leg is too short\n"
     ]
    }
   ],
   "source": [
    "### # 문자열 대체하기\n",
    "str1 = \"Life is too short\"\n",
    "str2 = str1.replace(\"Life\" , \"Your leg\");\n",
    "print(str2)"
   ]
  },
  {
   "cell_type": "code",
   "execution_count": 223,
   "id": "b4889d46-305d-4790-a722-f9b623316d39",
   "metadata": {},
   "outputs": [
    {
     "name": "stdout",
     "output_type": "stream",
     "text": [
      "['Life', 'is', 'too', 'short']\n",
      "['Life', 'is', 'too', 'short']\n"
     ]
    }
   ],
   "source": [
    "# 쪼개기 : split 하면 결과 리스트\n",
    "str1 = \"Life is too short\"\n",
    "str2 = str1.split()\n",
    "print(str2)\n",
    "str1 = \"Life:is:too:short\"\n",
    "str2 = str1.split(\":\")\n",
    "print(str2)"
   ]
  },
  {
   "cell_type": "code",
   "execution_count": null,
   "id": "fd083f3a-f170-40d7-989a-70d906ede42e",
   "metadata": {},
   "outputs": [],
   "source": []
  },
  {
   "cell_type": "code",
   "execution_count": null,
   "id": "aa090c4d-1b69-49de-ba01-1609575ab678",
   "metadata": {},
   "outputs": [],
   "source": []
  },
  {
   "cell_type": "code",
   "execution_count": null,
   "id": "8964eda1-ff6c-4382-81da-3508b973f1d9",
   "metadata": {},
   "outputs": [],
   "source": []
  },
  {
   "cell_type": "code",
   "execution_count": null,
   "id": "3ee0f96a-86ff-4315-a887-60964b930422",
   "metadata": {},
   "outputs": [],
   "source": []
  }
 ],
 "metadata": {
  "kernelspec": {
   "display_name": "Python 3 (ipykernel)",
   "language": "python",
   "name": "python3"
  },
  "language_info": {
   "codemirror_mode": {
    "name": "ipython",
    "version": 3
   },
   "file_extension": ".py",
   "mimetype": "text/x-python",
   "name": "python",
   "nbconvert_exporter": "python",
   "pygments_lexer": "ipython3",
   "version": "3.12.0"
  }
 },
 "nbformat": 4,
 "nbformat_minor": 5
}
