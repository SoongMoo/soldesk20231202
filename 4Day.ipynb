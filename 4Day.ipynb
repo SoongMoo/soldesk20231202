{
 "cells": [
  {
   "cell_type": "code",
   "execution_count": 2,
   "id": "5bed450d-52e1-4cf3-ad32-cd13d36e8b23",
   "metadata": {},
   "outputs": [],
   "source": [
    "#### 매개변수에 초깃값 미리 설정하기 \n",
    "def say_myself(name, old, man):\n",
    "    print(\"나의 이름은 %s입니다.\" % name)\n",
    "    print(\"나의 나이는 %d입니다.\" % old)\n",
    "    if man: #True\n",
    "        print(\"남자입니다.\")\n",
    "    else: #False\n",
    "        print(\"여자입니다.\")"
   ]
  },
  {
   "cell_type": "code",
   "execution_count": 3,
   "id": "75508760-e469-4175-8f2e-08f6b90ce4d5",
   "metadata": {},
   "outputs": [
    {
     "name": "stdout",
     "output_type": "stream",
     "text": [
      "나의 이름은 이숭무입니다.\n",
      "나의 나이는 35입니다.\n",
      "남자입니다.\n"
     ]
    }
   ],
   "source": [
    "say_myself('이숭무', 35, True)"
   ]
  },
  {
   "cell_type": "code",
   "execution_count": 4,
   "id": "f82f96a9-a961-445a-9fe4-8dd922a59cf6",
   "metadata": {},
   "outputs": [],
   "source": [
    "def say_myself(name, old, man = True):\n",
    "    print(\"나의 이름은 %s입니다.\" % name)\n",
    "    print(\"나의 나이는 %d입니다.\" % old)\n",
    "    if man: #True\n",
    "        print(\"남자입니다.\")\n",
    "    else: #False\n",
    "        print(\"여자입니다.\")"
   ]
  },
  {
   "cell_type": "code",
   "execution_count": null,
   "id": "119e9a58-92e3-42fe-8bd0-92a57981b829",
   "metadata": {},
   "outputs": [],
   "source": [
    "say_myself('이숭무', 35)\n",
    "say_myself('오연의', 55, False)\n",
    "say_myself('이숭무', 35, True)"
   ]
  },
  {
   "cell_type": "code",
   "execution_count": 11,
   "id": "36befe0e-509e-4a00-a852-149bd099b435",
   "metadata": {},
   "outputs": [],
   "source": [
    "def say_myself(name, old = 30, man = True):\n",
    "    print(\"나의 이름은 %s입니다.\" % name)\n",
    "    print(\"나의 나이는 %d입니다.\" % old)\n",
    "    if man: #True\n",
    "        print(\"남자입니다.\")\n",
    "    else: #False\n",
    "        print(\"여자입니다.\")"
   ]
  },
  {
   "cell_type": "code",
   "execution_count": 13,
   "id": "3b86a3b5-9eba-4752-aa77-e14326655eb9",
   "metadata": {},
   "outputs": [
    {
     "name": "stdout",
     "output_type": "stream",
     "text": [
      "나의 이름은 이숭무입니다.\n",
      "나의 나이는 30입니다.\n",
      "남자입니다.\n",
      "나의 이름은 오연의입니다.\n",
      "나의 나이는 55입니다.\n",
      "남자입니다.\n",
      "나의 이름은 오연의입니다.\n",
      "나의 나이는 0입니다.\n",
      "남자입니다.\n",
      "나의 이름은 오연의입니다.\n",
      "나의 나이는 30입니다.\n",
      "여자입니다.\n"
     ]
    }
   ],
   "source": [
    "say_myself('이숭무')\n",
    "say_myself('오연의', 55)\n",
    "say_myself('오연의', False)\n",
    "say_myself('오연의', man = False)"
   ]
  },
  {
   "cell_type": "code",
   "execution_count": 17,
   "id": "259339d8-af5b-46c4-8044-bd2e21464aa3",
   "metadata": {},
   "outputs": [
    {
     "name": "stdout",
     "output_type": "stream",
     "text": [
      "오류 발생\n"
     ]
    }
   ],
   "source": [
    "'''\n",
    "def say_myself(name, old = 30, man ):\n",
    "    print(\"나의 이름은 %s입니다.\" % name)\n",
    "    print(\"나의 나이는 %d입니다.\" % old)\n",
    "    if man: #True\n",
    "        print(\"남자입니다.\")\n",
    "    else: #False\n",
    "        print(\"여자입니다.\")\n",
    "say_myself('오연의',False)\n",
    "'''\n",
    "print('오류 발생')"
   ]
  },
  {
   "cell_type": "code",
   "execution_count": 18,
   "id": "7718d168-570d-4450-b10c-d5fd62c5da40",
   "metadata": {},
   "outputs": [],
   "source": [
    "### lambda함수 : 함수를 마치 변수처럼 선언해서 사용하는 것\n",
    "def add(a, b):\n",
    "    return a + b"
   ]
  },
  {
   "cell_type": "code",
   "execution_count": 19,
   "id": "4771fcc7-9827-41c6-9bbd-1c60a61e12f9",
   "metadata": {},
   "outputs": [
    {
     "name": "stdout",
     "output_type": "stream",
     "text": [
      "7\n"
     ]
    }
   ],
   "source": [
    "y = add(3, 4)\n",
    "print(y)"
   ]
  },
  {
   "cell_type": "code",
   "execution_count": 20,
   "id": "5157f225-2fd1-4032-b856-9ef7b11ad9fd",
   "metadata": {},
   "outputs": [],
   "source": [
    "add = lambda a, b : a + b"
   ]
  },
  {
   "cell_type": "code",
   "execution_count": 21,
   "id": "3b7e4fc3-b97b-4435-b479-b671d0f5d691",
   "metadata": {},
   "outputs": [
    {
     "name": "stdout",
     "output_type": "stream",
     "text": [
      "7\n"
     ]
    }
   ],
   "source": [
    "y = add(3, 4)\n",
    "print(y)"
   ]
  },
  {
   "cell_type": "code",
   "execution_count": 23,
   "id": "fcd83c9e-c060-40aa-a963-406043a284ac",
   "metadata": {},
   "outputs": [],
   "source": [
    "def add(a, b):\n",
    "    print(a + b)"
   ]
  },
  {
   "cell_type": "code",
   "execution_count": 24,
   "id": "56c81b8e-1a91-4ee8-9775-4bbc67743645",
   "metadata": {},
   "outputs": [
    {
     "name": "stdout",
     "output_type": "stream",
     "text": [
      "7\n"
     ]
    }
   ],
   "source": [
    "add(3, 4)"
   ]
  },
  {
   "cell_type": "code",
   "execution_count": 26,
   "id": "b6237432-4987-44f4-8951-42987792eb97",
   "metadata": {},
   "outputs": [],
   "source": [
    "add = lambda a, b : print(a + b)"
   ]
  },
  {
   "cell_type": "code",
   "execution_count": 27,
   "id": "4d06eb03-4780-4484-9cce-360c975a50ba",
   "metadata": {},
   "outputs": [
    {
     "name": "stdout",
     "output_type": "stream",
     "text": [
      "7\n"
     ]
    }
   ],
   "source": [
    "add(3, 4)"
   ]
  },
  {
   "cell_type": "code",
   "execution_count": 28,
   "id": "3310c36d-b414-4b79-b964-a69150d75f0c",
   "metadata": {},
   "outputs": [],
   "source": [
    "def calu(opt , a, b):\n",
    "    if opt == \"add\":\n",
    "        print(a +b)\n",
    "    else:\n",
    "        print(a - b)"
   ]
  },
  {
   "cell_type": "code",
   "execution_count": 29,
   "id": "915bdd67-8660-4733-95d3-93abf846c8f6",
   "metadata": {},
   "outputs": [
    {
     "name": "stdout",
     "output_type": "stream",
     "text": [
      "7\n"
     ]
    }
   ],
   "source": [
    "calu(\"add\", 3, 4)"
   ]
  },
  {
   "cell_type": "code",
   "execution_count": 35,
   "id": "bf88f0c4-78d9-470a-96e2-3f0f2d9591df",
   "metadata": {},
   "outputs": [],
   "source": [
    "calu = lambda opt , a, b : print(a + b) if opt == \"add\" \\\n",
    "                      else print(a - b)"
   ]
  },
  {
   "cell_type": "code",
   "execution_count": 36,
   "id": "abc4f3c4-90fc-475d-ad48-068546cbc840",
   "metadata": {},
   "outputs": [
    {
     "name": "stdout",
     "output_type": "stream",
     "text": [
      "7\n"
     ]
    }
   ],
   "source": [
    "calu(\"add\", 3, 4)"
   ]
  },
  {
   "cell_type": "code",
   "execution_count": 40,
   "id": "8ce88079-92a2-4bfa-b13e-27d9772b7070",
   "metadata": {},
   "outputs": [],
   "source": [
    "def calu(opt , a, b):\n",
    "    if opt == \"add\":\n",
    "        return a + b\n",
    "    else:\n",
    "        return a - b"
   ]
  },
  {
   "cell_type": "code",
   "execution_count": 41,
   "id": "4a3dff1c-1b88-4496-80f1-4bb1e340ff91",
   "metadata": {},
   "outputs": [
    {
     "name": "stdout",
     "output_type": "stream",
     "text": [
      "7\n"
     ]
    }
   ],
   "source": [
    "y = calu(\"add\", 3, 4)\n",
    "print(y)"
   ]
  },
  {
   "cell_type": "code",
   "execution_count": 42,
   "id": "69224cf3-008b-4efc-9fbe-514ab4154fb4",
   "metadata": {},
   "outputs": [],
   "source": [
    "calu = lambda opt , a, b : a + b if opt == \"add\" \\\n",
    "                      else a - b"
   ]
  },
  {
   "cell_type": "code",
   "execution_count": 43,
   "id": "8b238f4f-b57c-4e8e-86f0-cda70076527f",
   "metadata": {},
   "outputs": [
    {
     "name": "stdout",
     "output_type": "stream",
     "text": [
      "7\n"
     ]
    }
   ],
   "source": [
    "y = calu(\"add\", 3, 4)\n",
    "print(y)"
   ]
  },
  {
   "cell_type": "code",
   "execution_count": 45,
   "id": "0f4f479d-9f42-4609-bd6c-54ddc99fe68e",
   "metadata": {},
   "outputs": [
    {
     "name": "stdout",
     "output_type": "stream",
     "text": [
      "200\n",
      "200\n"
     ]
    }
   ],
   "source": [
    "opt = 'mul'; a = 10; b = 20 \n",
    "if opt == \"add\":\n",
    "    result = a + b\n",
    "elif opt == \"sub\":\n",
    "    result = a - b\n",
    "elif opt == \"mul\":\n",
    "    result = a * b\n",
    "else:\n",
    "    result = a / b\n",
    "print(result)\n",
    "#python 형식\n",
    "result = a + b  if opt == \"add\" else (\n",
    "         a - b  if opt == \"sub\" else(\n",
    "         a * b  if opt == \"mul\" else\n",
    "         a / b ))\n",
    "print(result)"
   ]
  },
  {
   "cell_type": "code",
   "execution_count": 46,
   "id": "36023c8d-51fa-4bbb-8bfc-0209d93f2df0",
   "metadata": {},
   "outputs": [],
   "source": [
    "def calc(opt, a, b):\n",
    "    if opt == \"add\":\n",
    "        return a + b\n",
    "    elif opt == \"sub\":\n",
    "        return a - b\n",
    "    elif opt == \"mul\":\n",
    "        return a * b\n",
    "    else:\n",
    "        return a / b"
   ]
  },
  {
   "cell_type": "code",
   "execution_count": 54,
   "id": "b76e1af3-43ea-45b6-bd36-8f6de343d001",
   "metadata": {},
   "outputs": [
    {
     "name": "stdout",
     "output_type": "stream",
     "text": [
      "200\n",
      "10\n"
     ]
    }
   ],
   "source": [
    "result = calc(\"mul\", 10, 20)\n",
    "print(result)"
   ]
  },
  {
   "cell_type": "code",
   "execution_count": 49,
   "id": "69ba42e0-eecd-4feb-a49e-2be47b65711c",
   "metadata": {},
   "outputs": [],
   "source": [
    "calc = lambda opt, a, b : a + b  if opt == \"add\" else (\n",
    "                          a - b  if opt == \"sub\" else(\n",
    "                          a * b  if opt == \"mul\" else\n",
    "                          a / b ))"
   ]
  },
  {
   "cell_type": "code",
   "execution_count": 50,
   "id": "bef5eede-917b-4d97-a5d2-ab4c8f946011",
   "metadata": {},
   "outputs": [
    {
     "name": "stdout",
     "output_type": "stream",
     "text": [
      "200\n"
     ]
    }
   ],
   "source": [
    "result = calc(\"mul\", 10, 20)\n",
    "print(result)"
   ]
  },
  {
   "cell_type": "code",
   "execution_count": null,
   "id": "cf6beeb6-b5d9-44fa-a446-931c358cf2dc",
   "metadata": {},
   "outputs": [],
   "source": [
    "def add(a, b=4):\n",
    "    return a + b"
   ]
  },
  {
   "cell_type": "code",
   "execution_count": 51,
   "id": "2be410df-4578-4fc5-ad61-a5f41b312120",
   "metadata": {},
   "outputs": [],
   "source": [
    "add = lambda a, b=4 : a + b"
   ]
  },
  {
   "cell_type": "code",
   "execution_count": 53,
   "id": "56fa634a-722e-450f-a62b-47dcfead3d4b",
   "metadata": {},
   "outputs": [
    {
     "name": "stdout",
     "output_type": "stream",
     "text": [
      "7\n"
     ]
    }
   ],
   "source": [
    "result = add(3)\n",
    "print(result)"
   ]
  },
  {
   "cell_type": "code",
   "execution_count": null,
   "id": "93825a3a-3771-4865-bfd6-0c0026672a98",
   "metadata": {},
   "outputs": [],
   "source": [
    "#전역변수 : 프로그램 전체에서 사용 가능한 변수, 함수밖에 있는 변수\n",
    "#지역변수 : 함수안에 정의 되어 있는 변수 , 함수안에서만 사용가능한 변수"
   ]
  },
  {
   "cell_type": "code",
   "execution_count": 60,
   "id": "bdefb197-95af-494c-9af3-3357c8eeb553",
   "metadata": {},
   "outputs": [],
   "source": [
    "b = 100 # 전역변수\n",
    "def test3():\n",
    "    c1 = 200 # 지역 변수\n",
    "    print(\"함수 밖에 선언된 b 함수안에서 실행 : \" , b)\n",
    "    print(\"함수 안에 선언된 c1 : \" , c1)"
   ]
  },
  {
   "cell_type": "code",
   "execution_count": 61,
   "id": "42f5035f-9299-4bd2-aae3-bf0371516bba",
   "metadata": {},
   "outputs": [
    {
     "name": "stdout",
     "output_type": "stream",
     "text": [
      "함수 밖에 선언된 b 함수안에서 실행 :  100\n",
      "함수 안에 선언된 c1 :  200\n",
      "함수 밖에 선언된 b  :  100\n"
     ]
    }
   ],
   "source": [
    "test3()\n",
    "#print(\"함수 안에 선언된 c1 : \" , c1)\n",
    "print(\"함수 밖에 선언된 b  : \" , b)"
   ]
  },
  {
   "cell_type": "code",
   "execution_count": 63,
   "id": "97388e5d-cf4e-4e12-913d-c2a493c950cb",
   "metadata": {},
   "outputs": [],
   "source": [
    "b = 1 # 전역변수\n",
    "def test3():\n",
    "    b = 100 # 지역변수  # 변수명이 같은 지역변수와 전역변수가 있는 경우 함수안에서는 지역변수가 우선한다.\n",
    "    c1 = 200\n",
    "    print(\"함수안에서 b 실행 : \" , b)\n",
    "    print(\"함수안에서 c1 실행 : \" , c1)"
   ]
  },
  {
   "cell_type": "code",
   "execution_count": null,
   "id": "b7ff2eaf-f221-471a-b642-bbed3adaf7d1",
   "metadata": {},
   "outputs": [],
   "source": [
    "print(\"함수밖에서 b출력\" , b)\n",
    "test3()\n",
    "print(\"함수밖에서 b출력\" , b)"
   ]
  },
  {
   "cell_type": "code",
   "execution_count": 67,
   "id": "35fc94ad-7273-4743-bb6c-83c148839b38",
   "metadata": {},
   "outputs": [],
   "source": [
    "b = 1 # 전역변수\n",
    "def test3():\n",
    "    global b #전역변수임을 알려주자.\n",
    "    b = 100 # 전역변수\n",
    "    c1 = 200\n",
    "    print(\"함수안에서 b 실행 : \" , b)\n",
    "    print(\"함수안에서 c1 실행 : \" , c1)"
   ]
  },
  {
   "cell_type": "code",
   "execution_count": null,
   "id": "5053201d-80db-4f46-b36e-55542f4ef269",
   "metadata": {},
   "outputs": [],
   "source": [
    "print(\"함수밖에서 b출력\" , b)\n",
    "test3()\n",
    "print(\"함수밖에서 b출력\" , b)"
   ]
  },
  {
   "cell_type": "code",
   "execution_count": 69,
   "id": "ad351fc9-0600-4f6f-8c76-6fed636070dc",
   "metadata": {},
   "outputs": [],
   "source": [
    "# 파일입출력 : open()함수\n",
    "# open(file, mode='r', buffering=None, encoding=None, errors=None, newline=None, closefd=True):\n",
    "#f = open(\"C:/Users/soldesk/Desktop/python/test.txt\",\"w\",encoding=\"utf-8\")\n",
    "f = open(\"test.txt\",\"w\",encoding=\"utf-8\")\n",
    "f.write(\"1번째 줄입니다.\\n\")\n",
    "f.write(\"2번째 줄입니다.\\n\")\n",
    "f.write(\"3번째 줄입니다.\\n\")\n",
    "f.write(\"4번째 줄입니다.\\n\")\n",
    "f.write(\"5번째 줄입니다.\\n\")\n",
    "f.close()"
   ]
  },
  {
   "cell_type": "code",
   "execution_count": 70,
   "id": "52d6fd32-c84d-4714-9216-107f1a50a09e",
   "metadata": {},
   "outputs": [],
   "source": [
    "f = open(\"test.txt\",\"w\",encoding=\"utf-8\") # w:쓰기 : 덮어쓰기\n",
    "for i in range(6,11):\n",
    "    f.write(f\"{i}번째 줄입니다.\\n\")\n",
    "f.close()"
   ]
  },
  {
   "cell_type": "code",
   "execution_count": 73,
   "id": "8cd93e34-848a-44b1-bde1-1bafed6a7fcb",
   "metadata": {},
   "outputs": [],
   "source": [
    "f = open(\"test.txt\",\"a\",encoding=\"utf-8\") # a : append : 마지막 행부터 추가\n",
    "for i in range(11,21):\n",
    "    f.write(f\"{i}번째 줄입니다.\\n\")\n",
    "f.close()"
   ]
  },
  {
   "cell_type": "code",
   "execution_count": 74,
   "id": "a5c807e2-bacb-4cf8-9c94-d493a7ebc6ab",
   "metadata": {},
   "outputs": [
    {
     "name": "stdout",
     "output_type": "stream",
     "text": [
      "6번째 줄입니다.\n",
      "\n"
     ]
    }
   ],
   "source": [
    "f = open(\"test.txt\", encoding=\"utf-8\")\n",
    "line = f.readline()\n",
    "print(line)"
   ]
  },
  {
   "cell_type": "code",
   "execution_count": 75,
   "id": "bbd2eb1a-4531-426d-89a8-f228b3b5a92b",
   "metadata": {},
   "outputs": [
    {
     "name": "stdout",
     "output_type": "stream",
     "text": [
      "7번째 줄입니다.\n",
      "\n",
      "8번째 줄입니다.\n",
      "\n",
      "9번째 줄입니다.\n",
      "\n",
      "10번째 줄입니다.\n",
      "\n",
      "11번째 줄입니다.\n",
      "\n",
      "12번째 줄입니다.\n",
      "\n"
     ]
    }
   ],
   "source": [
    "line = f.readline()\n",
    "print(line)\n",
    "line = f.readline()\n",
    "print(line)\n",
    "line = f.readline()\n",
    "print(line)\n",
    "line = f.readline()\n",
    "print(line)\n",
    "line = f.readline()\n",
    "print(line)\n",
    "line = f.readline()\n",
    "print(line)\n",
    "f.close()"
   ]
  },
  {
   "cell_type": "code",
   "execution_count": null,
   "id": "d0ddafb9-aae3-4b3b-9c59-3f0a3c81fbc5",
   "metadata": {},
   "outputs": [],
   "source": [
    "f = open(\"test.txt\",\"r\", encoding=\"utf-8\")\n",
    "while True:\n",
    "    line = f.readline()\n",
    "    if not line:\n",
    "        break\n",
    "    print(line)\n",
    "f.close()"
   ]
  },
  {
   "cell_type": "code",
   "execution_count": null,
   "id": "64409b3a-d0f3-455b-9f74-7c65c47d7c27",
   "metadata": {},
   "outputs": [],
   "source": [
    "f = open(\"test.txt\",\"r\", encoding=\"utf-8\")\n",
    "lines = f.readlines()\n",
    "print(\"\".join(lines))\n",
    "f.close()"
   ]
  },
  {
   "cell_type": "code",
   "execution_count": null,
   "id": "3f3536ec-b93b-4558-8480-76fbccaea054",
   "metadata": {},
   "outputs": [],
   "source": [
    "f = open(\"test.txt\",\"r\", encoding=\"utf-8\")\n",
    "data = f.read()\n",
    "f.close()\n",
    "print(data)"
   ]
  },
  {
   "cell_type": "code",
   "execution_count": 82,
   "id": "f6b8e026-ac34-4734-8966-47ac46b2617e",
   "metadata": {},
   "outputs": [],
   "source": [
    "with open(\"test.txt\",\"w\", encoding=\"utf-8\") as f:\n",
    "    for i in range(1, 11):\n",
    "        f.write(f\"{i}번째 줄입니다.\\n\")"
   ]
  },
  {
   "cell_type": "code",
   "execution_count": 83,
   "id": "9ab0d0a0-b610-4469-b79b-548b6c24addc",
   "metadata": {},
   "outputs": [],
   "source": [
    "with open(\"test.txt\",\"a\", encoding=\"utf-8\") as f:\n",
    "    for i in range(11, 21):\n",
    "        f.write(f\"{i}번째 줄입니다.\\n\")"
   ]
  },
  {
   "cell_type": "code",
   "execution_count": 85,
   "id": "864d37c0-06a3-4ec0-8ae2-a9e7b4fd4cde",
   "metadata": {},
   "outputs": [
    {
     "name": "stdout",
     "output_type": "stream",
     "text": [
      "1번째 줄입니다.\n",
      "2번째 줄입니다.\n",
      "3번째 줄입니다.\n",
      "4번째 줄입니다.\n",
      "5번째 줄입니다.\n",
      "6번째 줄입니다.\n",
      "7번째 줄입니다.\n",
      "8번째 줄입니다.\n",
      "9번째 줄입니다.\n",
      "10번째 줄입니다.\n",
      "11번째 줄입니다.\n",
      "12번째 줄입니다.\n",
      "13번째 줄입니다.\n",
      "14번째 줄입니다.\n",
      "15번째 줄입니다.\n",
      "16번째 줄입니다.\n",
      "17번째 줄입니다.\n",
      "18번째 줄입니다.\n",
      "19번째 줄입니다.\n",
      "20번째 줄입니다.\n",
      "\n"
     ]
    }
   ],
   "source": [
    "with open(\"test.txt\",\"r\", encoding=\"utf-8\") as f:\n",
    "    data = f.read()\n",
    "    print(data)"
   ]
  },
  {
   "cell_type": "code",
   "execution_count": 86,
   "id": "49dbf089-6419-44bd-a042-68523d223b62",
   "metadata": {},
   "outputs": [],
   "source": [
    "# class : 변수 ,함수를 하나로 묶은 것 \n",
    "class Testclass:\n",
    "    b = 1 # 멤버필드\n",
    "    def test3(self): # 메서드\n",
    "        self.b = 100\n",
    "        c1 = 200\n",
    "        print(\"함수안에서 b 실행 : \" , b)\n",
    "        print(\"함수안에서 c1 실행 : \" , c1)"
   ]
  },
  {
   "cell_type": "code",
   "execution_count": 87,
   "id": "e05fc35e-b1b3-4978-954a-c987c8b7fe66",
   "metadata": {},
   "outputs": [],
   "source": [
    "a1 = Testclass()\n",
    "a2 = Testclass()"
   ]
  },
  {
   "cell_type": "code",
   "execution_count": null,
   "id": "e01a72f8-e076-4669-b7f8-0e9376a8cd54",
   "metadata": {},
   "outputs": [],
   "source": [
    "print(a1.b)\n",
    "print(a2.b)\n",
    "a1.test3()\n",
    "print(a1.b)\n",
    "a2.test3()\n",
    "print(a2.b)"
   ]
  },
  {
   "cell_type": "code",
   "execution_count": 94,
   "id": "d5c15638-24bd-4747-b796-63eaf3bbb2d7",
   "metadata": {},
   "outputs": [],
   "source": [
    "a3 = Testclass()"
   ]
  },
  {
   "cell_type": "code",
   "execution_count": 95,
   "id": "31f4512d-0517-4368-9d53-53095036b99a",
   "metadata": {},
   "outputs": [
    {
     "name": "stdout",
     "output_type": "stream",
     "text": [
      "200\n",
      "300\n",
      "400\n"
     ]
    }
   ],
   "source": [
    "a1.b = 200\n",
    "a2.b = 300\n",
    "a3.b = 400\n",
    "print(a1.b)\n",
    "print(a2.b)\n",
    "print(a3.b)"
   ]
  },
  {
   "cell_type": "code",
   "execution_count": 100,
   "id": "6b6fba90-5ffd-4dd3-a424-f664d29149dd",
   "metadata": {},
   "outputs": [],
   "source": [
    "class Testclass:\n",
    "    result = 1\n",
    "    def f(self, x):\n",
    "        self.result = 3 * x + 3\n",
    "        return self.result"
   ]
  },
  {
   "cell_type": "code",
   "execution_count": 101,
   "id": "4c346af9-f565-4b28-a101-f6a29f1702fd",
   "metadata": {},
   "outputs": [
    {
     "name": "stdout",
     "output_type": "stream",
     "text": [
      "1\n",
      "100\n",
      "24\n"
     ]
    }
   ],
   "source": [
    "a1 = Testclass()\n",
    "print(a1.result)\n",
    "a1.result = 100\n",
    "print(a1.result)\n",
    "y = a1.f(7)\n",
    "print(y)"
   ]
  },
  {
   "cell_type": "code",
   "execution_count": null,
   "id": "c12996f6-166e-4fa5-8457-1abe36725c60",
   "metadata": {},
   "outputs": [],
   "source": [
    "y  = Testclass.f(a1, 8)\n",
    "print(y)\n",
    "y = a1.f(7) # Testclass.f(a1, 8)\n",
    "print(y)"
   ]
  },
  {
   "cell_type": "code",
   "execution_count": 103,
   "id": "8738d484-f29d-4333-8ed1-5ab0700806ff",
   "metadata": {},
   "outputs": [],
   "source": [
    "class Testclass: # 메버필드는 생략이 가능하다.\n",
    "    def f(self, x):\n",
    "        self.result = 3 * x + 3\n",
    "        return self.result"
   ]
  },
  {
   "cell_type": "code",
   "execution_count": 104,
   "id": "c29f00b3-d09c-44fe-ba42-ef14f43b7555",
   "metadata": {},
   "outputs": [
    {
     "name": "stdout",
     "output_type": "stream",
     "text": [
      "12\n",
      "12\n"
     ]
    }
   ],
   "source": [
    "a2 = Testclass()\n",
    "y = a2.f(3)\n",
    "print(y)\n",
    "print(a2.result)"
   ]
  },
  {
   "cell_type": "code",
   "execution_count": 108,
   "id": "7c7337a4-0d1b-46bb-96e2-0709c1595ac2",
   "metadata": {},
   "outputs": [
    {
     "name": "stdout",
     "output_type": "stream",
     "text": [
      "12\n",
      "12\n",
      "12\n",
      "12\n"
     ]
    }
   ],
   "source": [
    "a3 = Testclass() # 메버필드의 초기값을 사용하려면 멤버필드를 선언해주어야 한다.\n",
    "#print(a3.result) # result에 초기값이 없어서 오류가 생긴다.\n",
    "y = a3.f(3)\n",
    "print(y)\n",
    "print(a3.result)"
   ]
  },
  {
   "cell_type": "code",
   "execution_count": 117,
   "id": "924fa155-5aca-4913-8e76-e2b23d897012",
   "metadata": {},
   "outputs": [],
   "source": [
    "class Calculator:\n",
    "     def setData(self, first, second): # 멤버필드를 초기화하기 위한 메서드\n",
    "         self.first = first\n",
    "         self.second = second\n",
    "     def add(self):\n",
    "         self.result = self.first + self.second\n",
    "         return self.result\n",
    "     def div(self):\n",
    "         self.result = self.first / self.second\n",
    "         return self.result"
   ]
  },
  {
   "cell_type": "code",
   "execution_count": null,
   "id": "944423f3-6a59-4161-9b38-707930d549a5",
   "metadata": {},
   "outputs": [],
   "source": [
    "a1 = Calculator() # 객체생성\n",
    "a1.setData(10, 20)\n",
    "y = a1.add()\n",
    "print(y)"
   ]
  },
  {
   "cell_type": "code",
   "execution_count": 120,
   "id": "41ff0800-cdc2-4bc0-980c-3583ff5b9e60",
   "metadata": {},
   "outputs": [
    {
     "name": "stdout",
     "output_type": "stream",
     "text": [
      "100\n"
     ]
    }
   ],
   "source": [
    "a2 = Calculator()\n",
    "# print(a2.first) # 오류\n",
    "a2.setData(100, 200)\n",
    "print(a2.first)"
   ]
  },
  {
   "cell_type": "code",
   "execution_count": 122,
   "id": "96fe7b7a-b4e0-4cc7-9c3a-e1d55754350a",
   "metadata": {},
   "outputs": [],
   "source": [
    "class Calculator:\n",
    "     def __init__(self, first, second): # 멤버필드를 초기화하기 위한 메서드 : 생성자\n",
    "         self.first = first\n",
    "         self.second = second\n",
    "     def add(self):\n",
    "         self.result = self.first + self.second\n",
    "         return self.result\n",
    "     def div(self):\n",
    "         self.result = self.first / self.second\n",
    "         return self.result"
   ]
  },
  {
   "cell_type": "code",
   "execution_count": 126,
   "id": "3edcd704-b0df-4276-96db-63ab80b9b4e8",
   "metadata": {},
   "outputs": [
    {
     "name": "stdout",
     "output_type": "stream",
     "text": [
      "20\n",
      "50\n"
     ]
    }
   ],
   "source": [
    "a3 = Calculator(20, 30) # 객체생성과 동시에 __init__실행된다.\n",
    "print(a3.first)\n",
    "y = a3.add()\n",
    "print(y)"
   ]
  },
  {
   "cell_type": "code",
   "execution_count": 127,
   "id": "2d65956d-28a8-4e00-8fbe-fde7dfd4c4fe",
   "metadata": {},
   "outputs": [],
   "source": [
    "class FourCal(Calculator): # 상속\n",
    "    '''\n",
    "    def __init__(self, first, second): # 멤버필드를 초기화하기 위한 메서드 : 생성자\n",
    "        self.first = first\n",
    "        self.second = second\n",
    "    def add(self):\n",
    "        self.result = self.first + self.second\n",
    "        return self.result\n",
    "    def div(self):\n",
    "        self.result = self.first / self.second\n",
    "        return self.result\n",
    "    '''\n",
    "    def sub(self):\n",
    "        self.result = self.first - self.second\n",
    "        return self.result\n",
    "    def mul(self):\n",
    "        self.result = self.first * self.second\n",
    "        return self.result"
   ]
  },
  {
   "cell_type": "code",
   "execution_count": 131,
   "id": "05cf3143-1a31-41dc-b2fb-ec1c8c516432",
   "metadata": {},
   "outputs": [
    {
     "name": "stdout",
     "output_type": "stream",
     "text": [
      "50\n",
      "0.6666666666666666\n",
      "-10\n",
      "600\n"
     ]
    }
   ],
   "source": [
    "a4 = FourCal(20, 30)\n",
    "y = a4.add()\n",
    "print(y)\n",
    "y = a4.div()\n",
    "print(y)\n",
    "y = a4.sub()\n",
    "print(y)\n",
    "y = a4.mul()\n",
    "print(y)"
   ]
  },
  {
   "cell_type": "code",
   "execution_count": 132,
   "id": "401a1d52-e457-4214-bc08-06dfa07a7a38",
   "metadata": {},
   "outputs": [
    {
     "name": "stdout",
     "output_type": "stream",
     "text": [
      "0.0\n"
     ]
    }
   ],
   "source": [
    "a5 = FourCal(0, 10) # 0/10 : 부정\n",
    "y = a5.div()\n",
    "print(y)"
   ]
  },
  {
   "cell_type": "code",
   "execution_count": null,
   "id": "866f9f76-d779-40ab-b95b-663705284b6b",
   "metadata": {},
   "outputs": [],
   "source": [
    "a6 = FourCal(10, 0) # 10 / 0 # 불능\n",
    "y = a6.div()\n",
    "print(y)"
   ]
  },
  {
   "cell_type": "code",
   "execution_count": 138,
   "id": "59b6fadd-8b2d-4c65-8771-ec0aca79836f",
   "metadata": {},
   "outputs": [],
   "source": [
    "class FourCal(Calculator): # 상속\n",
    "    def div(self): # 재정의 : 오버라이드 : override : 상속 받은 메서드를 다시 정의한다\n",
    "        if(self.second == 0):\n",
    "            self.result = 0\n",
    "        else:\n",
    "            self.result = self.first/self.second\n",
    "        return self.result\n",
    "    def sub(self):\n",
    "        self.result = self.first - self.second\n",
    "        return self.result\n",
    "    def mul(self):\n",
    "        self.result = self.first * self.second\n",
    "        return self.result"
   ]
  },
  {
   "cell_type": "code",
   "execution_count": 139,
   "id": "fbc3c80e-9a2a-437a-9e71-000b414a84d7",
   "metadata": {},
   "outputs": [
    {
     "name": "stdout",
     "output_type": "stream",
     "text": [
      "0\n"
     ]
    }
   ],
   "source": [
    "a7 = FourCal(10, 0) # 10 / 0 # 불능\n",
    "y = a7.div() # override된 메서드 사용\n",
    "print(y)"
   ]
  },
  {
   "cell_type": "code",
   "execution_count": 141,
   "id": "8f8f7d03-ff86-4b6a-a309-7702fb90a71e",
   "metadata": {},
   "outputs": [
    {
     "name": "stdout",
     "output_type": "stream",
     "text": [
      "5\n"
     ]
    }
   ],
   "source": [
    "import random\n",
    "# 모듈 : 변수, 상수 , 함수, 클래스를 하나로 묶은 파일  random.py\n",
    "num = random.randint(1,5)\n",
    "print(num)"
   ]
  },
  {
   "cell_type": "code",
   "execution_count": null,
   "id": "7b675c8f-8c63-40ef-ab49-3cd3695e1e43",
   "metadata": {},
   "outputs": [],
   "source": [
    "import mod1\n",
    "num = mod1.randint(10)\n",
    "print(num)\n",
    "y = mod1.calc.add()\n",
    "print(y)\n",
    "print(mod1.PI)"
   ]
  },
  {
   "cell_type": "code",
   "execution_count": null,
   "id": "eb079afd-8376-45fb-98ca-d6bb513fff02",
   "metadata": {},
   "outputs": [],
   "source": [
    "from mod1 import * #  모두 불러옴\n",
    "num = randint(10)\n",
    "print(num)\n",
    "y = calc.add()\n",
    "print(y)\n",
    "print(PI)"
   ]
  },
  {
   "cell_type": "code",
   "execution_count": 3,
   "id": "f5481f81-83f8-4e62-a27b-1ea02580482f",
   "metadata": {},
   "outputs": [
    {
     "name": "stdout",
     "output_type": "stream",
     "text": [
      "10\n",
      "3.141592\n"
     ]
    }
   ],
   "source": [
    "#from mod1 import val #  val만 불러옴\n",
    "#from mod1 import PI\n",
    "from mod1 import val, PI\n",
    "print(val)\n",
    "print(PI)"
   ]
  },
  {
   "cell_type": "code",
   "execution_count": null,
   "id": "50305890-f38a-4978-863d-1fe3fae2ede3",
   "metadata": {},
   "outputs": [],
   "source": [
    "# 스크래핑 : 웹 문서에 있는 코드 모두를 다 가지고 오는 것\n",
    "# 크롤링 : 스크래핑한 코드에서 원하는 내용만 추출해오는 것"
   ]
  },
  {
   "cell_type": "code",
   "execution_count": 5,
   "id": "da1d4607-2367-4517-b3f8-0d4cc8ec2c53",
   "metadata": {},
   "outputs": [
    {
     "data": {
      "text/plain": [
       "('test.png', <http.client.HTTPMessage at 0x1f924e95970>)"
      ]
     },
     "execution_count": 5,
     "metadata": {},
     "output_type": "execute_result"
    }
   ],
   "source": [
    "# 스크래핑\n",
    "import urllib.request\n",
    "url = \"http://uta.pw/shodou/img/28/214.png\"\n",
    "saveFile =\"test.png\"\n",
    "urllib.request.urlretrieve(url, saveFile)"
   ]
  },
  {
   "cell_type": "code",
   "execution_count": 8,
   "id": "13299df5-c492-4650-80d7-040c34639353",
   "metadata": {},
   "outputs": [],
   "source": [
    "import urllib.request\n",
    "url = \"http://uta.pw/shodou/img/28/214.png\"\n",
    "memory = urllib.request.urlopen(url).read()\n",
    "with open(\"test1.png\",\"wb\") as f:\n",
    "    f.write(memory)"
   ]
  },
  {
   "cell_type": "code",
   "execution_count": 11,
   "id": "89b77a36-a1fa-46b7-9723-2f088037803a",
   "metadata": {},
   "outputs": [
    {
     "name": "stdout",
     "output_type": "stream",
     "text": [
      "[ip]\n",
      "API_URI=http://api.aoikujira.com/ip/get.php\n",
      "REMOTE_ADDR=121.160.41.224\n",
      "REMOTE_HOST=121.160.41.224\n",
      "REMOTE_PORT=46730\n",
      "HTTP_HOST=api.aoikujira.com\n",
      "HTTP_USER_AGENT=Python-urllib/3.12\n",
      "HTTP_ACCEPT_LANGUAGE=\n",
      "HTTP_ACCEPT_CHARSET=\n",
      "SERVER_PORT=80\n",
      "FORMAT=ini\n",
      "\n",
      "\n"
     ]
    }
   ],
   "source": [
    "import urllib.request\n",
    "url = \"http://api.aoikujira.com/ip/ini\"\n",
    "memory = urllib.request.urlopen(url).read()\n",
    "text = memory.decode(\"utf-8\") #text로 변환해주세요...\n",
    "print(text)"
   ]
  },
  {
   "cell_type": "code",
   "execution_count": null,
   "id": "b45e864d-f713-43a5-a512-d0dc90cd5a07",
   "metadata": {},
   "outputs": [],
   "source": [
    "# https://search.naver.com/search.naver?where=nexearch&sm=top_hty&fbm=0&ie=utf8&query=종로\n",
    "# <!---------------------------------------------------------------------------------------|> url\n",
    "#        <!--  도메인 ---->      uri\n",
    "#                         <!-----------><!--------------------------------------------------!>쿼리스트링"
   ]
  },
  {
   "cell_type": "code",
   "execution_count": null,
   "id": "dc864e75-1af6-48b8-9341-dc9f22202d3b",
   "metadata": {},
   "outputs": [],
   "source": [
    "import urllib.request\n",
    "url = \"http://www.kma.go.kr/weather/forecast/mid-term-rss3.jsp?stnId=108\"\n",
    "memory = urllib.request.urlopen(url).read()\n",
    "text1 = memory.decode(\"utf-8\") #text로 변환해주세요...\n",
    "print(text1)"
   ]
  },
  {
   "cell_type": "code",
   "execution_count": null,
   "id": "4b24c188-47b8-4372-92d3-1ecf50856beb",
   "metadata": {},
   "outputs": [],
   "source": [
    "import urllib.request\n",
    "import urllib.parse #쿼리스트링 만들기 위해 사용\n",
    "API = \"http://www.kma.go.kr/weather/forecast/mid-term-rss3.jsp\"\n",
    "regionNumber = int(input(\"지역번호를 입력하세요. \"))\n",
    "param = {\"stnId\" : regionNumber} \n",
    "queryString = urllib.parse.urlencode(param)\n",
    "print(queryString)\n",
    "url = API + \"?\" + queryString\n",
    "memory = urllib.request.urlopen(url).read()\n",
    "text1 = memory.decode(\"utf-8\") #text로 변환해주세요...\n",
    "print(text1)"
   ]
  },
  {
   "cell_type": "code",
   "execution_count": 31,
   "id": "f25637e1-a676-4347-9de9-36b467cce86c",
   "metadata": {},
   "outputs": [
    {
     "name": "stdout",
     "output_type": "stream",
     "text": [
      "<h1>스크레이핑이란?</h1>\n",
      "스크레이핑이란?\n",
      "<p>웹 페이지를 분석하는 것</p>\n",
      "웹 페이지를 분석하는 것\n",
      "원하는 부분을 추출하는 것\n"
     ]
    }
   ],
   "source": [
    "# 스크래핑한 데이터\n",
    "html = \"\"\"  \n",
    "<html><body>\n",
    "  <h1>스크레이핑이란?</h1>\n",
    "  <p>웹 페이지를 분석하는 것</p>\n",
    "  <p>원하는 부분을 추출하는 것</p>\n",
    "</body></html>\n",
    "\"\"\"\n",
    "# 크롤링\n",
    "from bs4 import BeautifulSoup\n",
    "soup = BeautifulSoup(html,\"html.parser\")\n",
    "h1 = soup.html.h1\n",
    "print(h1)\n",
    "print(h1.string)\n",
    "p = soup.html.p\n",
    "print(p)\n",
    "print(p.string)\n",
    "p = soup.html.p.next_sibling.next_sibling\n",
    "print(p.string)"
   ]
  },
  {
   "cell_type": "code",
   "execution_count": 38,
   "id": "313a5933-d1b9-4ab4-a2aa-f6415a565fa6",
   "metadata": {},
   "outputs": [
    {
     "name": "stdout",
     "output_type": "stream",
     "text": [
      "스크레이핑이란?\n",
      "스크레이핑이란?\n",
      "스크레이핑이란?\n"
     ]
    }
   ],
   "source": [
    "html = \"\"\"  \n",
    "<html><body>\n",
    "  <h1 id='title'>스크레이핑이란?</h1>\n",
    "  <p id='body'>웹 페이지를 분석하는 것</p>\n",
    "  <p>원하는 부분을 추출하는 것</p>\n",
    "</body></html>\n",
    "\"\"\"\n",
    "from bs4 import BeautifulSoup\n",
    "soup = BeautifulSoup(html,\"html.parser\")\n",
    "h1 = soup.html.h1\n",
    "print(h1.string)\n",
    "title = soup.find(id='title').string\n",
    "print(title)\n",
    "h1 = soup.find(\"h1\").string\n",
    "print(h1)"
   ]
  },
  {
   "cell_type": "code",
   "execution_count": 42,
   "id": "da39de7c-cdd4-4b9e-8e2f-bffed7069da8",
   "metadata": {},
   "outputs": [
    {
     "name": "stdout",
     "output_type": "stream",
     "text": [
      "<a href=\"a.html\" id=\"link\">원하는 부분을 추출하는 것</a>\n",
      "원하는 부분을 추출하는 것\n",
      "{'href': 'a.html', 'id': 'link'}\n",
      "a.html\n"
     ]
    }
   ],
   "source": [
    "html = \"\"\"  \n",
    "<html><body>\n",
    "  <h1 id='title'>스크레이핑이란?</h1>\n",
    "  <p id='body'>웹 페이지를 분석하는 것</p>\n",
    "  <p><a href='a.html' id='link'>원하는 부분을 추출하는 것</a></p>\n",
    "</body></html>\n",
    "\"\"\"\n",
    "from bs4 import BeautifulSoup\n",
    "soup = BeautifulSoup(html,\"html.parser\")\n",
    "a = soup.html.a\n",
    "print(a)\n",
    "print(a.string)\n",
    "attrs = a.attrs \n",
    "print(attrs )\n",
    "print(attrs['href'] )"
   ]
  },
  {
   "cell_type": "code",
   "execution_count": 51,
   "id": "ad8f0eb6-86c1-46cd-ae33-8bfe27014ce1",
   "metadata": {},
   "outputs": [
    {
     "name": "stdout",
     "output_type": "stream",
     "text": [
      "기상청 육상 중기예보\n",
      "기상청 육상 중기예보\n",
      "○ (강수) 14일(목)~15일(금)은 전국에 비(강원산지 비 또는 눈), 16일(토)~17일(일) 전라서해안과 제주도(18일(월)까지)에 비 또는 눈이 오겠습니다.<br />○ (기온) 13일(수)~15일(금) 아침 기온은 -4~16도, 낮 기온은 7~19도로 평년(최저기온 -8~2도, 최고기온 3~10도)보다 높겠고,<br />          16일(토)~20일(수) 아침 기온은 -13~8도, 낮 기온은 -4~10도로 평년보다 낮겠습니다.<br />○ (해상) 13일(수)과 15일(금)~17일(일)은 동해상과 남해상, 제주도해상을 중심으로 물결이 1.0~4.0m로 매우 높게 일겠습니다.<br /><br />* 찬 대륙고기압의 영향으로 16일(토)부터 기온이 큰 폭으로 떨어지며, 17일(일)부터 전국이 영하권으로 추워지겠으니 건강관리에 유의하기 바랍니다.\n",
      "○ (강수) 14일(목)~15일(금)은 전국에 비(강원산지 비 또는 눈), 16일(토)~17일(일) 전라서해안과 제주도(18일(월)까지)에 비 또는 눈이 오겠습니다.<br />○ (기온) 13일(수)~15일(금) 아침 기온은 -4~16도, 낮 기온은 7~19도로 평년(최저기온 -8~2도, 최고기온 3~10도)보다 높겠고,<br />          16일(토)~20일(수) 아침 기온은 -13~8도, 낮 기온은 -4~10도로 평년보다 낮겠습니다.<br />○ (해상) 13일(수)과 15일(금)~17일(일)은 동해상과 남해상, 제주도해상을 중심으로 물결이 1.0~4.0m로 매우 높게 일겠습니다.<br /><br />* 찬 대륙고기압의 영향으로 16일(토)부터 기온이 큰 폭으로 떨어지며, 17일(일)부터 전국이 영하권으로 추워지겠으니 건강관리에 유의하기 바랍니다.\n"
     ]
    }
   ],
   "source": [
    "## 스크래핑\n",
    "import urllib.request\n",
    "url = \"http://www.kma.go.kr/weather/forecast/mid-term-rss3.jsp\"\n",
    "memory = urllib.request.urlopen(url).read() # 스크래핑\n",
    "#크롤링\n",
    "from bs4 import BeautifulSoup\n",
    "soup = BeautifulSoup(memory,\"html.parser\")\n",
    "#print(soup)\n",
    "title = soup.title.string\n",
    "print(title)\n",
    "title = soup.find(\"title\").string\n",
    "print(title)\n",
    "wf = soup.wf.string\n",
    "print(wf)\n",
    "wf = soup.find(\"wf\").string\n",
    "print(wf)"
   ]
  },
  {
   "cell_type": "code",
   "execution_count": 62,
   "id": "260c8c3c-3830-40c8-a5c0-4bacd188fd42",
   "metadata": {},
   "outputs": [
    {
     "name": "stdout",
     "output_type": "stream",
     "text": [
      "<h1>위키북스 도서1111111</h1>\n",
      "위키북스 도서1111111\n",
      "<div id=\"meigen\">\n",
      "<h1>위키북스 도서</h1>\n",
      "<ul class=\"items\">\n",
      "<li>유니티 게임 이펙트 입문</li>\n",
      "<li>스위프트로 시작하는 아이폰 앱 개발 교과서</li>\n",
      "<li>모던 웹사이트 디자인의 정석</li>\n",
      "</ul>\n",
      "</div>\n",
      "위키북스 도서\n",
      "<div id=\"meigen\">\n",
      "<h1>위키북스 도서</h1>\n",
      "<ul class=\"items\">\n",
      "<li>유니티 게임 이펙트 입문</li>\n",
      "<li>스위프트로 시작하는 아이폰 앱 개발 교과서</li>\n",
      "<li>모던 웹사이트 디자인의 정석</li>\n",
      "</ul>\n",
      "</div>\n",
      "위키북스 도서\n",
      "<ul class=\"items\">\n",
      "<li>유니티 게임 이펙트 입문</li>\n",
      "<li>스위프트로 시작하는 아이폰 앱 개발 교과서</li>\n",
      "<li>모던 웹사이트 디자인의 정석</li>\n",
      "</ul>\n",
      "유니티 게임 이펙트 입문\n",
      "유니티 게임 이펙트 입문\n",
      "스위프트로 시작하는 아이폰 앱 개발 교과서\n",
      "모던 웹사이트 디자인의 정석\n"
     ]
    }
   ],
   "source": [
    "text = \"\"\"\n",
    "<html><body>\n",
    "<h1>위키북스 도서1111111</h1>\n",
    "<div>\n",
    "    <h1>이숭무</h1>\n",
    "</div>\n",
    "<div id=\"meigen\">\n",
    "  <h1>위키북스 도서</h1>\n",
    "  <ul class=\"items\">\n",
    "    <li>유니티 게임 이펙트 입문</li>\n",
    "    <li>스위프트로 시작하는 아이폰 앱 개발 교과서</li>\n",
    "    <li>모던 웹사이트 디자인의 정석</li>\n",
    "  </ul>\n",
    "</div>\n",
    "</body></html>\n",
    "\"\"\"\n",
    "from bs4 import BeautifulSoup\n",
    "soup = BeautifulSoup(text, \"html.parser\")\n",
    "h1 = soup.html.h1\n",
    "print(h1)\n",
    "h1 = soup.find(\"h1\")\n",
    "print(h1.string)\n",
    "h1 = soup.find(id=\"meigen\")\n",
    "print(h1)\n",
    "h1 = soup.find(id=\"meigen\").h1.string\n",
    "print(h1)\n",
    "### selector(선택자)를 이용한 크롤링\n",
    "h12 = soup.select_one(\"div#meigen\")\n",
    "print(h12)\n",
    "h12 = soup.select_one(\"div#meigen > h1\").string\n",
    "print(h12)\n",
    "ul1 = soup.select_one(\"div#meigen > ul.items\")\n",
    "print(ul1)\n",
    "li1 = soup.select_one(\"div#meigen > ul.items > li\").string\n",
    "print(li1)\n",
    "li2 = soup.select(\"div#meigen > ul.items > li\")\n",
    "#print(li2) #리스트\n",
    "for li in li2:\n",
    "    print(li.string)"
   ]
  },
  {
   "cell_type": "code",
   "execution_count": 69,
   "id": "5b53e7a3-edae-4d6a-9375-71562d6597b8",
   "metadata": {},
   "outputs": [
    {
     "name": "stdout",
     "output_type": "stream",
     "text": [
      "1,320.00\n",
      "1,320.00\n",
      "910.44\n",
      "1,421.24\n",
      "183.67\n",
      "144.9400\n",
      "1.0762\n",
      "1.2549\n",
      "103.9800\n",
      "71.23\n",
      "1613.63\n",
      "2014.5\n",
      "85178.23\n"
     ]
    }
   ],
   "source": [
    "import urllib.request as req\n",
    "from bs4 import BeautifulSoup\n",
    "url = \"https://finance.naver.com/marketindex/\"\n",
    "memory = req.urlopen(url)\n",
    "\n",
    "soup = BeautifulSoup(memory, \"html.parser\")\n",
    "price = soup.select_one(\"#exchangeList > li.on > a.head.usd > div > span.value\").string\n",
    "print(price)             \n",
    "prices = soup.select(\"div > span.value\")\n",
    "#print(prices)\n",
    "for pri in prices:\n",
    "    print(pri.string)"
   ]
  },
  {
   "cell_type": "code",
   "execution_count": 87,
   "id": "d9c37333-691d-42e8-a511-620026827e22",
   "metadata": {},
   "outputs": [
    {
     "name": "stderr",
     "output_type": "stream",
     "text": [
      "<>:34: SyntaxWarning: invalid escape sequence '\\W'\n",
      "<>:34: SyntaxWarning: invalid escape sequence '\\W'\n",
      "C:\\Users\\soldesk\\AppData\\Local\\Temp\\ipykernel_4688\\466377709.py:34: SyntaxWarning: invalid escape sequence '\\W'\n",
      "  font_name = mpl.font_manager.FontProperties(fname=\"C:\\Windows\\Fonts\\malgun.ttf\").get_name()\n"
     ]
    },
    {
     "data": {
      "image/png": "[encoded data removed]",
      "text/plain": [
       "<Figure size 1200x400 with 1 Axes>"
      ]
     },
     "metadata": {},
     "output_type": "display_data"
    }
   ],
   "source": [
    "import requests # 스크래핑\n",
    "from bs4 import BeautifulSoup # 크롤링\n",
    "import pandas # 데이터분석\n",
    "import matplotlib as mpl # 시각화\n",
    "import matplotlib.pyplot as plt # 시각화\n",
    "# 스크래핑\n",
    "url = \"https://www.weather.go.kr/w/obs-climate/land/city-obs.do\"\n",
    "source = requests.get(url)\n",
    "# 크롤링\n",
    "soup = BeautifulSoup(source.content , 'html.parser')\n",
    "#print(soup)\n",
    "table = soup.find(\"table\", {\"class\":\"table-col\"})\n",
    "#print(table)\n",
    "data = [] \n",
    "for tr in table.find_all('tr'):\n",
    "    tds = list(tr.find_all('td'))\n",
    "    for td in tds:\n",
    "        if td.find('a'):\n",
    "            point = td.find('a').string\n",
    "            temp = tds[5].string\n",
    "            humidity = tds[10].string\n",
    "            data.append([point,temp, humidity])\n",
    "# print(data) # 크롤링\n",
    "# 데이터 저장\n",
    "with open('weather.csv','w',  encoding='utf-8') as f:\n",
    "    f.write('지역,온도,습도\\n')\n",
    "    for l in data:\n",
    "        f.write(f\"{l[0]},{l[1]},{l[2]}\\n\")\n",
    "#테이터 처리\n",
    "df = pandas.read_csv(\"weather.csv\",  encoding='utf-8', index_col='지역' )\n",
    "city_df = df.loc[['서울','인천','대전','대구','광주','부산','울산']]\n",
    "city_df\n",
    "#시각화\n",
    "font_name = mpl.font_manager.FontProperties(fname=\"C:\\Windows\\Fonts\\malgun.ttf\").get_name()\n",
    "mpl.rc('font', family=font_name)\n",
    "ax = city_df.plot(kind='bar' ,title='weather' , figsize=(12,4))\n",
    "plt.show()"
   ]
  },
  {
   "cell_type": "code",
   "execution_count": 40,
   "id": "aa526e93-a05a-4a8a-9bc7-dae2d6a9811d",
   "metadata": {},
   "outputs": [
    {
     "name": "stdout",
     "output_type": "stream",
     "text": [
      "7\n"
     ]
    }
   ],
   "source": [
    "# numpy : NUMeric PYthon \n",
    "#!pip install numpy\n",
    "# 정수, 실수, 문자열, 리스트, 튜플 , 딕셔너리, 집합, 부울\n",
    "# 배열 : numpy : 숫자만 처리하는 배열 \n",
    "import numpy\n",
    "num = numpy.random.randint(10)\n",
    "print(num)"
   ]
  },
  {
   "cell_type": "code",
   "execution_count": 43,
   "id": "1056d12f-23bf-4ce9-9d9f-be6d6eb141fa",
   "metadata": {},
   "outputs": [
    {
     "name": "stdout",
     "output_type": "stream",
     "text": [
      "3\n"
     ]
    }
   ],
   "source": [
    "import numpy as np\n",
    "num = np.random.randint(10)\n",
    "print(num)"
   ]
  },
  {
   "cell_type": "code",
   "execution_count": 45,
   "id": "be0989f9-9a1d-43be-8b8c-579af8255d97",
   "metadata": {},
   "outputs": [
    {
     "name": "stdout",
     "output_type": "stream",
     "text": [
      "[0 9 1 9 1 3]\n"
     ]
    }
   ],
   "source": [
    "# 1차원 배열\n",
    "num1 = np.random.randint(10, size=6)\n",
    "print(num1)"
   ]
  },
  {
   "cell_type": "code",
   "execution_count": 49,
   "id": "c83a56e1-c991-42a7-9640-25f8585ead78",
   "metadata": {},
   "outputs": [
    {
     "name": "stdout",
     "output_type": "stream",
     "text": [
      "[0, 9, 1, 9, 1, 3]\n",
      "[0 9 1 9 1 3]\n",
      "0\n",
      "0\n",
      "1\n",
      "1\n",
      "[1, 9]\n",
      "[1 9]\n"
     ]
    }
   ],
   "source": [
    "l = [0, 9, 1, 9, 1, 3]\n",
    "#    0  1  2  3  4  5\n",
    "print(l)\n",
    "print(num1)\n",
    "print(l[0])\n",
    "print(num1[0])\n",
    "print(l[4])\n",
    "print(num1[4])\n",
    "print(l[2:4])\n",
    "print(num1[2:4])"
   ]
  },
  {
   "cell_type": "code",
   "execution_count": 50,
   "id": "efe2e0dd-aa80-4658-8f2b-11654a41b576",
   "metadata": {},
   "outputs": [
    {
     "name": "stdout",
     "output_type": "stream",
     "text": [
      "[[8 1 2 9 4 8]\n",
      " [6 2 5 4 4 6]]\n"
     ]
    }
   ],
   "source": [
    "# 2차원은 1차원의 집합체\n",
    "num2 = np.random.randint(10, size=(2, 6))\n",
    "print(num2)"
   ]
  },
  {
   "cell_type": "code",
   "execution_count": 56,
   "id": "7906fc8a-8d84-4b8d-ad03-4f7f1d9ea553",
   "metadata": {},
   "outputs": [
    {
     "name": "stdout",
     "output_type": "stream",
     "text": [
      "[[8, 1, 2, 9, 4, 8], [6, 2, 5, 4, 4, 6]]\n",
      "[[8 1 2 9 4 8]\n",
      " [6 2 5 4 4 6]]\n",
      "5\n",
      "5\n",
      "5\n"
     ]
    }
   ],
   "source": [
    "l2 = [[8, 1, 2, 9, 4, 8],[6, 2, 5, 4, 4, 6]]\n",
    "#             0                  1            :index\n",
    "#      0  1  2  3  4  5   0  1  2  3  4  5    : index\n",
    "# 배열 [[8 1 2 9 4 8] [6 2 5 4 4 6]]\n",
    "#            0              1        :행\n",
    "#        0 1 2 3 4 5   0 1 2 3 4 5   : 열\n",
    "print(l2)\n",
    "print(num2)\n",
    "print(l2[1][2])\n",
    "print(num2[1][2]) # 리스트 표기법\n",
    "print(num2[1 , 2])  # [행, 열] : 배열 표기법"
   ]
  },
  {
   "cell_type": "code",
   "execution_count": 66,
   "id": "25974b7f-abfe-43bb-855b-50560e19101a",
   "metadata": {},
   "outputs": [
    {
     "name": "stdout",
     "output_type": "stream",
     "text": [
      "[0, 9, 10, 9, 1, 3]\n",
      "[0 9 1 9 1 3]\n",
      "9\n",
      "9\n",
      "[10, 9]\n",
      "[]\n",
      "[0, 10, 1]\n",
      "[[8 1 2 9 4 8]]\n",
      "[0, 9, 10, 9, 1, 3]\n",
      "[[8 1 2 9 4 8]\n",
      " [6 2 5 4 4 6]]\n",
      "[3, 1, 9, 10, 9, 0]\n",
      "[[6 2 5 4 4 6]\n",
      " [8 1 2 9 4 8]]\n",
      "10\n",
      "[0, 9, 10, 9, 1, 3]\n",
      "1\n",
      "[ 0  9 10  9  1  3]\n"
     ]
    }
   ],
   "source": [
    "# 리스트 : [0, 9, 1, 9, 1, 3]\n",
    "#           0  1  2  3  4  5  : index\n",
    "#         - 6  5  4  3  2  1\n",
    "# 배열  :  [0  9  1  9  1  3]\n",
    "#           0  1  2  3  4  5   : 열번호\n",
    "#         - 6  5  4  3  2  1\n",
    "print(l[-5])\n",
    "print(num1[-5])\n",
    "print(l[2:4])\n",
    "print(num2[2:4])\n",
    "print(l[::2])\n",
    "print(num2[::2])\n",
    "print(l[:])\n",
    "print(num2[:])\n",
    "print(l[::-1])\n",
    "print(num2[::-1])\n",
    "print(l[2])\n",
    "l[2] = 10\n",
    "print(l)\n",
    "print(num1[2])\n",
    "num1[2] = 10\n",
    "print(num1)"
   ]
  },
  {
   "cell_type": "code",
   "execution_count": 68,
   "id": "e1d00320-51a4-4cb7-8cc3-f072248f88c2",
   "metadata": {},
   "outputs": [
    {
     "name": "stdout",
     "output_type": "stream",
     "text": [
      "2\n",
      "2\n",
      "2\n",
      "2\n",
      "2\n",
      "2\n"
     ]
    }
   ],
   "source": [
    "# 리스트 [[8, 1, 2, 9, 4, 8],[6, 2, 5, 4, 4, 6]]\n",
    "#                  0                  1            :index\n",
    "#                 -2                 -1\n",
    "#         0  1  2  3  4  5   0  1  2  3  4  5    : index\n",
    "#        -6  5  4  3  2  1  -6  5  4  3  2  1\n",
    "# 배열 [[8 1 2 9 4 8] [6 2 5 4 4 6]]\n",
    "#            0              1        :행\n",
    "#           -2              -1\n",
    "#        0 1 2 3 4 5   0 1 2 3 4 5   : 열\n",
    "#       -6 5 4 3 2 1  -6 5 4 3 2 1\n",
    "print(l2[0][2])\n",
    "print(num2[0][2])\n",
    "print(num2[0, 2])\n",
    "print(l2[-2][-4])\n",
    "print(num2[-2][-4])\n",
    "print(num2[-2 , -4]) \n",
    "# print(l2[-2 , -4])"
   ]
  },
  {
   "cell_type": "code",
   "execution_count": 69,
   "id": "7ad87f54-e990-4f3d-b676-59f54532be19",
   "metadata": {},
   "outputs": [
    {
     "name": "stdout",
     "output_type": "stream",
     "text": [
      "[[5 9 7 6]\n",
      " [1 8 5 7]\n",
      " [6 2 0 7]]\n"
     ]
    }
   ],
   "source": [
    "num3 = np.random.randint(10, size=(3, 4))\n",
    "print(num3)"
   ]
  },
  {
   "cell_type": "code",
   "execution_count": 70,
   "id": "0cfb20f1-57a1-4bc9-87b6-b647547ec981",
   "metadata": {},
   "outputs": [
    {
     "name": "stdout",
     "output_type": "stream",
     "text": [
      "[[5, 9, 7, 6], [1, 8, 5, 7], [6, 2, 0, 7]]\n"
     ]
    }
   ],
   "source": [
    "l3 = [[5, 9, 7, 6],\n",
    "      [1, 8, 5, 7],\n",
    "      [6, 2, 0, 7]]\n",
    "print(l3)"
   ]
  },
  {
   "cell_type": "code",
   "execution_count": 90,
   "id": "c77d97e4-117b-43e1-869e-24baf982ae26",
   "metadata": {},
   "outputs": [
    {
     "name": "stdout",
     "output_type": "stream",
     "text": [
      "[5, 9, 7, 6]\n",
      "[5 9 7 6]\n",
      "[1, 8, 5]\n",
      "[1 8 5]\n",
      "[1 8 5]\n",
      "[[5, 9, 7, 6], [1, 8, 5, 7]]\n",
      "[[5 9 7 6]\n",
      " [1 8 5 7]]\n",
      "[[5 9]\n",
      " [1 8]]\n",
      "[[5 7]\n",
      " [1 5]]\n",
      "[5, 9, 7, 6]\n",
      "[5 9 7 6]\n",
      "[5 1 6]\n",
      "[9 8]\n",
      "[6 7]\n",
      "[[5 9 7 6]\n",
      " [6 2 0 7]]\n",
      "[[5 7]\n",
      " [6 0]]\n",
      "[[6 7 9 5]\n",
      " [7 5 8 1]\n",
      " [7 0 2 6]]\n",
      "[[6 2 0 7]\n",
      " [1 8 5 7]\n",
      " [5 9 7 6]]\n",
      "[[7 0 2 6]\n",
      " [7 5 8 1]\n",
      " [6 7 9 5]]\n"
     ]
    }
   ],
   "source": [
    "'''\n",
    "배열\n",
    "  0 1 2 3열\n",
    "[[5 9 7 6]    0행   : 1차원배열\n",
    " [1 8 5 7]    1행   : 1차원배열\n",
    " [6 2 0 7]]   2행   : 1차원배열\n",
    "리스트\n",
    "   0  1  2  3 index\n",
    " [[5, 9, 7, 6],  0index\n",
    "  [1, 8, 5, 7],  1index\n",
    "  [6, 2, 0, 7]]  2index\n",
    " '''\n",
    "print(l3[0]) # 0index\n",
    "print(num3[0]) # 0행 : 1차원배열\n",
    "print(l3[1][:3])\n",
    "print(num3[1][:3])\n",
    "print(num3[1, :3])\n",
    "print(l3[:2][:2])\n",
    "print(num3[:2][:2])\n",
    "print(num3[:2, :2])\n",
    "print(num3[:2, ::2])\n",
    "print(l3[:][0])\n",
    "print(num3[:][0])\n",
    "print(num3[:, 0])\n",
    "print(num3[:2 , 1])\n",
    "print(num3[:2 , 3])\n",
    "print(num3[::2 , :])\n",
    "print(num3[::2 , ::2])\n",
    "print(num3[: , ::-1])\n",
    "print(num3[::-1 , :])\n",
    "print(num3[::-1 , ::-1])"
   ]
  },
  {
   "cell_type": "code",
   "execution_count": 97,
   "id": "4e80d4a5-b479-4ede-85c8-bde011bae20e",
   "metadata": {},
   "outputs": [
    {
     "name": "stdout",
     "output_type": "stream",
     "text": [
      "[[5, 9, 7, 6], [1, 80, 5, 7], [6, 2, 0, 7]]\n",
      "[[ 5  9  7  6]\n",
      " [ 1 80  5  7]\n",
      " [ 6  2  0  7]]\n",
      "80\n",
      "[[5, 9, 7, 6], [1, 80, 5, 7], [6, 2, 0, 7]]\n",
      "80\n",
      "[[ 5  9  7  6]\n",
      " [ 1 80  5  7]\n",
      " [ 6  2  0  7]]\n",
      "[[  5   9   7   6]\n",
      " [  1 800   5   7]\n",
      " [  6   2   0   7]]\n"
     ]
    }
   ],
   "source": [
    "print(l3)\n",
    "print(num3)\n",
    "print(l3[1][1])\n",
    "l3[1][1] = 80\n",
    "print(l3)\n",
    "print(num3[1][1])\n",
    "num3[1][1] = 80 # 리스트표기법\n",
    "print(num3)\n",
    "num3[1, 1] = 800 # 배열표기법\n",
    "print(num3)"
   ]
  },
  {
   "cell_type": "code",
   "execution_count": 99,
   "id": "f21b1000-009e-4dc3-9d88-2e8e7d215d2c",
   "metadata": {},
   "outputs": [
    {
     "name": "stdout",
     "output_type": "stream",
     "text": [
      "[6 3 7 7 1 0]\n",
      "[[1 5 9 7]\n",
      " [9 6 4 1]\n",
      " [3 8 1 9]]\n"
     ]
    }
   ],
   "source": [
    "### 배열을 만드는 방법\n",
    "#1. random객체를 사용하는 방법\n",
    "num = np.random.randint(10, size=6)\n",
    "print(num)           \n",
    "num = np.random.randint(10, size=(3,4))\n",
    "print(num)           "
   ]
  },
  {
   "cell_type": "code",
   "execution_count": 112,
   "id": "e99f192d-ef90-4393-bbf4-832a0480b2ce",
   "metadata": {},
   "outputs": [
    {
     "name": "stdout",
     "output_type": "stream",
     "text": [
      "[0 1 2 3 4 5 6 7 8 9]\n",
      "[0 1 2 3 4 5 6 7 8]\n",
      "[[0 1 2]\n",
      " [3 4 5]\n",
      " [6 7 8]]\n",
      "[[ 0  1  2  3]\n",
      " [ 4  5  6  7]\n",
      " [ 8  9 10 11]]\n",
      "[[ 0  1  2]\n",
      " [ 3  4  5]\n",
      " [ 6  7  8]\n",
      " [ 9 10 11]]\n",
      "[[11 12 13]\n",
      " [14 15 16]\n",
      " [17 18 19]\n",
      " [20 21 22]]\n",
      "[1 2 3]\n",
      "[[1 2 3]]\n",
      "[[1]\n",
      " [2]\n",
      " [3]]\n"
     ]
    }
   ],
   "source": [
    "# 2. arange()함수를 사용하는 방법 : 1차원\n",
    "print(np.arange(10)) # range(0,10)\n",
    "m1 = np.arange(9)\n",
    "print(m1)\n",
    "m2 = np.arange(9).reshape(3,3)\n",
    "print(m2)\n",
    "'''\n",
    "m2 = np.arange(9).reshape(3,4)\n",
    "print(m2)\n",
    "'''\n",
    "m3 = np.arange(12).reshape(3,4)\n",
    "print(m3)\n",
    "m4 = np.arange(12).reshape(4,3)\n",
    "print(m4)\n",
    "m5 = np.arange(11, 11+12).reshape(4,3)\n",
    "print(m5)\n",
    "m6 = np.arange(1,4)\n",
    "print(m6)\n",
    "m7 = np.arange(1,4).reshape(1,3)\n",
    "print(m7)\n",
    "m8 = np.arange(1,4).reshape(3,1)\n",
    "print(m8)"
   ]
  },
  {
   "cell_type": "code",
   "execution_count": 117,
   "id": "3d885691-3795-460a-a8eb-f36539ae67df",
   "metadata": {},
   "outputs": [
    {
     "name": "stdout",
     "output_type": "stream",
     "text": [
      "[1 5 7]\n",
      "[1 5 7]\n",
      "[[ 5  9  7  6]\n",
      " [ 1 80  5  7]\n",
      " [ 6  2  0  7]]\n",
      "[[ 5.  9.  7.  6.]\n",
      " [ 1. 80. nan  7.]\n",
      " [ 6.  2.  0. nan]]\n"
     ]
    }
   ],
   "source": [
    "#3. array()함수를 사용하는 방법: 리스트, 튜플\n",
    "m9 =  np.array([1,5,7])\n",
    "print(m9)\n",
    "m10 =  np.array((1,5,7))\n",
    "print(m10)\n",
    "m11 =  np.array([[5, 9, 7, 6], [1, 80, 5, 7], [6, 2, 0, 7]])\n",
    "print(m11)\n",
    "# np.NaN : 결측치 : 값이 없다는 말은 아님, 무슨 값이 있는지 모른다. Not A Number : nan\n",
    "m12 =  np.array([[5, 9, 7, 6], [1, 80, np.NaN, 7], [6, 2, 0, np.NaN]])\n",
    "print(m12)"
   ]
  },
  {
   "cell_type": "code",
   "execution_count": 119,
   "id": "ea2dacad-43d9-4906-9959-97c50627cf8c",
   "metadata": {},
   "outputs": [
    {
     "name": "stdout",
     "output_type": "stream",
     "text": [
      "[1, 2, 3, 3, 2, 1]\n",
      "[4 4 4]\n"
     ]
    }
   ],
   "source": [
    "l1 = [1,2,3]\n",
    "l2 = [3,2,1]\n",
    "result = l1 + l2 # 연결\n",
    "print(result)\n",
    "x = np.array([1,2,3])\n",
    "y = np.array([3,2,1])\n",
    "result = x + y   #  덧셈연산\n",
    "print(result)"
   ]
  },
  {
   "cell_type": "code",
   "execution_count": 126,
   "id": "6cfbe010-7032-4770-9995-59fc2d6508ad",
   "metadata": {},
   "outputs": [
    {
     "name": "stdout",
     "output_type": "stream",
     "text": [
      "[1 2 3]\n",
      "[3 2 1]\n",
      "[1 2 3 3 2 1]\n",
      "[ 1  2  3  3  2  1 99 99 99]\n",
      "[ 1  2  3  3  2  1 99 99 99]\n",
      "[ 1  2  3  3  2  1 99 99 99]\n"
     ]
    }
   ],
   "source": [
    "# 배열을 확장하기 \n",
    "print(x)  # 배열\n",
    "print(y)  # 배열\n",
    "z = np.concatenate([x, y])\n",
    "print(z)\n",
    "v = [99,99,99]\n",
    "z = np.concatenate([x, y,v])\n",
    "print(z)\n",
    "l1 = [1,2,3]\n",
    "l2 = [3,2,1]\n",
    "z = np.concatenate([[1,2,3],[3,2,1],[99,99,99]])\n",
    "print(z)\n",
    "z = np.concatenate([l1,l2,v])\n",
    "print(z)"
   ]
  },
  {
   "cell_type": "code",
   "execution_count": 132,
   "id": "b0664916-aa1c-4d9f-8956-0b1cd90ccd12",
   "metadata": {},
   "outputs": [
    {
     "name": "stdout",
     "output_type": "stream",
     "text": [
      "[[9 8 7]\n",
      " [6 5 4]\n",
      " [9 8 7]\n",
      " [6 5 4]]\n",
      "[[9 8 7]\n",
      " [6 5 4]\n",
      " [9 8 7]\n",
      " [6 5 4]]\n",
      "[[9 8 7 9 8 7]\n",
      " [6 5 4 6 5 4]]\n"
     ]
    }
   ],
   "source": [
    "# 2차원 배열 붙이기\n",
    "x2 = np.array([1, 2, 3])    # 1차원\n",
    "grid = np.array([[9, 8, 7],   # 2차원\n",
    "                 [6, 5, 4]])\n",
    "grid1 = np.array([[9, 8, 7],  # 2차원\n",
    "                 [6, 5, 4]])\n",
    "'''\n",
    "[[9, 8, 7],  # 2차원\n",
    " [6, 5, 4]]\n",
    " \n",
    "[1, 2, 3]\n",
    "'''\n",
    "'''\n",
    "z =  np.concatenate((grid, x2), axis=0) # axis=0 , 열기준, x축기준 # 차원이 달라서 오류 발생\n",
    "print(z)\n",
    "'''\n",
    "'''\n",
    "[[9, 8, 7],  # 2차원\n",
    " [6, 5, 4]]\n",
    "[[9, 8, 7],  # 2차원\n",
    " [6, 5, 4]]\n",
    "''' \n",
    "z =  np.concatenate((grid, grid1), axis=0) # x축기준\n",
    "print(z)\n",
    "z =  np.concatenate((grid, grid1)) # x축기준은 기본 값이다\n",
    "print(z)\n",
    "'''\n",
    "[[9, 8, 7],  [9, 8, 7]\n",
    " [6, 5, 4]] [6, 5, 4]\n",
    "'''\n",
    "z =  np.concatenate((grid, grid1), axis=1) # 행기준,  y축기준\n",
    "print(z)\n",
    "# concatenate는 차원이 같은경우에만 붙는다.\n",
    "'''\n",
    "[[9, 8, 7],  # 2차원\n",
    " [6, 5, 4]]\n",
    "[[9, 8],  # 2차원\n",
    " [6, 5]] \n",
    "'''"
   ]
  },
  {
   "cell_type": "code",
   "execution_count": 140,
   "id": "241f6f66-2577-4c2a-965f-daf7faa51250",
   "metadata": {},
   "outputs": [
    {
     "name": "stdout",
     "output_type": "stream",
     "text": [
      "[1 2 3]\n",
      "[[9 8 7]\n",
      " [6 5 4]]\n",
      "[[1 2 3]\n",
      " [9 8 7]\n",
      " [6 5 4]]\n",
      "[[9 8]\n",
      " [6 5]]\n",
      "[[9 8 9 8 7]\n",
      " [6 5 6 5 4]]\n"
     ]
    }
   ],
   "source": [
    "# 차원이 다른 경우\n",
    "print(x2)\n",
    "print(grid)\n",
    "z = np.vstack((x2,grid ))\n",
    "print(z)\n",
    "'''\n",
    "[[9 8 7] \n",
    " [6 5 4]]\n",
    " [1 2 3]\n",
    "'''\n",
    "grid3 = np.array([[9, 8],[6, 5]])\n",
    "print(grid3)\n",
    "'''\n",
    "[[9 8 7]   [[9 8]\n",
    " [6 5 4]]  [6 5]]\n",
    " '''\n",
    "z = np.hstack((grid3, grid1))\n",
    "print(z)"
   ]
  },
  {
   "cell_type": "code",
   "execution_count": null,
   "id": "4fd89bf7-e0e4-4cd8-8fca-90075b27b80f",
   "metadata": {},
   "outputs": [],
   "source": []
  }
 ],
 "metadata": {
  "kernelspec": {
   "display_name": "Python 3 (ipykernel)",
   "language": "python",
   "name": "python3"
  },
  "language_info": {
   "codemirror_mode": {
    "name": "ipython",
    "version": 3
   },
   "file_extension": ".py",
   "mimetype": "text/x-python",
   "name": "python",
   "nbconvert_exporter": "python",
   "pygments_lexer": "ipython3",
   "version": "3.12.0"
  }
 },
 "nbformat": 4,
 "nbformat_minor": 5
}
