{
 "cells": [
  {
   "cell_type": "code",
   "execution_count": 10,
   "id": "f848a9d3-ce09-46a1-9416-903df1660f50",
   "metadata": {},
   "outputs": [
    {
     "ename": "SyntaxError",
     "evalue": "invalid syntax (2229826741.py, line 5)",
     "output_type": "error",
     "traceback": [
      "\u001b[1;36m  Cell \u001b[1;32mIn[10], line 5\u001b[1;36m\u001b[0m\n\u001b[1;33m    else:\u001b[0m\n\u001b[1;37m    ^\u001b[0m\n\u001b[1;31mSyntaxError\u001b[0m\u001b[1;31m:\u001b[0m invalid syntax\n"
     ]
    }
   ],
   "source": [
    "'''\n",
    "money =  False\n",
    "if money:\n",
    "    print(\"차를 타고가시오\")  \n",
    "print(\"돈이 있어요\")\n",
    "else:\n",
    "    \n",
    "''' # 오류 발생 : 파이썬은 else문 앞에 if문이 없다고 생각한다.\n"
   ]
  },
  {
   "cell_type": "code",
   "execution_count": 15,
   "id": "0b0fcd64-c0f9-4bfd-b294-1892a2c1cc30",
   "metadata": {},
   "outputs": [
    {
     "name": "stdout",
     "output_type": "stream",
     "text": [
      "차를 타고가시오\n",
      "돈이 있어요\n",
      "프로그램을 종료합니다.\n"
     ]
    }
   ],
   "source": [
    "money = True\n",
    "if money :\n",
    "    print(\"차를 타고가시오\")  # if문\n",
    "print(\"돈이 있어요\") # 밖에 있는 명령어\n",
    "    print(\"프로그램을 종료합니다.\") #어디에도 소속되지 않으므로 오류 발생"
   ]
  },
  {
   "cell_type": "code",
   "execution_count": 17,
   "id": "4fc7619b-37c8-469c-98a6-2f6df4d2f0c3",
   "metadata": {},
   "outputs": [
    {
     "name": "stdout",
     "output_type": "stream",
     "text": [
      "차를 타고가시오\n",
      "돈이 있어요\n",
      "프로그램을 종료합니다.\n"
     ]
    }
   ],
   "source": [
    "money = True\n",
    "if money :\n",
    "    print(\"차를 타고가시오\")  # if문\n",
    "    print(\"돈이 있어요\") # if문\n",
    "        print(\"프로그램을 종료합니다.\")#어디에도 소속되지 않으므로 오류 발생"
   ]
  },
  {
   "cell_type": "code",
   "execution_count": 19,
   "id": "fdfed1ca-6cf7-4d1f-aafc-f474e05bbeec",
   "metadata": {},
   "outputs": [
    {
     "data": {
      "text/plain": [
       "False"
      ]
     },
     "execution_count": 19,
     "metadata": {},
     "output_type": "execute_result"
    }
   ],
   "source": [
    "# if문 뒤의 조건식에는 부울 타입의 결과가 와야 한다. 비교연산자의 결과는 부울 타입이다.\n",
    "# if문 뒤의 조건식에는 비교연산자가 와얀한다.\n",
    "# 조건식에 논리연산이 올 수 있다. \n",
    "# 논리 연산은 부울 타입으로 연산을 하는 것이므로 부울 타입인 결과를 가지는 비교연산과 같이 사용해야한다.\n",
    "# !는 not을 의미하며 not을 의미한다.\n",
    "x = 3\n",
    "y = 5\n",
    "x > y\n",
    "x < y\n",
    "if x > y: # True일 때의 명령어를 적어준다.\n",
    "    print(\"x가 크다\")\n",
    "else: # False일 때의 명령어를 적어준다.\n",
    "    print(\"x가 작다\")"
   ]
  },
  {
   "cell_type": "code",
   "execution_count": 31,
   "id": "b47b34df-9f30-436b-a8af-458eea6bcfd8",
   "metadata": {},
   "outputs": [
    {
     "name": "stdout",
     "output_type": "stream",
     "text": [
      "걸어가시오\n"
     ]
    }
   ],
   "source": [
    "# 돈이 3000이 있다면 차를 타고 가고 3000원 보다 작다면 걸어가시오\n",
    "money = 2000\n",
    "if money >= 3000:\n",
    "    print(\"차를 타고 가시오\")\n",
    "else:\n",
    "    print(\"걸어가시오\")"
   ]
  },
  {
   "cell_type": "code",
   "execution_count": 33,
   "id": "2063bf72-4454-49e6-a9c4-18082219a58b",
   "metadata": {},
   "outputs": [
    {
     "name": "stdout",
     "output_type": "stream",
     "text": [
      "합격\n"
     ]
    }
   ],
   "source": [
    "# 이때 각 과목의 점수는 40이상이어야 하며 평균은 60점이상 이어야 한다.\n",
    "# 조건에 만족하면 합격 아니면 불합격 , 수학 , 영어, 국어\n",
    "mat = 40\n",
    "eng = 60\n",
    "kor = 90\n",
    "if kor >= 40 and eng >= 40 and mat >= 40 and (kor+mat+eng) / 3 >= 60:# True\n",
    "    print(\"합격\")\n",
    "else: # False\n",
    "    print(\"불합격\")\n",
    "result = kor >= 40 and eng >= 40 and mat >= 40 and (kor+mat+eng) / 3 >= 60\n",
    "if result:\n",
    "    print(\"합격\")\n",
    "else: # False\n",
    "    print(\"불합격\")\n",
    "# 단일 if : else문 없이 if문 : 참일 때만 샐행\n",
    "# if ~ else : 참일때와 거짓일 때의 실향 결과를 다르게 하고 싶을 때:두개중 하나 선택"
   ]
  },
  {
   "cell_type": "code",
   "execution_count": 51,
   "id": "6f20446b-5401-4a2c-bdbd-4c13b99c48c9",
   "metadata": {},
   "outputs": [
    {
     "name": "stdout",
     "output_type": "stream",
     "text": [
      "True\n",
      "False\n",
      "True\n",
      "False\n",
      "True\n",
      "False\n",
      "True\n",
      "False\n",
      "True\n",
      "True\n",
      "True\n",
      "True\n",
      "False\n",
      "True\n",
      "True\n"
     ]
    }
   ],
   "source": [
    "#in연산자 사용하기 : 포함하고 있습니까?  포함하고 있으면 True, 포함하고 있지 않으면 False\n",
    "print(5 in [1,2,3,4,5]) # 리스트 안에 5가 포함되어 있나요?\n",
    "print(7 in [1,2,3,4,5])\n",
    "l = [1,2,3,4,5]\n",
    "print(5 in l)\n",
    "print(7 in l)\n",
    "print( 7 not in [1,2,3,4,5]) # not in은 포함되어 있지 않을 때 True, 포함되어 있으면 False\n",
    "print( 5 not in l) #리스트에 5가 포함되어 있지않나요?\n",
    "print( 'y' in 'Python') # Python이라는 문자열 안에 'y'문자가 있나요?\n",
    "print( '이숭무' in 'Python') # Python이라는 문자열 안에 '이숭무'리는 글자가 있나요?\n",
    "print( '이숭무' not in 'Python') \n",
    "print( 'th' in 'Python') \n",
    "print( 7 not in (1,2,3,4,5)) #튜플 안에 7이 없나요?\n",
    "print( 1 in {1:'이', 2:'숭'}) # 딕셔너리에서는 키가 있는지 물어본다.\n",
    "print( 3 in {1:'이', 2:'숭'})\n",
    "print( 3 not in {1:'이', 2:'숭'})\n",
    "dic = {1:'이', 2:'숭'}\n",
    "print( 1 in dic) # dic이라는 딕셔너리에 1이라는 키가 있는가?"
   ]
  },
  {
   "cell_type": "code",
   "execution_count": 53,
   "id": "7d144cb0-4959-4515-b846-cb48b5fe880e",
   "metadata": {},
   "outputs": [
    {
     "name": "stdout",
     "output_type": "stream",
     "text": [
      "리스트에 5가 포함되어 있다\n",
      "7이 포함되어 있지 않습니다\n",
      "포함되어 있다\n"
     ]
    }
   ],
   "source": [
    "if 5 in [1,2,3,4,5]:\n",
    "    print(\"리스트에 5가 포함되어 있다\")\n",
    "else:\n",
    "    print(\"리스트에 5가 포함되어 있지 않다\")\n",
    "if 7 not in [1,2,3,4,5]:\n",
    "    print(\"7이 포함되어 있지 않습니다\")\n",
    "else:\n",
    "    print(\"7이 포함되어 있지 않습니다\")\n",
    "str1 = \"python\"\n",
    "if 'py' in str1:\n",
    "    print(\"포함되어 있다\")\n",
    "else:\n",
    "    print(\"포함되어 있지 않다/\")\n",
    "if '이숭무' in str1:\n",
    "    print(\"포함되어 있다\")\n",
    "else:\n",
    "    print(\"포함되어 있지 않다/\")\n",
    "if '이숭무' not in str1:\n",
    "    print(\"포함되어 있 지 않다\")\n",
    "else:\n",
    "    print(\"포함되어 있다\")\n",
    "\n",
    "pocket = ['paper', 'cellphone', 'money']\n",
    "if 'paper' in pocket:\n",
    "    print(\"포함되어 있다\")\n",
    "else:\n",
    "    print(\"포함되어 있지 않다\")\n",
    "if 'paper' not in pocket:\n",
    "    print(\"포함되어 있지 않다\")\n",
    "else:\n",
    "    print(\"포함되어 있다\")"
   ]
  },
  {
   "cell_type": "code",
   "execution_count": 63,
   "id": "4ba9e753-6670-4ec7-a3e1-267deb17b1f9",
   "metadata": {},
   "outputs": [
    {
     "name": "stdout",
     "output_type": "stream",
     "text": [
      "C\n"
     ]
    }
   ],
   "source": [
    "# 조건이 여러개인 경우\n",
    "# 학점(score)이 90이상이면 A, 80이상이면 B, 70이상이면 C, 60이상이면 D, 그렇지 않으면 F\n",
    "score = 79\n",
    "if score >= 90: # 90 이상\n",
    "    print(\"A\")\n",
    "else: # 0 ~ 89\n",
    "    if score >= 80: # 80 ~ 89\n",
    "        print(\"B\")\n",
    "    else: # 0 ~ 79\n",
    "        if score >= 70: # 70 ~ 79\n",
    "            print(\"C\")\n",
    "        else: # 0 ~ 69:\n",
    "            if score >= 60: # 60 ~ 69\n",
    "                print(\"D\")\n",
    "            else: # 0 ~ 59\n",
    "                print(\"F\")            "
   ]
  },
  {
   "cell_type": "code",
   "execution_count": 64,
   "id": "72c3344b-4f88-4194-a471-5723249b9592",
   "metadata": {},
   "outputs": [
    {
     "name": "stdout",
     "output_type": "stream",
     "text": [
      "C\n"
     ]
    }
   ],
   "source": [
    "if score >= 90: # 90 이상\n",
    "    print(\"A\")\n",
    "elif score >= 80: # 80 ~ 89\n",
    "    print(\"B\")\n",
    "elif score >= 70: # 70 ~ 79\n",
    "    print(\"C\")\n",
    "elif score >= 60: # 60 ~ 69\n",
    "    print(\"D\")\n",
    "else: # 0 ~ 59\n",
    "    print(\"F\")   \n",
    "# 단일 if문, if ~ else \n",
    "# if ~ elif ~ else"
   ]
  },
  {
   "cell_type": "code",
   "execution_count": 65,
   "id": "e68cbefd-2379-4867-bc0d-03f3673e453a",
   "metadata": {},
   "outputs": [
    {
     "name": "stdout",
     "output_type": "stream",
     "text": [
      "C+\n"
     ]
    }
   ],
   "source": [
    "# 중첩 if문\n",
    "### 95이상이면 A+ 이하면 A\n",
    "### 85이상이면 B+ 이하면 B\n",
    "### 75이상이면 C+ 이하면 C\n",
    "### 65이상이면 D+ 이하면 D\n",
    "###  그렇지 않으면 F\n",
    "if score >= 90: # 90 이상\n",
    "    if score >= 95:\n",
    "        message = \"A+\"\n",
    "    else: # 90 ~ 94\n",
    "        message = \"A\"\n",
    "elif score >= 80: # 80 ~ 89\n",
    "    if score >= 85:\n",
    "        message = \"B+\"\n",
    "    else:\n",
    "        message = \"B\"\n",
    "elif score >= 70: # 70 ~ 79\n",
    "    if score >= 75:\n",
    "        message = \"C+\"\n",
    "    else:\n",
    "        message = \"C\"\n",
    "elif score >= 60: # 60 ~ 69\n",
    "    if score >= 65:\n",
    "        message = \"D+\"\n",
    "    else:\n",
    "        message = \"D\"\n",
    "else: # 0 ~ 59\n",
    "    message = \"F\"\n",
    "print(message)\n",
    "# 단일 if문, if ~ else , if ~ elif ~ else, 중첩 if"
   ]
  },
  {
   "cell_type": "code",
   "execution_count": 67,
   "id": "1611bda0-457a-4bc0-a7ae-48ecee6e7f56",
   "metadata": {},
   "outputs": [
    {
     "name": "stdout",
     "output_type": "stream",
     "text": [
      "success\n",
      "success\n"
     ]
    }
   ],
   "source": [
    "'''\n",
    "score가 60이상이면 message 변수에 success를,  아니면 message 에 failure를 \n",
    "저장한 후 출력\n",
    "'''\n",
    "score = 78\n",
    "if score >= 60:\n",
    "    message = 'success'\n",
    "else:\n",
    "    message = 'failure'\n",
    "print(message)\n",
    "# 조건부 표현식 #파이썬에서 사용하는 방식\n",
    "message = 'success' if score >= 60 else 'failure'\n",
    "print(message)"
   ]
  },
  {
   "cell_type": "code",
   "execution_count": 68,
   "id": "5d20c39e-ab20-4001-a045-965c08cf691f",
   "metadata": {},
   "outputs": [
    {
     "name": "stdout",
     "output_type": "stream",
     "text": [
      "C\n"
     ]
    }
   ],
   "source": [
    "score = 79\n",
    "if score >= 90: # 90 이상\n",
    "    message = \"A\"\n",
    "else: # 0 ~ 89\n",
    "    if score >= 80: # 80 ~ 89\n",
    "        message = \"B\"\n",
    "    else: # 0 ~ 79\n",
    "        if score >= 70: # 70 ~ 79\n",
    "            message = \"C\" \n",
    "        else: # 0 ~ 69:\n",
    "            if score >= 60: # 60 ~ 69\n",
    "                message = \"D\"\n",
    "            else: # 0 ~ 59\n",
    "                message = \"F\"     \n",
    "print(message)"
   ]
  },
  {
   "cell_type": "code",
   "execution_count": 69,
   "id": "95921842-cab9-4e74-bc3e-4f3c32dd95e7",
   "metadata": {},
   "outputs": [
    {
     "name": "stdout",
     "output_type": "stream",
     "text": [
      "C\n"
     ]
    }
   ],
   "source": [
    "message = \"A\" if score >= 90 else(\n",
    "          \"B\" if score >= 80 else(\n",
    "          \"C\" if score >= 70 else(\n",
    "          \"D\" if score >= 60 else \"F\"\n",
    "          )))\n",
    "print(message)"
   ]
  },
  {
   "cell_type": "code",
   "execution_count": 75,
   "id": "055d815d-97c4-4f05-b938-09d165e8d6bb",
   "metadata": {},
   "outputs": [
    {
     "name": "stdout",
     "output_type": "stream",
     "text": [
      "-10\n",
      "-10\n"
     ]
    }
   ],
   "source": [
    "# if문을 이용한 사직연산 \n",
    "a = 10; b = 20; opt = \"sub\"\n",
    "if opt == \"add\":\n",
    "    message = a + b\n",
    "elif opt == \"sub\":\n",
    "    message = a - b\n",
    "elif opt == \"mul\":\n",
    "    message = a * b\n",
    "else:\n",
    "    message = a / b\n",
    "print(message)\n",
    "# python style\n",
    "message = a + b if opt == \"add\" else(\n",
    "          a - b if opt == \"sub\" else(\n",
    "          a * b if opt == \"mul\" else \n",
    "          a / b ))\n",
    "print(message)"
   ]
  },
  {
   "cell_type": "code",
   "execution_count": 78,
   "id": "3e79c728-8755-4695-b6a8-ad68bd5c0b38",
   "metadata": {},
   "outputs": [
    {
     "name": "stdout",
     "output_type": "stream",
     "text": [
      "나무를 1번 찍었습니다.\n",
      "나무를 2번 찍었습니다.\n",
      "나무를 3번 찍었습니다.\n",
      "나무를 4번 찍었습니다.\n",
      "나무를 5번 찍었습니다.\n",
      "나무를 6번 찍었습니다.\n",
      "나무를 7번 찍었습니다.\n",
      "나무를 8번 찍었습니다.\n",
      "나무를 9번 찍었습니다.\n",
      "나무를 10번 찍었습니다.\n",
      "나무가 넘어갑니다.\n",
      "나무를 2번 찍었습니다.\n"
     ]
    }
   ],
   "source": [
    "# 반복문  :반복적으로 사용해야하는 명령어 \n",
    "print(\"나무를 1번 찍었습니다.\")\n",
    "print(\"나무를 2번 찍었습니다.\")\n",
    "print(\"나무를 3번 찍었습니다.\")\n",
    "print(\"나무를 4번 찍었습니다.\")\n",
    "print(\"나무를 5번 찍었습니다.\")\n",
    "print(\"나무를 6번 찍었습니다.\")\n",
    "print(\"나무를 7번 찍었습니다.\")\n",
    "print(\"나무를 8번 찍었습니다.\")\n",
    "print(\"나무를 9번 찍었습니다.\")\n",
    "print(\"나무를 10번 찍었습니다.\")\n",
    "print(\"나무가 넘어갑니다.\")\n",
    "\n",
    "num = 10\n",
    "print(\"나무를 %d번 찍었습니다.\" % num)\n",
    "\n"
   ]
  },
  {
   "cell_type": "code",
   "execution_count": null,
   "id": "460533a5-4c5d-456f-a03f-7a523e78d325",
   "metadata": {},
   "outputs": [],
   "source": [
    "num = 1\n",
    "num = num + 1 # num = 1 + 1 = 2\n",
    "num = num + 1 # num = 2 + 1 = 3\n",
    "num = num + 1 # num = 3 + 1 = 4\n",
    "...\n",
    "num = num + 1 # num = 8 + 1 = 9\n",
    "num = num + 1 # num = 9 + 1 = 10\n",
    "num = num + 1 # num = 10 + 1 = 11\n"
   ]
  },
  {
   "cell_type": "code",
   "execution_count": 86,
   "id": "5b0d623b-cee5-40fa-90ff-f1e226d6be29",
   "metadata": {},
   "outputs": [
    {
     "name": "stdout",
     "output_type": "stream",
     "text": [
      "나무를 1번 찍었습니다.\n",
      "나무를 2번 찍었습니다.\n",
      "나무를 3번 찍었습니다.\n",
      "나무를 4번 찍었습니다.\n",
      "나무를 5번 찍었습니다.\n",
      "나무를 6번 찍었습니다.\n",
      "나무를 7번 찍었습니다.\n",
      "나무를 8번 찍었습니다.\n",
      "나무를 9번 찍었습니다.\n",
      "나무를 10번 찍었습니다.\n",
      "나무가 넘어갑니다.\n"
     ]
    }
   ],
   "source": [
    "num = 1\n",
    "while num <= 10: # start = 1, stop = 11\n",
    "    #print(\"나무를 %d번 찍었습니다.\" % num)\n",
    "    #print(\"나무를 {0}번 찍었습니다.\".format(num)) \n",
    "    print(f\"나무를 {num}번 찍었습니다.\")\n",
    "    num = num + 1 # 2, 3, 4, ..., 9, 10, 11\n",
    "print(\"나무가 넘어갑니다.\")"
   ]
  },
  {
   "cell_type": "code",
   "execution_count": 92,
   "id": "750822ae-e117-49f7-bff4-ec010cda345e",
   "metadata": {},
   "outputs": [
    {
     "name": "stdout",
     "output_type": "stream",
     "text": [
      "8 * 1 = 8\n",
      "8 * 2 = 16\n",
      "8 * 3 = 24\n",
      "8 * 4 = 32\n",
      "8 * 5 = 40\n",
      "8 * 6 = 48\n",
      "8 * 7 = 56\n",
      "8 * 8 = 64\n",
      "8 * 9 = 72\n",
      "8 * 1 = 8\n",
      "8 * 2 = 16\n",
      "8 * 3 = 24\n",
      "8 * 4 = 32\n",
      "8 * 5 = 40\n",
      "8 * 6 = 48\n",
      "8 * 7 = 56\n",
      "8 * 8 = 64\n",
      "8 * 9 = 72\n"
     ]
    }
   ],
   "source": [
    "# 구구단\n",
    "# 8단\n",
    "'''\n",
    "8  * 1 = 8    # (8 * 1)\n",
    "8  * 2 = 16   \n",
    "8  * 3 = 24\n",
    "8  * 4 = 32\n",
    "8  * 5 = 40\n",
    "...\n",
    "8  * 9 = 72\n",
    "'''\n",
    "print(f\"8 * 1 = {8 * 1}\")\n",
    "print(f\"8 * 2 = {8 * 2}\")\n",
    "print(f\"8 * 3 = {8 * 3}\")\n",
    "print(f\"8 * 4 = {8 * 4}\")\n",
    "print(f\"8 * 5 = {8 * 5}\")\n",
    "print(f\"8 * 6 = {8 * 6}\")\n",
    "print(f\"8 * 7 = {8 * 7}\")\n",
    "print(f\"8 * 8 = {8 * 8}\")\n",
    "print(f\"8 * 9 = {8 * 9}\")\n",
    "start = 1\n",
    "end = 10\n",
    "while start < end:\n",
    "    print(f\"8 * {start} = {8 * start}\")\n",
    "    start = start + 1"
   ]
  },
  {
   "cell_type": "code",
   "execution_count": null,
   "id": "7ced812b-fd16-474e-853e-c43aa3b74d2d",
   "metadata": {},
   "outputs": [],
   "source": [
    "dan = int(input(\"단을 입력해주세요. : \"))\n",
    "start = 1\n",
    "end = 10\n",
    "while start < end:\n",
    "    print(f\"{dan} * {start} = {dan * start}\")\n",
    "    start = start + 1"
   ]
  },
  {
   "cell_type": "code",
   "execution_count": null,
   "id": "47ec146d-9a97-434a-b88b-b5fb8fcac5f2",
   "metadata": {},
   "outputs": [],
   "source": [
    "dan = int(input(\"단을 입력해주세요. : \"))\n",
    "startGop = int(input(\"시작곱을 입력해주세요. : \"))\n",
    "endGop = int(input(\"마지막곱을 입력해주세요. : \"))\n",
    "while startGop <= endGop:\n",
    "    print(f\"{dan} * {startGop} = {dan * startGop}\")\n",
    "    startGop = startGop + 1"
   ]
  },
  {
   "cell_type": "code",
   "execution_count": 173,
   "id": "46811d7e-c2a9-4940-a739-0d8162146c9e",
   "metadata": {},
   "outputs": [
    {
     "name": "stdout",
     "output_type": "stream",
     "text": [
      "4\n",
      "5\n",
      "5\n",
      "[1, 2, 3, 4, 6]\n"
     ]
    }
   ],
   "source": [
    "import random\n",
    "idx = random.randint(0, 5) # 0,1,2,3,4,5\n",
    "print(idx)\n",
    "l = [1,2,3,4,5,6]\n",
    "#    0 1 2 3 4 5\n",
    "print(l[idx]) #l[1]\n",
    "result = l.pop(idx)\n",
    "print(result)\n",
    "print(l)"
   ]
  },
  {
   "cell_type": "code",
   "execution_count": 204,
   "id": "33e1bb81-601a-41bf-b0dd-35e06cfdc5e8",
   "metadata": {},
   "outputs": [
    {
     "name": "stdout",
     "output_type": "stream",
     "text": [
      "23,28,16,45,25,7,"
     ]
    }
   ],
   "source": [
    "import random\n",
    "lotto = []\n",
    "'''\n",
    "lotto.append(1)\n",
    "lotto.append(2)\n",
    "lotto.append(3)\n",
    "lotto.append(4)\n",
    "...\n",
    "lotto.append(45)\n",
    "'''\n",
    "i = 1\n",
    "while i <= 45:\n",
    "    lotto.append(i)\n",
    "    i += 1 # i = i + 1\n",
    "#print(lotto)\n",
    "size = len(lotto)\n",
    "#print(size)\n",
    "y = 1\n",
    "while y <= 6:\n",
    "    size -= 1 # 44, 43,42\n",
    "    idx = random.randint(0, size)\n",
    "    #print(l[idx])\n",
    "    result = lotto.pop(idx)    \n",
    "    print(result, end=\",\")\n",
    "    y += 1"
   ]
  },
  {
   "cell_type": "code",
   "execution_count": 206,
   "id": "b2edded7-a8ff-4405-b4c9-f26f06980d64",
   "metadata": {},
   "outputs": [
    {
     "name": "stdout",
     "output_type": "stream",
     "text": [
      "3 * 1 = 3\n",
      "3 * 2 = 6\n",
      "3 * 3 = 9\n",
      "3 * 4 = 12\n",
      "3 * 5 = 15\n",
      "3 * 6 = 18\n",
      "3 * 7 = 21\n",
      "3 * 8 = 24\n",
      "3 * 9 = 27\n",
      "4 * 1 = 4\n",
      "4 * 2 = 8\n",
      "4 * 3 = 12\n",
      "4 * 4 = 16\n",
      "4 * 5 = 20\n",
      "4 * 6 = 24\n",
      "4 * 7 = 28\n",
      "4 * 8 = 32\n",
      "4 * 9 = 36\n",
      "5 * 1 = 5\n",
      "5 * 2 = 10\n",
      "5 * 3 = 15\n",
      "5 * 4 = 20\n",
      "5 * 5 = 25\n",
      "5 * 6 = 30\n",
      "5 * 7 = 35\n",
      "5 * 8 = 40\n",
      "5 * 9 = 45\n"
     ]
    }
   ],
   "source": [
    "#3단\n",
    "start = 1\n",
    "while start < 10:\n",
    "    print(f\"3 * {start} = {3 * start}\")\n",
    "    start = start + 1\n",
    "#4단\n",
    "start = 1\n",
    "while start < 10:\n",
    "    print(f\"4 * {start} = {4 * start}\")\n",
    "    start = start + 1\n",
    "#5단\n",
    "start = 1\n",
    "while start < 10:\n",
    "    print(f\"5 * {start} = {5 * start}\")\n",
    "    start = start + 1\n",
    "#6단\n",
    "start = 1\n",
    "while start < 10:\n",
    "    print(f\"6 * {start} = {6 * start}\")\n",
    "    start = start + 1"
   ]
  },
  {
   "cell_type": "code",
   "execution_count": 213,
   "id": "d747bb63-3488-4509-9640-045de5d028e6",
   "metadata": {},
   "outputs": [],
   "source": [
    "# 중첩 반복문 : 반복문이 반복이 될 때\n",
    "dan = 3\n",
    "while dan <= 5:\n",
    "    start = 1\n",
    "    while start < 10:\n",
    "        print(f\"{dan} * {start} = {dan * start}\")\n",
    "        start = start + 1\n",
    "    dan += 1"
   ]
  },
  {
   "cell_type": "code",
   "execution_count": 212,
   "id": "702706a1-6a9f-4468-9dac-b23847d7ac4f",
   "metadata": {},
   "outputs": [
    {
     "name": "stdin",
     "output_type": "stream",
     "text": [
      "시작 단을 입력해주세요, :  3\n",
      "마지막 단을 입력해주세요, :  5\n",
      "시작곱을 입력해주세요. :  4\n",
      "마지막곱을 입력해주세요. :  7\n"
     ]
    },
    {
     "name": "stdout",
     "output_type": "stream",
     "text": [
      "3 * 4 = 12\n",
      "3 * 5 = 15\n",
      "3 * 6 = 18\n",
      "3 * 7 = 21\n",
      "4 * 4 = 16\n",
      "4 * 5 = 20\n",
      "4 * 6 = 24\n",
      "4 * 7 = 28\n",
      "5 * 4 = 20\n",
      "5 * 5 = 25\n",
      "5 * 6 = 30\n",
      "5 * 7 = 35\n"
     ]
    }
   ],
   "source": [
    "dan = int(input(\"시작 단을 입력해주세요, : \"))\n",
    "endDan = int(input(\"마지막 단을 입력해주세요, : \"))\n",
    "startGop = int(input(\"시작곱을 입력해주세요. : \"))\n",
    "endGop = int(input(\"마지막곱을 입력해주세요. : \"))\n",
    "while dan <= endDan:\n",
    "    gop = startGop\n",
    "    while gop <= endGop:\n",
    "        print(f\"{dan} * {gop} = {dan * gop}\")\n",
    "        gop = gop + 1\n",
    "    dan += 1"
   ]
  },
  {
   "cell_type": "code",
   "execution_count": 222,
   "id": "46f59d22-a7fb-4a58-8c11-5d106e95c282",
   "metadata": {},
   "outputs": [
    {
     "name": "stdin",
     "output_type": "stream",
     "text": [
      "구매 수량을 입력해주세요 :  3\n"
     ]
    },
    {
     "name": "stdout",
     "output_type": "stream",
     "text": [
      "13,40,16,3,45,4,\n",
      "8,24,31,20,16,29,\n",
      "2,23,28,30,13,10,\n"
     ]
    }
   ],
   "source": [
    "import random\n",
    "count = int(input(\"구매 수량을 입력해주세요 : \"))\n",
    "cnt = 1\n",
    "lotto = []\n",
    "while cnt <= count:\n",
    "    i = 1\n",
    "    while i <= 45:\n",
    "        lotto.append(i)\n",
    "        i += 1 \n",
    "    size = len(lotto)\n",
    "    y = 1\n",
    "    while y <= 6:\n",
    "        size -= 1 \n",
    "        idx = random.randint(0, size)\n",
    "        result = lotto.pop(idx)    \n",
    "        print(result, end=\",\")\n",
    "        y += 1\n",
    "    lotto.clear()\n",
    "    print() \n",
    "    cnt += 1"
   ]
  },
  {
   "cell_type": "code",
   "execution_count": 224,
   "id": "4989b1e6-169e-4272-9eb3-ba220093b562",
   "metadata": {},
   "outputs": [
    {
     "name": "stdout",
     "output_type": "stream",
     "text": [
      "5050\n"
     ]
    }
   ],
   "source": [
    "### 1 ~ 100까지의 합을 구하시오.\n",
    "'''\n",
    "sum = 0\n",
    "sum = sum + 1\n",
    "sum = sum + 2\n",
    "sum = sum + 3\n",
    "sum = sum + 4\n",
    "sum = sum + 5\n",
    "sum = sum + 6\n",
    "sum = sum + 7\n",
    "...\n",
    "sum = sum + 100\n",
    "'''\n",
    "sum = 0\n",
    "i = 1\n",
    "while i <= 100:\n",
    "    sum = sum + i\n",
    "    i += 1\n",
    "print(sum)"
   ]
  },
  {
   "cell_type": "code",
   "execution_count": 225,
   "id": "0011d4d9-8299-4b48-8b77-43cb54a0e76c",
   "metadata": {},
   "outputs": [
    {
     "name": "stdout",
     "output_type": "stream",
     "text": [
      "2550\n"
     ]
    }
   ],
   "source": [
    "### 짝수의 합을 구하시오\n",
    "sum = 0\n",
    "i = 0\n",
    "while i <= 99:\n",
    "    i += 1\n",
    "    if i % 2 != 0:\n",
    "        continue\n",
    "    sum = sum + i\n",
    "print(sum)\n",
    "sum = 0\n",
    "i = 0\n",
    "while i <= 99:\n",
    "    i += 1\n",
    "    if i % 2 == 0:\n",
    "        sum = sum + i\n",
    "print(sum)"
   ]
  },
  {
   "cell_type": "code",
   "execution_count": 228,
   "id": "58a3dd97-b78e-4be1-b841-319c9d10e718",
   "metadata": {},
   "outputs": [
    {
     "name": "stdout",
     "output_type": "stream",
     "text": [
      "2500\n",
      "2500\n"
     ]
    }
   ],
   "source": [
    "### 홀수의 합을 구하시오\n",
    "sum = 0\n",
    "i = 0\n",
    "while i <= 99:\n",
    "    i += 1\n",
    "    if i % 2 == 0:\n",
    "        continue # while문으로 직행\n",
    "    sum += i\n",
    "print(sum)    \n",
    "sum = 0\n",
    "i = 0\n",
    "while i <= 99:\n",
    "    i += 1\n",
    "    if i % 2 != 0:\n",
    "        sum += i\n",
    "print(sum)"
   ]
  },
  {
   "cell_type": "code",
   "execution_count": 235,
   "id": "6d6004cb-bc2e-4ea6-b0fb-d9935825fe8c",
   "metadata": {},
   "outputs": [
    {
     "name": "stdout",
     "output_type": "stream",
     "text": [
      "5050\n"
     ]
    }
   ],
   "source": [
    "# 1 ~ 100까지의 합\n",
    "i = 1\n",
    "sum1 = 0\n",
    "while True: #무한루프\n",
    "    if i == 101:\n",
    "        break # 종료\n",
    "    sum1 += i\n",
    "    i += 1\n",
    "print(sum1)"
   ]
  },
  {
   "cell_type": "code",
   "execution_count": 245,
   "id": "8ce93e35-3e2a-4e9b-89e3-ad132bdf0c3f",
   "metadata": {},
   "outputs": [
    {
     "name": "stdout",
     "output_type": "stream",
     "text": [
      "1387\n",
      "1387\n",
      "1387\n",
      "2774\n",
      "1387\n"
     ]
    }
   ],
   "source": [
    "###  for문\n",
    "l = [11,223,99,887,78,89]\n",
    "#     0  1   2  3   4  5\n",
    "#리스트에 있는 값에 합을 구하시오.\n",
    "sum1 = 0\n",
    "sum1 = sum1 + l[0]\n",
    "sum1 = sum1 + l[1]\n",
    "sum1 = sum1 + l[2]\n",
    "sum1 = sum1 + l[3]\n",
    "sum1 = sum1 + l[4]\n",
    "sum1 = sum1 + l[5]\n",
    "print(sum1)\n",
    "\n",
    "idx = 0\n",
    "sum1 = 0\n",
    "while idx < len(l):\n",
    "    sum1 = sum1 + l[idx]\n",
    "    idx+=1\n",
    "print(sum1)\n",
    "\n",
    "sum1 = 0\n",
    "# for each\n",
    "for num in l:   # [11,223,99,887,78,89]\n",
    "    sum1 += num\n",
    "print(sum1)\n",
    "\n",
    "sum1 = 0\n",
    "for num in [11,223,99,887,78,89]:   # \n",
    "    sum1 += num\n",
    "print(sum1)\n",
    "\n",
    "sum1 = 0\n",
    "                    # 6\n",
    "for idx in range(0, len(l)):# [0,1,2,3,4,5]\n",
    "    sum1 += l[idx]\n",
    "print(sum1)"
   ]
  },
  {
   "cell_type": "code",
   "execution_count": 246,
   "id": "5f3256c4-cd40-4daf-bbbb-87cf4ac2c7ce",
   "metadata": {},
   "outputs": [
    {
     "name": "stdout",
     "output_type": "stream",
     "text": [
      "5050\n",
      "5050\n"
     ]
    }
   ],
   "source": [
    "# 1 ~ 100까지의 합을 구하시오\n",
    "sum1 = 0\n",
    "i = 1\n",
    "while i < 101:\n",
    "    sum1 += i\n",
    "    i += 1\n",
    "print(sum1)\n",
    "\n",
    "sum1 = 0\n",
    "for i in range(1, 101):\n",
    "    sum1 += i\n",
    "print(sum1)"
   ]
  },
  {
   "cell_type": "code",
   "execution_count": 249,
   "id": "50a3cb09-3abb-40bd-a431-579a661a5d3a",
   "metadata": {},
   "outputs": [
    {
     "name": "stdout",
     "output_type": "stream",
     "text": [
      "2550\n",
      "2550\n"
     ]
    }
   ],
   "source": [
    "# 짝수만 구하시오\n",
    "sum1 = 0\n",
    "i = 0\n",
    "while i < 100:\n",
    "    i += 1\n",
    "    if i % 2 == 0:\n",
    "        sum1 += i\n",
    "print(sum1)\n",
    "\n",
    "sum1 = 0\n",
    "for i in range(1, 101):\n",
    "    if i % 2 == 0:\n",
    "        sum1 += i\n",
    "print(sum1)"
   ]
  },
  {
   "cell_type": "code",
   "execution_count": 251,
   "id": "73de896f-052c-495c-b856-555a05f8b36d",
   "metadata": {},
   "outputs": [
    {
     "name": "stdout",
     "output_type": "stream",
     "text": [
      "2550\n",
      "2550\n"
     ]
    }
   ],
   "source": [
    "# continue\n",
    "sum1 = 0 \n",
    "i = 0\n",
    "while i < 100:\n",
    "    i += 1\n",
    "    if i % 2 != 0:\n",
    "        continue\n",
    "    sum1 += i\n",
    "print(sum1)\n",
    "\n",
    "sum1 = 0\n",
    "for i in range(1, 101):\n",
    "    if i % 2 != 0:\n",
    "        continue\n",
    "    sum1 += i\n",
    "print(sum1)"
   ]
  },
  {
   "cell_type": "code",
   "execution_count": 253,
   "id": "2fc212fd-5677-45be-b2ee-42df468d574f",
   "metadata": {},
   "outputs": [
    {
     "name": "stdout",
     "output_type": "stream",
     "text": [
      "5050\n",
      "5050\n"
     ]
    }
   ],
   "source": [
    "# break\n",
    "sum1 = 0\n",
    "i = 1\n",
    "while True: #무한루프\n",
    "    if i == 101:\n",
    "        break\n",
    "    sum1 += i\n",
    "    i += 1\n",
    "print(sum1)\n",
    "\n",
    "sum1 = 0\n",
    "for i in range(1, 100000):\n",
    "    if i == 101:\n",
    "        break\n",
    "    sum1 += i\n",
    "print(sum1)"
   ]
  },
  {
   "cell_type": "code",
   "execution_count": null,
   "id": "3903fea1-275e-43f7-9f97-a502a7944b43",
   "metadata": {},
   "outputs": [],
   "source": [
    "# 5단\n",
    "gop = 1\n",
    "while gop < 10:\n",
    "    print(f\"5 * {gop} = {5 * gop}\")\n",
    "    gop += 1\n",
    "\n",
    "for gop in range(1, 10):\n",
    "     print(f\"5 * {gop} = {5 * gop}\")"
   ]
  },
  {
   "cell_type": "code",
   "execution_count": 257,
   "id": "8bf95327-9c3b-4bf9-97b5-b86ea65e2deb",
   "metadata": {},
   "outputs": [],
   "source": [
    "# 5단 부터 7단까지\n",
    "for gop in range(1, 10):\n",
    "     print(f\"5 * {gop} = {5 * gop}\")\n",
    "for gop in range(1, 10):\n",
    "     print(f\"6 * {gop} = {6 * gop}\")\n",
    "for gop in range(1, 10):\n",
    "     print(f\"7 * {gop} = {7 * gop}\")"
   ]
  },
  {
   "cell_type": "code",
   "execution_count": null,
   "id": "4449ec2d-2ab1-48b6-9dff-5702670ad918",
   "metadata": {},
   "outputs": [],
   "source": [
    "for dan in range(5, 7+1):\n",
    "    for gop in range(1, 10):\n",
    "         print(f\"{dan} * {gop} = {dan * gop}\")"
   ]
  },
  {
   "cell_type": "code",
   "execution_count": null,
   "id": "97662f6c-fd20-4bac-a5f8-3d4a78f4f8c3",
   "metadata": {},
   "outputs": [],
   "source": [
    "dan = 5\n",
    "while dan < 8:\n",
    "    for gop in range(1, 10):\n",
    "         print(f\"{dan} * {gop} = {dan * gop}\")\n",
    "    dan += 1"
   ]
  },
  {
   "cell_type": "code",
   "execution_count": null,
   "id": "0c08f317-71e2-4e39-82e3-5800a11165f1",
   "metadata": {},
   "outputs": [],
   "source": [
    "startDan = int(input(\"시작단을 입력해주세요. : \"))\n",
    "endDan = int(input(\"마지막단을 입력해주세요. : \"))\n",
    "startGop = int(input(\"시작곱을 입력해주세요. : \"))\n",
    "endGop = int(input(\"마지막곱을 입력해주세요. : \"))\n",
    "for dan in range(startDan, endDan+1):\n",
    "    for gop in range(startGop, endGop + 1):\n",
    "         print(f\"{dan} * {gop} = {dan * gop}\")"
   ]
  },
  {
   "cell_type": "code",
   "execution_count": 308,
   "id": "ee44450b-991b-467e-9cdb-2ddd5223a5d8",
   "metadata": {},
   "outputs": [
    {
     "name": "stdout",
     "output_type": "stream",
     "text": [
      "43, 33, 45, 21, 1, 36, "
     ]
    }
   ],
   "source": [
    "import random\n",
    "lotto = []\n",
    "for i in range(1, 45 + 1):\n",
    "    lotto.append(i)\n",
    "size = len(lotto)\n",
    "for cnt in range(0, 6):\n",
    "    size -= 1\n",
    "    idx = random.randint(0, size)\n",
    "    lottoNum = lotto.pop(idx)\n",
    "    print(lottoNum, end = \", \")"
   ]
  },
  {
   "cell_type": "code",
   "execution_count": 314,
   "id": "59a742fc-250e-4ec2-ac9f-44459c150a20",
   "metadata": {},
   "outputs": [
    {
     "name": "stdin",
     "output_type": "stream",
     "text": [
      "수량을 입력해주세요. :  3\n"
     ]
    },
    {
     "name": "stdout",
     "output_type": "stream",
     "text": [
      "1 번 로또 : 22, 31, 27, 29, 24, 40, \n",
      "2 번 로또 : 11, 10, 27, 26, 25, 16, \n",
      "3 번 로또 : 11, 28, 29, 20, 27, 14, \n"
     ]
    }
   ],
   "source": [
    "import random\n",
    "qty = int(input(\"수량을 입력해주세요. : \"))\n",
    "for y in range(0, qty): \n",
    "    print(f\"{y + 1} 번 로또 : \", end = \"\")\n",
    "    lotto = []\n",
    "    for i in range(1, 45 + 1):\n",
    "        lotto.append(i)\n",
    "    size = len(lotto)\n",
    "    for cnt in range(0, 6):\n",
    "        size -= 1\n",
    "        idx = random.randint(0, size)\n",
    "        lottoNum = lotto.pop(idx)\n",
    "        print(lottoNum, end = \", \")\n",
    "    print()"
   ]
  },
  {
   "cell_type": "code",
   "execution_count": 316,
   "id": "05e714d7-bc20-4ce2-a5d7-95270d928850",
   "metadata": {},
   "outputs": [
    {
     "name": "stdout",
     "output_type": "stream",
     "text": [
      "[1, 2, 3, 4, 5, 6, 7, 8, 9, 10, 11, 12, 13, 14, 15, 16, 17, 18, 19, 20, 21, 22, 23, 24, 25, 26, 27, 28, 29, 30, 31, 32, 33, 34, 35, 36, 37, 38, 39, 40, 41, 42, 43, 44, 45]\n",
      "[1, 2, 3, 4, 5, 6, 7, 8, 9, 10, 11, 12, 13, 14, 15, 16, 17, 18, 19, 20, 21, 22, 23, 24, 25, 26, 27, 28, 29, 30, 31, 32, 33, 34, 35, 36, 37, 38, 39, 40, 41, 42, 43, 44, 45]\n"
     ]
    }
   ],
   "source": [
    "# list comprehension\n",
    "lotto = []\n",
    "for i in range(1, 45 + 1):\n",
    "    lotto.append(i)\n",
    "print(lotto)\n",
    "\n",
    "lotto = [i for i in range(1, 45 + 1) ]\n",
    "print(lotto)\n",
    "\n",
    "lotto = []\n",
    "for i in range(1, 45 + 1):\n",
    "    lotto.append(i * 3)\n",
    "print(lotto)\n",
    "\n",
    "lotto = [i * 3 for i in range(1, 45 + 1)]"
   ]
  },
  {
   "cell_type": "code",
   "execution_count": null,
   "id": "5997458b-d8dd-4355-aed6-5c5798272a04",
   "metadata": {},
   "outputs": [],
   "source": [
    "t = (1,2,3,4)\n",
    "l = []\n",
    "for num in t:\n",
    "    l.append(num * 3)\n",
    "print(l)\n",
    "\n",
    "l = [num * 3 for num in t ]\n",
    "print(l)"
   ]
  },
  {
   "cell_type": "code",
   "execution_count": 323,
   "id": "b90031aa-9b5c-4a7d-93cf-e7e5bed45c08",
   "metadata": {},
   "outputs": [
    {
     "name": "stdout",
     "output_type": "stream",
     "text": [
      "[6, 12, 18, 24]\n",
      "[6, 12, 18, 24]\n"
     ]
    }
   ],
   "source": [
    "t = 1,2,3,4,5,6,7,8,9\n",
    "l = []\n",
    "#튜플에 있는 값중 짝수만 3을 곱해서 리스트에 저장\n",
    "for num in t:\n",
    "    if num % 2 == 0:\n",
    "        l.append(num * 3)\n",
    "print(l)\n",
    "\n",
    "l=[num * 3 for num in t if num % 2 == 0]\n",
    "print(l)"
   ]
  },
  {
   "cell_type": "code",
   "execution_count": null,
   "id": "3097004a-5ff8-476a-b36b-b1cf308fb7af",
   "metadata": {},
   "outputs": [],
   "source": [
    "# 3~ 6단까지의 곱의 값을 리스트에 추가\n",
    "l = []\n",
    "for dan in range(3, 7):\n",
    "    for gop in range(1, 10):\n",
    "        l.append(dan * gop)\n",
    "print(l)\n",
    "\n",
    "l = [ dan * gop for dan in range(3, 7) \n",
    "                for gop in range(1, 10)]\n",
    "print(l)"
   ]
  },
  {
   "cell_type": "code",
   "execution_count": 328,
   "id": "9678f8a4-c8b4-47fe-8765-a4146f46bc1d",
   "metadata": {},
   "outputs": [
    {
     "name": "stdout",
     "output_type": "stream",
     "text": [
      "[6, 12, 18, 24, 4, 8, 12, 16, 20, 24, 28, 32, 36, 10, 20, 30, 40, 6, 12, 18, 24, 30, 36, 42, 48, 54]\n",
      "[6, 12, 18, 24, 4, 8, 12, 16, 20, 24, 28, 32, 36, 10, 20, 30, 40, 6, 12, 18, 24, 30, 36, 42, 48, 54]\n"
     ]
    }
   ],
   "source": [
    "# 3~ 6단까지의 곱의 값이 짝수만 리스트에 추가\n",
    "l = []\n",
    "for dan in range(3, 7):\n",
    "    for gop in range(1, 10):\n",
    "        if dan * gop % 2 == 0:\n",
    "            l.append(dan * gop)\n",
    "print(l)\n",
    "l = [dan * gop for dan in range(3, 7)\n",
    "               for gop in range(1, 10) if dan * gop % 2 == 0 ]\n",
    "print(l)"
   ]
  },
  {
   "cell_type": "code",
   "execution_count": null,
   "id": "f1b8ff54-92f9-4b37-b1de-c40aa8ec8df4",
   "metadata": {},
   "outputs": [],
   "source": [
    "l1 = [(1,2),(3,4),(5,6)]\n",
    "#       0     1     2\n",
    "print(l1[0])\n",
    "print(l1[1])\n",
    "print(l1[2])\n",
    "for num in l1: # [(1,2),(3,4),(5,6)]\n",
    "    print(num) # (1,2), (3,4) ,(5,6)\n",
    "    print(num[0] + num[1])\n",
    "#변수\n",
    "a , b = (1,2)\n",
    "print(a, b)\n",
    "\n",
    "for a, b in l1: # [(1,2),(3,4),(5,6)]\n",
    "    print(a, b)\n",
    "    print(a + b)\n",
    "print()\n",
    "for a, b in  [(1,2),(3,4),(5,6)]:\n",
    "    print(a, b)\n",
    "    print(a + b)\n",
    "print()\n",
    "l2 = [[1,2,3],[4,5,6],[7,8,9]]\n",
    "for a,b,c in l2:\n",
    "    print(a,b,c)\n",
    "    print(a + b + c)\n",
    "'''\n",
    "print()\n",
    "for a,b,c in [[1,2,3],[4,6],[7,8,9,10]]:\n",
    "    print(a,b,c)\n",
    "    print(a + b + c)\n",
    "'''\n",
    "# 크기가 같아야 오류가 생기지 않는다."
   ]
  },
  {
   "cell_type": "code",
   "execution_count": 338,
   "id": "89d2cc81-226f-47d4-9dea-0927338481e5",
   "metadata": {},
   "outputs": [],
   "source": [
    "# 함수(function) : x값에 따른 y값의 변화를 알고 싶을 때\n",
    "'''\n",
    "f(x) = 2x + 3일 때\n",
    "y = f(3)입니다. y값은? 9\n",
    "y = f(5)입니다. y값은? 13\n",
    "'''\n",
    "def f(x): # 피 호출함수 , x : 가인자 , 매개변수 , parameter\n",
    "    return 2*x + 3 # return뒤에 있는 값은 호출함수에게 반환 해준다."
   ]
  },
  {
   "cell_type": "code",
   "execution_count": null,
   "id": "26e80558-1bf2-4c24-b96e-3e46b69e2bc4",
   "metadata": {},
   "outputs": [],
   "source": [
    "y = f(3); # f(3) : 호출함수 ,  3 : 실인자 , argument\n",
    "print(y)"
   ]
  },
  {
   "cell_type": "code",
   "execution_count": null,
   "id": "d3becaff-7411-4554-89e1-677d1332d5ea",
   "metadata": {},
   "outputs": [],
   "source": [
    "y = f(5);\n",
    "print(y)"
   ]
  },
  {
   "cell_type": "code",
   "execution_count": 344,
   "id": "97fb117a-1b3f-48d1-a943-70cb056c40ea",
   "metadata": {},
   "outputs": [],
   "source": [
    "'''\n",
    "f(x1, x2) = 3x1 + 5x2 + 4일 때\n",
    "y = f(3, 4)라면 y값은? \n",
    "'''\n",
    "def f(x1, x2): # 피호출함수 , x1, x2 : 가인자, 매개변수, parameter\n",
    "    return 3*x1 + 5*x2 + 4"
   ]
  },
  {
   "cell_type": "code",
   "execution_count": 345,
   "id": "ae0d3985-b0d0-4cd4-9ee8-045a794ec89a",
   "metadata": {},
   "outputs": [
    {
     "name": "stdout",
     "output_type": "stream",
     "text": [
      "33\n",
      "51\n"
     ]
    }
   ],
   "source": [
    "y = f(3, 4); # f(3, 4) : 호출함수 , 3, 4:인자 , argument\n",
    "print(y)\n",
    "y = f(4, 7);print(y)\n",
    "### argument는 parameter에 전달된다.\n",
    "### argument와 parameter는 1대1 대응\n",
    "### argument와 parameter의 갯수는 같아야 한다.\n",
    "### 호출함수가 실행하기 위해서는 피호출함수는 먼저 정의되어 있어야한다.\n",
    "### 피호출함수를 샐행 하려면 같은 이름의 호출함수를 사용한다.\n",
    "### return문 뒤에 있는 값은 호출함수에게 전달된다.\n",
    "'''함수 문법\n",
    "def  함수명(parameter1, parameter2, parameter3,..., parametr_n):\n",
    "    명령어1\n",
    "    명령어2\n",
    "    명령어3\n",
    "    ...\n",
    "    명령어n\n",
    "    return 결과값\n",
    "\n",
    "변수 =   함수명(argument1, argument2, argument3,..., argument_n)\n",
    "print(변수)\n",
    "'''"
   ]
  },
  {
   "cell_type": "code",
   "execution_count": 346,
   "id": "ccfb3c91-0a32-45a9-8384-5419c55fa705",
   "metadata": {},
   "outputs": [],
   "source": [
    "def add(x1, x2):\n",
    "    return x1 + x2"
   ]
  },
  {
   "cell_type": "code",
   "execution_count": 348,
   "id": "56658495-5c21-4163-87be-703c1ba81940",
   "metadata": {},
   "outputs": [
    {
     "name": "stdout",
     "output_type": "stream",
     "text": [
      "8\n"
     ]
    }
   ],
   "source": [
    "result = add(3, 5)\n",
    "print(result)"
   ]
  },
  {
   "cell_type": "code",
   "execution_count": 349,
   "id": "ce768d52-d259-442e-9877-4389fa8363cb",
   "metadata": {},
   "outputs": [
    {
     "name": "stdout",
     "output_type": "stream",
     "text": [
      "3 * 1 = 3\n",
      "3 * 2 = 6\n",
      "3 * 3 = 9\n",
      "3 * 4 = 12\n",
      "3 * 5 = 15\n",
      "3 * 6 = 18\n",
      "3 * 7 = 21\n",
      "3 * 8 = 24\n",
      "3 * 9 = 27\n"
     ]
    }
   ],
   "source": [
    "#3단\n",
    "for gop in range(1, 9 + 1):\n",
    "    print(f\"3 * {gop} = {3 * gop}\")"
   ]
  },
  {
   "cell_type": "code",
   "execution_count": 350,
   "id": "5ea8d420-0017-4175-86d9-38594ef9cabe",
   "metadata": {},
   "outputs": [],
   "source": [
    "### 반복적으로 사용해야 하는 명령어가 있는 경우 정의해 놓고 사용하면 편하다.\n",
    "def dan3():\n",
    "    for gop in range(1, 9 + 1):\n",
    "        print(f\"3 * {gop} = {3 * gop}\")"
   ]
  },
  {
   "cell_type": "code",
   "execution_count": 358,
   "id": "5475a1dc-162b-4b20-89a1-b0097539f922",
   "metadata": {},
   "outputs": [
    {
     "name": "stdout",
     "output_type": "stream",
     "text": [
      "3 * 1 = 3\n",
      "3 * 2 = 6\n",
      "3 * 3 = 9\n",
      "3 * 4 = 12\n",
      "3 * 5 = 15\n",
      "3 * 6 = 18\n",
      "3 * 7 = 21\n",
      "3 * 8 = 24\n",
      "3 * 9 = 27\n"
     ]
    }
   ],
   "source": [
    "dan3()"
   ]
  },
  {
   "cell_type": "code",
   "execution_count": 360,
   "id": "7e61843b-632f-4c8b-becd-491309a0e3ac",
   "metadata": {},
   "outputs": [],
   "source": [
    "# 함수의 형태는 입력값과 리턴값의 존재 유무에 따라 4가지 유형으로 나뉜다\n",
    "# 1. 입력값(parameter)이 있고 출력값(return)도 있는 경우 :기본 유형\n",
    "def add(x1 , x2): # \n",
    "    return x1 + x2"
   ]
  },
  {
   "cell_type": "code",
   "execution_count": 361,
   "id": "6f75cd0f-9942-42a3-bf17-fbeac80a00f5",
   "metadata": {},
   "outputs": [
    {
     "name": "stdout",
     "output_type": "stream",
     "text": [
      "7\n"
     ]
    }
   ],
   "source": [
    "result = add(3, 4)\n",
    "print(result)"
   ]
  },
  {
   "cell_type": "code",
   "execution_count": 364,
   "id": "fdef6778-5cec-409a-9c17-49305aa27094",
   "metadata": {},
   "outputs": [
    {
     "name": "stdin",
     "output_type": "stream",
     "text": [
      "숫자를 입력해 주세요 5\n",
      "숫자를 입력해 주세요 8\n"
     ]
    },
    {
     "name": "stdout",
     "output_type": "stream",
     "text": [
      "13\n"
     ]
    }
   ],
   "source": [
    "i1 = int(input(\"숫자를 입력해 주세요\"))\n",
    "i2 = int(input(\"숫자를 입력해 주세요\"))\n",
    "result = add(i1, i2)\n",
    "print(result)"
   ]
  },
  {
   "cell_type": "code",
   "execution_count": 365,
   "id": "f81f66e3-8cb2-44fe-95e7-3dc29f728240",
   "metadata": {},
   "outputs": [],
   "source": [
    "# 2. 입력값(parameter)은 없고 출력값(return)만 있는 경우\n",
    "def add():\n",
    "    x1 = 3\n",
    "    x2 = 4\n",
    "    return x1 + x2"
   ]
  },
  {
   "cell_type": "code",
   "execution_count": 366,
   "id": "644953f2-df27-43ff-b9f4-6998cc39b529",
   "metadata": {},
   "outputs": [
    {
     "name": "stdout",
     "output_type": "stream",
     "text": [
      "7\n"
     ]
    }
   ],
   "source": [
    "result = add()\n",
    "print(result)"
   ]
  },
  {
   "cell_type": "code",
   "execution_count": 367,
   "id": "69daecc9-5483-4fe4-b751-cb4e5f0489cd",
   "metadata": {},
   "outputs": [],
   "source": [
    "def add():\n",
    "    x1 = int(input(\"숫자를 입력해 주세요\"))\n",
    "    x2 = int(input(\"숫자를 입력해 주세요\"))\n",
    "    return x1 + x2"
   ]
  },
  {
   "cell_type": "code",
   "execution_count": 368,
   "id": "ff7c24a9-0e47-4e8c-ac54-b830964495d6",
   "metadata": {},
   "outputs": [
    {
     "name": "stdin",
     "output_type": "stream",
     "text": [
      "숫자를 입력해 주세요 3\n",
      "숫자를 입력해 주세요 6\n"
     ]
    },
    {
     "name": "stdout",
     "output_type": "stream",
     "text": [
      "9\n"
     ]
    }
   ],
   "source": [
    "result = add()\n",
    "print(result)"
   ]
  },
  {
   "cell_type": "code",
   "execution_count": 369,
   "id": "b8d10169-f272-41ce-b0a3-bf11bca7525e",
   "metadata": {},
   "outputs": [],
   "source": [
    "# 3. 입력값(parameter)은 있고 출력값(return)이 없는 경우\n",
    "def add(x1, x2):\n",
    "    print(x1 + x2)"
   ]
  },
  {
   "cell_type": "code",
   "execution_count": 370,
   "id": "402e4a0a-ae82-41ab-b644-907155343f30",
   "metadata": {},
   "outputs": [
    {
     "name": "stdout",
     "output_type": "stream",
     "text": [
      "7\n"
     ]
    }
   ],
   "source": [
    "add(3, 4)"
   ]
  },
  {
   "cell_type": "code",
   "execution_count": 371,
   "id": "6865360a-9b9a-4d4a-b947-e87f00ac6ea1",
   "metadata": {},
   "outputs": [
    {
     "name": "stdin",
     "output_type": "stream",
     "text": [
      "숫자를 입력해 주세요 3\n",
      "숫자를 입력해 주세요 5\n"
     ]
    },
    {
     "name": "stdout",
     "output_type": "stream",
     "text": [
      "8\n"
     ]
    }
   ],
   "source": [
    "i1 = int(input(\"숫자를 입력해 주세요\"))\n",
    "i2 = int(input(\"숫자를 입력해 주세요\"))\n",
    "add(i1, i2)"
   ]
  },
  {
   "cell_type": "code",
   "execution_count": 372,
   "id": "76d11705-1976-4d16-989c-745546f074bd",
   "metadata": {},
   "outputs": [],
   "source": [
    "# 4. 입력값(parameter)이 없고 출력값(return)도 없는 경우\n",
    "def add():\n",
    "    x1 = 3\n",
    "    x2 = 4\n",
    "    print(x1 + x2)"
   ]
  },
  {
   "cell_type": "code",
   "execution_count": 373,
   "id": "e864ca82-d558-4fa4-8915-0502f04d5604",
   "metadata": {},
   "outputs": [
    {
     "name": "stdout",
     "output_type": "stream",
     "text": [
      "7\n"
     ]
    }
   ],
   "source": [
    "add()"
   ]
  },
  {
   "cell_type": "code",
   "execution_count": 374,
   "id": "96e7f401-28f4-436b-9452-ad0eb04ab128",
   "metadata": {},
   "outputs": [],
   "source": [
    "def add():\n",
    "    x1 = int(input(\"숫자를 입력해 주세요\"))\n",
    "    x2 = int(input(\"숫자를 입력해 주세요\"))\n",
    "    print(x1 + x2)"
   ]
  },
  {
   "cell_type": "code",
   "execution_count": 375,
   "id": "5a077db3-dd9a-453f-a38a-12d488b40c0e",
   "metadata": {},
   "outputs": [
    {
     "name": "stdin",
     "output_type": "stream",
     "text": [
      "숫자를 입력해 주세요 3\n",
      "숫자를 입력해 주세요 4\n"
     ]
    },
    {
     "name": "stdout",
     "output_type": "stream",
     "text": [
      "7\n"
     ]
    }
   ],
   "source": [
    "add()"
   ]
  },
  {
   "cell_type": "code",
   "execution_count": 382,
   "id": "46326264-2eaa-408c-a782-9a5981e9e838",
   "metadata": {},
   "outputs": [],
   "source": [
    "def guguDan():\n",
    "    for dan in range(2, 5 + 1):\n",
    "        for gop in range(1, 9 + 1):\n",
    "            print(f\"{dan} * {gop} = {dan * gop}\")"
   ]
  },
  {
   "cell_type": "code",
   "execution_count": null,
   "id": "0c8d940c-b0db-4db6-a562-10344a76dde1",
   "metadata": {},
   "outputs": [],
   "source": [
    "guguDan()"
   ]
  },
  {
   "cell_type": "code",
   "execution_count": 386,
   "id": "6d6f22ad-2430-4ec8-a6f8-81849d1d17fb",
   "metadata": {},
   "outputs": [],
   "source": [
    "def guguDan():\n",
    "    startDan = int(input(\"시작단을 입력해 주세요. : \"))\n",
    "    endDan = int(input(\"마지막단을 입력해 주세요. : \"))\n",
    "    stratGop = int(input(\"시작곱을 입력해 주세요. : \"))\n",
    "    endGop = int(input(\"마지막곱을 입력해 주세요. : \"))\n",
    "    for dan in range(startDan, endDan + 1):\n",
    "        for gop in range(stratGop, endGop + 1):\n",
    "            print(f\"{dan} * {gop} = {dan * gop}\")"
   ]
  },
  {
   "cell_type": "code",
   "execution_count": null,
   "id": "4a990e7e-3319-466f-acde-e8cae0b382b9",
   "metadata": {},
   "outputs": [],
   "source": [
    "guguDan()"
   ]
  },
  {
   "cell_type": "code",
   "execution_count": 390,
   "id": "4ec9195b-f90d-4791-b157-c11fbac42a55",
   "metadata": {},
   "outputs": [],
   "source": [
    "def guguDan(startDan,endDan,stratGop, endGop):\n",
    "    for dan in range(startDan, endDan + 1):\n",
    "        for gop in range(stratGop, endGop + 1):\n",
    "            print(f\"{dan} * {gop} = {dan * gop}\")"
   ]
  },
  {
   "cell_type": "code",
   "execution_count": 391,
   "id": "ca9b034a-b9fd-4d6f-8fcb-7dec232a0f83",
   "metadata": {},
   "outputs": [
    {
     "name": "stdin",
     "output_type": "stream",
     "text": [
      "시작단을 입력해 주세요. :  2\n",
      "마지막단을 입력해 주세요. :  4\n",
      "시작곱을 입력해 주세요. :  2\n",
      "마지막곱을 입력해 주세요. :  4\n"
     ]
    },
    {
     "name": "stdout",
     "output_type": "stream",
     "text": [
      "2 * 2 = 4\n",
      "2 * 3 = 6\n",
      "2 * 4 = 8\n",
      "3 * 2 = 6\n",
      "3 * 3 = 9\n",
      "3 * 4 = 12\n",
      "4 * 2 = 8\n",
      "4 * 3 = 12\n",
      "4 * 4 = 16\n"
     ]
    }
   ],
   "source": [
    "startDan = int(input(\"시작단을 입력해 주세요. : \"))\n",
    "endDan = int(input(\"마지막단을 입력해 주세요. : \"))\n",
    "stratGop = int(input(\"시작곱을 입력해 주세요. : \"))\n",
    "endGop = int(input(\"마지막곱을 입력해 주세요. : \"))\n",
    "guguDan(startDan,endDan,stratGop,endGop)"
   ]
  },
  {
   "cell_type": "code",
   "execution_count": 393,
   "id": "149bf830-f9db-4fe4-83a5-4c2c9497399b",
   "metadata": {},
   "outputs": [],
   "source": [
    "def lotto():\n",
    "    qty = int(input(\"수량을 입력해주세요. : \"))\n",
    "    for y in range(0, qty): \n",
    "        print(f\"{y + 1} 번 로또 : \", end = \"\")\n",
    "        lotto = []\n",
    "        for i in range(1, 45 + 1):\n",
    "            lotto.append(i)\n",
    "        size = len(lotto)\n",
    "        for cnt in range(0, 6):\n",
    "            size -= 1\n",
    "            idx = random.randint(0, size)\n",
    "            lottoNum = lotto.pop(idx)\n",
    "            print(lottoNum, end = \", \")\n",
    "        print()"
   ]
  },
  {
   "cell_type": "code",
   "execution_count": 394,
   "id": "0458b4ba-1724-4bf1-89c8-0ec59daaf198",
   "metadata": {},
   "outputs": [
    {
     "name": "stdin",
     "output_type": "stream",
     "text": [
      "수량을 입력해주세요. :  5\n"
     ]
    },
    {
     "name": "stdout",
     "output_type": "stream",
     "text": [
      "1 번 로또 : 26, 9, 33, 21, 40, 42, \n",
      "2 번 로또 : 16, 32, 9, 19, 21, 45, \n",
      "3 번 로또 : 41, 16, 17, 15, 44, 8, \n",
      "4 번 로또 : 18, 42, 2, 44, 3, 17, \n",
      "5 번 로또 : 4, 35, 19, 17, 36, 6, \n"
     ]
    }
   ],
   "source": [
    "lotto()"
   ]
  },
  {
   "cell_type": "code",
   "execution_count": 395,
   "id": "72ed5cfe-cee0-48cc-bd6c-d6717d5b2a33",
   "metadata": {},
   "outputs": [],
   "source": [
    "def lotto(qty):\n",
    "    for y in range(0, qty): \n",
    "        print(f\"{y + 1} 번 로또 : \", end = \"\")\n",
    "        lotto = []\n",
    "        for i in range(1, 45 + 1):\n",
    "            lotto.append(i)\n",
    "        size = len(lotto)\n",
    "        for cnt in range(0, 6):\n",
    "            size -= 1\n",
    "            idx = random.randint(0, size)\n",
    "            lottoNum = lotto.pop(idx)\n",
    "            print(lottoNum, end = \", \")\n",
    "        print()"
   ]
  },
  {
   "cell_type": "code",
   "execution_count": 397,
   "id": "0e1b4f54-9497-450e-a3dd-da528ef42fc6",
   "metadata": {},
   "outputs": [
    {
     "name": "stdin",
     "output_type": "stream",
     "text": [
      "수량을 입력해 주세요. :  3\n"
     ]
    },
    {
     "name": "stdout",
     "output_type": "stream",
     "text": [
      "1 번 로또 : 45, 3, 27, 1, 24, 25, \n",
      "2 번 로또 : 1, 30, 38, 3, 18, 12, \n",
      "3 번 로또 : 18, 29, 20, 2, 9, 37, \n"
     ]
    }
   ],
   "source": [
    "qty = int(input(\"수량을 입력해 주세요. : \"))\n",
    "lotto(qty)"
   ]
  },
  {
   "cell_type": "code",
   "execution_count": 400,
   "id": "f15315fc-9b48-41b3-bbb0-dbe4d81e8a05",
   "metadata": {},
   "outputs": [],
   "source": [
    "# parameter이름을 이용해서 값을 전달\n",
    "def sum12(start, end):\n",
    "    sum1 = 0\n",
    "    for num in range(start,end+1):\n",
    "        sum1 += num\n",
    "    print(sum1)"
   ]
  },
  {
   "cell_type": "code",
   "execution_count": 402,
   "id": "0f374f47-ecd1-4292-a950-4c8c448c3337",
   "metadata": {},
   "outputs": [
    {
     "name": "stdout",
     "output_type": "stream",
     "text": [
      "5050\n"
     ]
    }
   ],
   "source": [
    "sum12(start = 1, end = 100)"
   ]
  },
  {
   "cell_type": "code",
   "execution_count": 404,
   "id": "5b7fb3e7-98bd-402a-8949-a94dbb5375a8",
   "metadata": {},
   "outputs": [
    {
     "name": "stdout",
     "output_type": "stream",
     "text": [
      "5050\n"
     ]
    }
   ],
   "source": [
    "sum12(1 , 100) # 매개변수의 순서와 인자의 순서가 서로 일치 해야한다."
   ]
  },
  {
   "cell_type": "code",
   "execution_count": 405,
   "id": "dd680fc8-8b82-4fd4-a519-130e91569e06",
   "metadata": {},
   "outputs": [
    {
     "name": "stdout",
     "output_type": "stream",
     "text": [
      "5050\n"
     ]
    }
   ],
   "source": [
    "sum12( end = 100, start = 1) # 인자의 순서가 필요 없다"
   ]
  },
  {
   "cell_type": "code",
   "execution_count": 407,
   "id": "7552db43-99d0-4ff9-9d13-2b08423ff289",
   "metadata": {},
   "outputs": [],
   "source": [
    "def calc(x1, x2, opt):\n",
    "    if opt == \"add\":\n",
    "        result = x1 + x2\n",
    "    elif opt == \"sub\":\n",
    "        result = x1 - x2\n",
    "    elif opt == \"mul\":\n",
    "        result = x1 * x2\n",
    "    else:\n",
    "        result = x1 / x2\n",
    "    return result"
   ]
  },
  {
   "cell_type": "code",
   "execution_count": 408,
   "id": "0961ec77-699a-4796-bfb5-659aca3457e4",
   "metadata": {},
   "outputs": [
    {
     "name": "stdout",
     "output_type": "stream",
     "text": [
      "30\n"
     ]
    }
   ],
   "source": [
    "y = calc(10, 20, \"add\")\n",
    "print(y)"
   ]
  },
  {
   "cell_type": "code",
   "execution_count": 410,
   "id": "ddc8cc51-c782-4509-a6de-a4ab4713f3d5",
   "metadata": {},
   "outputs": [
    {
     "name": "stdout",
     "output_type": "stream",
     "text": [
      "10\n"
     ]
    }
   ],
   "source": [
    "y = calc( opt= \"sub\" , x1 = 20, x2=10)\n",
    "print(y)"
   ]
  },
  {
   "cell_type": "code",
   "execution_count": 411,
   "id": "f22dd194-2f55-4ba9-a59f-d6612c397972",
   "metadata": {},
   "outputs": [
    {
     "name": "stdout",
     "output_type": "stream",
     "text": [
      "20\n"
     ]
    }
   ],
   "source": [
    "y = calc(10, opt= \"mul\", x2 = 2)\n",
    "print(y)"
   ]
  },
  {
   "cell_type": "code",
   "execution_count": null,
   "id": "d32b01db-64b1-4a0b-9046-871b8da13c56",
   "metadata": {},
   "outputs": [],
   "source": [
    "'''\n",
    "y = calc(10, opt= \"mul\", 2)\n",
    "print(y)\n",
    "'''# 오류 발생"
   ]
  },
  {
   "cell_type": "code",
   "execution_count": 424,
   "id": "37737fdb-af88-428a-a230-00fdefb74b6e",
   "metadata": {},
   "outputs": [],
   "source": [
    "# 같은 이름의; 함수명을 여러개 만들 수 없다\n",
    "# 변수명이나 함수명은 유일해야 한다.\n",
    "def sum11(* param): ### *연산자 : 매개변수를 튜플로 정의 해주는 연산자.\n",
    "    print(param)"
   ]
  },
  {
   "cell_type": "code",
   "execution_count": 425,
   "id": "f0d55868-f787-4699-aa10-77b798014ec2",
   "metadata": {},
   "outputs": [
    {
     "name": "stdout",
     "output_type": "stream",
     "text": [
      "(1, 2)\n",
      "(1, 2, 3)\n",
      "(1, 2, 3, 4, 5, 6, 7)\n"
     ]
    }
   ],
   "source": [
    "sum11(1,2)\n",
    "sum11(1,2,3)\n",
    "sum11(1,2,3,4,5,6,7)"
   ]
  },
  {
   "cell_type": "code",
   "execution_count": 429,
   "id": "25345c55-40b7-45ab-bccc-f5fbb73fd276",
   "metadata": {},
   "outputs": [],
   "source": [
    "def sum14(opt, * param):\n",
    "    result = 10\n",
    "    if  opt == \"add\":\n",
    "        for i in param:\n",
    "            result += i\n",
    "    elif opt == \"sub\":\n",
    "        for i in param:\n",
    "            result -= i\n",
    "    elif opt == \"mul\":\n",
    "        for i in param:\n",
    "            result *= i\n",
    "    else:\n",
    "        for i in param:\n",
    "            result /= i\n",
    "    print(result)"
   ]
  },
  {
   "cell_type": "code",
   "execution_count": 430,
   "id": "c921c7cc-96ff-4bf3-ac09-3aa40461321d",
   "metadata": {},
   "outputs": [
    {
     "name": "stdout",
     "output_type": "stream",
     "text": [
      "34\n",
      "403200\n"
     ]
    }
   ],
   "source": [
    "sum14('add',2,4,5,6,7)\n",
    "sum14('mul',2,3,4,5,6,7,8)"
   ]
  },
  {
   "cell_type": "code",
   "execution_count": 432,
   "id": "e9ea17c2-785e-4c5a-b3e3-5f299e51a8ee",
   "metadata": {},
   "outputs": [],
   "source": [
    "def dic1(** args):\n",
    "    print(args)"
   ]
  },
  {
   "cell_type": "code",
   "execution_count": 434,
   "id": "1f685bed-28cf-498f-af89-0bfe74a4fc99",
   "metadata": {},
   "outputs": [
    {
     "name": "stdout",
     "output_type": "stream",
     "text": [
      "{'a': 1}\n"
     ]
    }
   ],
   "source": [
    "dic1(a = 1)"
   ]
  },
  {
   "cell_type": "code",
   "execution_count": 436,
   "id": "c05bf6e3-a28e-451a-892a-5a9d9dd0c4bc",
   "metadata": {},
   "outputs": [
    {
     "name": "stdout",
     "output_type": "stream",
     "text": [
      "{'a': 1, 'b': '이', 'age': 3}\n"
     ]
    }
   ],
   "source": [
    "dic1(a = 1, b ='이', age = 3)"
   ]
  },
  {
   "cell_type": "code",
   "execution_count": 437,
   "id": "bc6cfdac-b2f6-4c7d-a6fb-9c3db3e55bef",
   "metadata": {},
   "outputs": [],
   "source": [
    "# 함수의 리턴값은 언제나 하나이다\n",
    "def add_mul(x, y):\n",
    "    i = x + y\n",
    "    j = x * y\n",
    "    return i , j # 두개 이상의 값을 전달하기 위해서 튜플로 묶어서 전달"
   ]
  },
  {
   "cell_type": "code",
   "execution_count": 439,
   "id": "eab98d87-e3af-48fd-b0b3-0de52376402d",
   "metadata": {},
   "outputs": [
    {
     "name": "stdout",
     "output_type": "stream",
     "text": [
      "(7, 12)\n"
     ]
    }
   ],
   "source": [
    "result = add_mul(3, 4)\n",
    "print(result)"
   ]
  },
  {
   "cell_type": "code",
   "execution_count": 442,
   "id": "aabb1f85-fbab-435b-aecc-4da3f5120c15",
   "metadata": {},
   "outputs": [],
   "source": [
    "def add_mul(x, y):\n",
    "    i = x + y\n",
    "    j = x * y\n",
    "    return i# return은 함수종료의 의미도 있다. 첫번째 return값만 전달이 된다.\n",
    "    return j"
   ]
  },
  {
   "cell_type": "code",
   "execution_count": 443,
   "id": "f2291877-1cdc-4316-93bb-cd9eb4434cb2",
   "metadata": {},
   "outputs": [
    {
     "name": "stdout",
     "output_type": "stream",
     "text": [
      "7\n"
     ]
    }
   ],
   "source": [
    "result = add_mul(3, 4)\n",
    "print(result)"
   ]
  },
  {
   "cell_type": "code",
   "execution_count": null,
   "id": "a7719e8c-8573-45eb-b411-9e818011c5cb",
   "metadata": {},
   "outputs": [],
   "source": []
  },
  {
   "cell_type": "code",
   "execution_count": null,
   "id": "cca835ea-a70e-4694-89e5-a4a4883fbd93",
   "metadata": {},
   "outputs": [],
   "source": []
  },
  {
   "cell_type": "code",
   "execution_count": null,
   "id": "2a93fed1-52e8-42a7-b85a-9321066d962e",
   "metadata": {},
   "outputs": [],
   "source": []
  }
 ],
 "metadata": {
  "kernelspec": {
   "display_name": "Python 3 (ipykernel)",
   "language": "python",
   "name": "python3"
  },
  "language_info": {
   "codemirror_mode": {
    "name": "ipython",
    "version": 3
   },
   "file_extension": ".py",
   "mimetype": "text/x-python",
   "name": "python",
   "nbconvert_exporter": "python",
   "pygments_lexer": "ipython3",
   "version": "3.12.0"
  }
 },
 "nbformat": 4,
 "nbformat_minor": 5
}
